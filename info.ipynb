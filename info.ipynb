{
 "cells": [
  {
   "cell_type": "code",
   "execution_count": 1,
   "metadata": {},
   "outputs": [],
   "source": [
    "import pandas as pd\n",
    "import json"
   ]
  },
  {
   "cell_type": "code",
   "execution_count": 4,
   "metadata": {},
   "outputs": [],
   "source": [
    "\n",
    "data = json.load(open('dataset.json'))"
   ]
  },
  {
   "cell_type": "code",
   "execution_count": 32,
   "metadata": {},
   "outputs": [],
   "source": [
    "filters = pd.DataFrame()"
   ]
  },
  {
   "cell_type": "code",
   "execution_count": 118,
   "metadata": {},
   "outputs": [],
   "source": [
    "def filter_data(json_data, probability):\n",
    "    filtered_topics = {}\n",
    "    for a in json_data['topics']:\n",
    "        results = json_data['topics'][a]\n",
    "        each_file = pd.DataFrame(results)\n",
    "        results = each_file[each_file['score']>=probability]\n",
    "        filtered_topics[a]= {\n",
    "            \"spans\": results['spans'].to_list(),\n",
    "            \"score\": results['score'].to_list()\n",
    "    }\n",
    "    return filtered_topics"
   ]
  },
  {
   "cell_type": "code",
   "execution_count": 119,
   "metadata": {},
   "outputs": [
    {
     "data": {
      "text/plain": [
       "'Avoid The mitigate/transfer/accept approaches assume that you do not want to change your organizations goals. If those three approaches are not feasible for you, then you may want to avoid a risk by narrowing  goals that are related to this risk. Avoiding is about being out of the risk altogether so it will not affect  you. Typically, avoiding a risk involves eliminating its root cause. However, since your organization by  itself will not stop climate change from occurring, and since you cannot relocate your place, avoiding  a risk in this context would require a shift in your organizations operations or goals so that you are no  longer exposed to that risk. For example, if one of your goals is to maintain some resource, but you  conclude that climate change is making that a lost cause, you could relinquish that goal. Avoiding a  risk does not mean the impact to the resource or to your place goes awaythis is an administrative  handling of risk in which you move away from this objective and you will no longer put resources toward  it. Avoiding a risk may be a radical move for an organization: you will be pulling back from work that you thought was important. Reserve this approach for risks that will not be mitigated (by you or others) and  where accepting the risk is a bad proposition.'"
      ]
     },
     "execution_count": 119,
     "metadata": {},
     "output_type": "execute_result"
    }
   ],
   "source": [
    "data['raw_text']"
   ]
  },
  {
   "cell_type": "code",
   "execution_count": 89,
   "metadata": {},
   "outputs": [
    {
     "data": {
      "text/plain": [
       "[('transfer', [19, 27]),\n",
       " ('transfer', [19, 27]),\n",
       " ('transfer', [19, 27]),\n",
       " ('change', [77, 83]),\n",
       " ('change', [77, 83]),\n",
       " ('change', [77, 83]),\n",
       " ('risk', [191, 195]),\n",
       " ('risk', [191, 195]),\n",
       " ('risk', [191, 195]),\n",
       " ('risk', [241, 245]),\n",
       " ('risk', [241, 245]),\n",
       " ('risk', [241, 245]),\n",
       " ('risk', [282, 286]),\n",
       " ('risk', [282, 286]),\n",
       " ('risk', [282, 286]),\n",
       " ('risk', [348, 352]),\n",
       " ('risk', [348, 352]),\n",
       " ('risk', [348, 352]),\n",
       " ('', [553, 537]),\n",
       " ('', [553, 537]),\n",
       " ('', [553, 537]),\n",
       " ('risk.', [661, 666]),\n",
       " ('risk.', [661, 666]),\n",
       " ('risk.', [661, 666]),\n",
       " ('risk', [842, 846]),\n",
       " ('risk', [842, 846]),\n",
       " ('risk', [842, 846]),\n",
       " ('risk', [953, 957]),\n",
       " ('risk', [953, 957]),\n",
       " ('risk', [953, 957]),\n",
       " ('risk', [1061, 1065]),\n",
       " ('risk', [1061, 1065]),\n",
       " ('risk', [1061, 1065]),\n",
       " ('risk', [1202, 1206]),\n",
       " ('risk', [1202, 1206]),\n",
       " ('risk', [1202, 1206]),\n",
       " ('risk', [1279, 1283]),\n",
       " ('risk', [1279, 1283]),\n",
       " ('risk', [1279, 1283])]"
      ]
     },
     "execution_count": 89,
     "metadata": {},
     "output_type": "execute_result"
    }
   ],
   "source": [
    "[(data['raw_text'][b[0]:b[1]], b) for b in data['topics'][a]['spans'] for a in data['topics']]"
   ]
  },
  {
   "cell_type": "code",
   "execution_count": 90,
   "metadata": {},
   "outputs": [],
   "source": [
    "words = []\n",
    "for a in data['topics']:\n",
    "    for b in data['topics'][a]['spans']:\n",
    "            words.append(data['raw_text'][b[0]:b[1]])"
   ]
  },
  {
   "cell_type": "code",
   "execution_count": 92,
   "metadata": {},
   "outputs": [],
   "source": []
  },
  {
   "cell_type": "code",
   "execution_count": 72,
   "metadata": {},
   "outputs": [
    {
     "ename": "TypeError",
     "evalue": "string indices must be integers",
     "output_type": "error",
     "traceback": [
      "\u001b[1;31m---------------------------------------------------------------------------\u001b[0m",
      "\u001b[1;31mTypeError\u001b[0m                                 Traceback (most recent call last)",
      "\u001b[1;32m~\\AppData\\Local\\Temp\\ipykernel_37440\\4045229519.py\u001b[0m in \u001b[0;36m<module>\u001b[1;34m\u001b[0m\n\u001b[1;32m----> 1\u001b[1;33m \u001b[1;33m[\u001b[0m\u001b[0mdata\u001b[0m\u001b[1;33m[\u001b[0m\u001b[1;34m'raw_text'\u001b[0m\u001b[1;33m]\u001b[0m\u001b[1;33m[\u001b[0m\u001b[0ma\u001b[0m\u001b[1;33m]\u001b[0m \u001b[1;32mfor\u001b[0m \u001b[0ma\u001b[0m \u001b[1;32min\u001b[0m \u001b[0mdata\u001b[0m\u001b[1;33m[\u001b[0m\u001b[1;34m'topics'\u001b[0m\u001b[1;33m]\u001b[0m\u001b[1;33m[\u001b[0m\u001b[1;34m'8'\u001b[0m\u001b[1;33m]\u001b[0m\u001b[1;33m[\u001b[0m\u001b[1;34m'spans'\u001b[0m\u001b[1;33m]\u001b[0m\u001b[1;33m]\u001b[0m\u001b[1;33m\u001b[0m\u001b[1;33m\u001b[0m\u001b[0m\n\u001b[0m",
      "\u001b[1;32m~\\AppData\\Local\\Temp\\ipykernel_37440\\4045229519.py\u001b[0m in \u001b[0;36m<listcomp>\u001b[1;34m(.0)\u001b[0m\n\u001b[1;32m----> 1\u001b[1;33m \u001b[1;33m[\u001b[0m\u001b[0mdata\u001b[0m\u001b[1;33m[\u001b[0m\u001b[1;34m'raw_text'\u001b[0m\u001b[1;33m]\u001b[0m\u001b[1;33m[\u001b[0m\u001b[0ma\u001b[0m\u001b[1;33m]\u001b[0m \u001b[1;32mfor\u001b[0m \u001b[0ma\u001b[0m \u001b[1;32min\u001b[0m \u001b[0mdata\u001b[0m\u001b[1;33m[\u001b[0m\u001b[1;34m'topics'\u001b[0m\u001b[1;33m]\u001b[0m\u001b[1;33m[\u001b[0m\u001b[1;34m'8'\u001b[0m\u001b[1;33m]\u001b[0m\u001b[1;33m[\u001b[0m\u001b[1;34m'spans'\u001b[0m\u001b[1;33m]\u001b[0m\u001b[1;33m]\u001b[0m\u001b[1;33m\u001b[0m\u001b[1;33m\u001b[0m\u001b[0m\n\u001b[0m",
      "\u001b[1;31mTypeError\u001b[0m: string indices must be integers"
     ]
    }
   ],
   "source": [
    "[data['raw_text'][a] for a in data['topics']['8']['spans']]"
   ]
  },
  {
   "cell_type": "code",
   "execution_count": 71,
   "metadata": {},
   "outputs": [
    {
     "data": {
      "text/plain": [
       "[[0, 5],\n",
       " [35, 45],\n",
       " [46, 52],\n",
       " [125, 135],\n",
       " [362, 373],\n",
       " [89, 101],\n",
       " [410, 422],\n",
       " [584, 596]]"
      ]
     },
     "execution_count": 71,
     "metadata": {},
     "output_type": "execute_result"
    }
   ],
   "source": [
    "data['topics']['8']['spans']"
   ]
  },
  {
   "cell_type": "code",
   "execution_count": 59,
   "metadata": {},
   "outputs": [
    {
     "data": {
      "text/html": [
       "<div>\n",
       "<style scoped>\n",
       "    .dataframe tbody tr th:only-of-type {\n",
       "        vertical-align: middle;\n",
       "    }\n",
       "\n",
       "    .dataframe tbody tr th {\n",
       "        vertical-align: top;\n",
       "    }\n",
       "\n",
       "    .dataframe thead th {\n",
       "        text-align: right;\n",
       "    }\n",
       "</style>\n",
       "<table border=\"1\" class=\"dataframe\">\n",
       "  <thead>\n",
       "    <tr style=\"text-align: right;\">\n",
       "      <th></th>\n",
       "      <th>spans</th>\n",
       "      <th>score</th>\n",
       "    </tr>\n",
       "  </thead>\n",
       "  <tbody>\n",
       "    <tr>\n",
       "      <th>1</th>\n",
       "      <td>[35, 45]</td>\n",
       "      <td>0.08</td>\n",
       "    </tr>\n",
       "  </tbody>\n",
       "</table>\n",
       "</div>"
      ],
      "text/plain": [
       "      spans  score\n",
       "1  [35, 45]   0.08"
      ]
     },
     "execution_count": 59,
     "metadata": {},
     "output_type": "execute_result"
    }
   ],
   "source": [
    "f=pd.DataFrame(data['topics']['8'])\n",
    "f[f['score']>=0.05]"
   ]
  },
  {
   "cell_type": "code",
   "execution_count": 128,
   "metadata": {},
   "outputs": [],
   "source": [
    "fill = filter_data(data, 0.002)"
   ]
  },
  {
   "cell_type": "code",
   "execution_count": 129,
   "metadata": {},
   "outputs": [
    {
     "data": {
      "text/plain": [
       "{'8': {'spans': [[0, 5],\n",
       "   [35, 45],\n",
       "   [125, 135],\n",
       "   [89, 101],\n",
       "   [410, 422],\n",
       "   [584, 596]],\n",
       "  'score': [0.002, 0.08, 0.0025, 0.00365, 0.0065, 0.03]},\n",
       " '3': {'spans': [[144, 152], [210, 214], [102, 107], [695, 699]],\n",
       "  'score': [0.0065, 0.01036, 0.0872, 0.0685]},\n",
       " '4': {'spans': [[77, 83],\n",
       "   [191, 195],\n",
       "   [241, 245],\n",
       "   [282, 286],\n",
       "   [661, 666],\n",
       "   [842, 846],\n",
       "   [1061, 1065],\n",
       "   [1202, 1206],\n",
       "   [1279, 1283]],\n",
       "  'score': [0.0035,\n",
       "   0.00487,\n",
       "   0.036,\n",
       "   0.0088,\n",
       "   0.00698,\n",
       "   0.077,\n",
       "   0.004,\n",
       "   0.08,\n",
       "   0.006]}}"
      ]
     },
     "execution_count": 129,
     "metadata": {},
     "output_type": "execute_result"
    }
   ],
   "source": [
    "fill"
   ]
  },
  {
   "cell_type": "code",
   "execution_count": 131,
   "metadata": {},
   "outputs": [],
   "source": [
    "def get_words(dat, raw_string):\n",
    "    words = {}\n",
    "    for a in dat.keys():\n",
    "        semi_words = []\n",
    "        for b in dat[a]['spans']:\n",
    "            semi_words.append(raw_string[b[0]:b[1]])\n",
    "        words[a] = semi_words\n",
    "    return words"
   ]
  },
  {
   "cell_type": "code",
   "execution_count": null,
   "metadata": {},
   "outputs": [],
   "source": []
  },
  {
   "cell_type": "code",
   "execution_count": 132,
   "metadata": {},
   "outputs": [
    {
     "data": {
      "text/plain": [
       "{'8': ['Avoid',\n",
       "  'approaches',\n",
       "  'approaches',\n",
       "  'organization',\n",
       "  'organization',\n",
       "  'organization'],\n",
       " '3': ['feasible', 'goal', ' goal', 'goal'],\n",
       " '4': ['change',\n",
       "  'risk',\n",
       "  'risk',\n",
       "  'risk',\n",
       "  'risk.',\n",
       "  'risk',\n",
       "  'risk',\n",
       "  'risk',\n",
       "  'risk']}"
      ]
     },
     "execution_count": 132,
     "metadata": {},
     "output_type": "execute_result"
    }
   ],
   "source": [
    "get_words(fill, data['raw_text'])\n"
   ]
  },
  {
   "cell_type": "code",
   "execution_count": 111,
   "metadata": {},
   "outputs": [],
   "source": [
    "topics = {}\n",
    "for a in data['topics']:\n",
    "    results = data['topics'][a]\n",
    "    each_file = pd.DataFrame(results)\n",
    "    results = each_file[each_file['score']>=0.002]\n",
    "    topics[a]= {\n",
    "        \"span\": each_file['spans'].to_list(),\n",
    "        \"score\": each_file['score'].to_list()\n",
    "    }\n",
    "\n",
    "    "
   ]
  },
  {
   "cell_type": "code",
   "execution_count": 49,
   "metadata": {},
   "outputs": [
    {
     "data": {
      "text/plain": [
       "{'span': [[19, 27],\n",
       "  [77, 83],\n",
       "  [191, 195],\n",
       "  [241, 245],\n",
       "  [282, 286],\n",
       "  [348, 352],\n",
       "  [553, 537],\n",
       "  [661, 666],\n",
       "  [842, 846],\n",
       "  [953, 957],\n",
       "  [1061, 1065],\n",
       "  [1202, 1206],\n",
       "  [1279, 1283]],\n",
       " 'score': [8.8e-05,\n",
       "  0.0035,\n",
       "  0.00487,\n",
       "  0.036,\n",
       "  0.0088,\n",
       "  0.000568,\n",
       "  0.000154,\n",
       "  0.00698,\n",
       "  0.077,\n",
       "  0.000587,\n",
       "  0.004,\n",
       "  0.08,\n",
       "  0.006]}"
      ]
     },
     "execution_count": 49,
     "metadata": {},
     "output_type": "execute_result"
    }
   ],
   "source": [
    "topics['4']"
   ]
  },
  {
   "cell_type": "code",
   "execution_count": 43,
   "metadata": {},
   "outputs": [
    {
     "data": {
      "text/plain": [
       "2"
      ]
     },
     "execution_count": 43,
     "metadata": {},
     "output_type": "execute_result"
    }
   ],
   "source": [
    "len(topics['8'])"
   ]
  },
  {
   "cell_type": "code",
   "execution_count": 19,
   "metadata": {},
   "outputs": [],
   "source": [
    "def filterss(topic, prob):\n",
    "    ff = pd.DataFrame(topic)\n",
    "    results = ff[ff['score']>=prob]\n",
    "    return results\n",
    "    "
   ]
  },
  {
   "cell_type": "code",
   "execution_count": null,
   "metadata": {},
   "outputs": [],
   "source": []
  },
  {
   "cell_type": "code",
   "execution_count": 12,
   "metadata": {},
   "outputs": [],
   "source": [
    "ddd = data['topics']['8']"
   ]
  },
  {
   "cell_type": "code",
   "execution_count": 109,
   "metadata": {},
   "outputs": [
    {
     "data": {
      "text/html": [
       "<div>\n",
       "<style scoped>\n",
       "    .dataframe tbody tr th:only-of-type {\n",
       "        vertical-align: middle;\n",
       "    }\n",
       "\n",
       "    .dataframe tbody tr th {\n",
       "        vertical-align: top;\n",
       "    }\n",
       "\n",
       "    .dataframe thead th {\n",
       "        text-align: right;\n",
       "    }\n",
       "</style>\n",
       "<table border=\"1\" class=\"dataframe\">\n",
       "  <thead>\n",
       "    <tr style=\"text-align: right;\">\n",
       "      <th></th>\n",
       "      <th>spans</th>\n",
       "      <th>score</th>\n",
       "    </tr>\n",
       "  </thead>\n",
       "  <tbody>\n",
       "    <tr>\n",
       "      <th>0</th>\n",
       "      <td>[0, 5]</td>\n",
       "      <td>0.00200</td>\n",
       "    </tr>\n",
       "    <tr>\n",
       "      <th>1</th>\n",
       "      <td>[35, 45]</td>\n",
       "      <td>0.08000</td>\n",
       "    </tr>\n",
       "    <tr>\n",
       "      <th>3</th>\n",
       "      <td>[125, 135]</td>\n",
       "      <td>0.00250</td>\n",
       "    </tr>\n",
       "    <tr>\n",
       "      <th>5</th>\n",
       "      <td>[89, 101]</td>\n",
       "      <td>0.00365</td>\n",
       "    </tr>\n",
       "    <tr>\n",
       "      <th>6</th>\n",
       "      <td>[410, 422]</td>\n",
       "      <td>0.00650</td>\n",
       "    </tr>\n",
       "    <tr>\n",
       "      <th>7</th>\n",
       "      <td>[584, 596]</td>\n",
       "      <td>0.03000</td>\n",
       "    </tr>\n",
       "  </tbody>\n",
       "</table>\n",
       "</div>"
      ],
      "text/plain": [
       "        spans    score\n",
       "0      [0, 5]  0.00200\n",
       "1    [35, 45]  0.08000\n",
       "3  [125, 135]  0.00250\n",
       "5   [89, 101]  0.00365\n",
       "6  [410, 422]  0.00650\n",
       "7  [584, 596]  0.03000"
      ]
     },
     "execution_count": 109,
     "metadata": {},
     "output_type": "execute_result"
    }
   ],
   "source": [
    "filterss(ddd, 0.002)"
   ]
  },
  {
   "cell_type": "code",
   "execution_count": 4,
   "metadata": {},
   "outputs": [],
   "source": [
    "filt= {k: v for k, v in data['topics'].items() if 0.001 <= min(v['score'])}"
   ]
  },
  {
   "cell_type": "code",
   "execution_count": 5,
   "metadata": {},
   "outputs": [
    {
     "data": {
      "text/plain": [
       "{}"
      ]
     },
     "execution_count": 5,
     "metadata": {},
     "output_type": "execute_result"
    }
   ],
   "source": [
    "filt"
   ]
  },
  {
   "cell_type": "code",
   "execution_count": 39,
   "metadata": {},
   "outputs": [
    {
     "data": {
      "text/plain": [
       "100"
      ]
     },
     "execution_count": 39,
     "metadata": {},
     "output_type": "execute_result"
    }
   ],
   "source": [
    "len(data['topics']['8']['words'].strip('\\'[]\\'').split(','))"
   ]
  },
  {
   "cell_type": "code",
   "execution_count": 40,
   "metadata": {},
   "outputs": [
    {
     "data": {
      "text/plain": [
       "100"
      ]
     },
     "execution_count": 40,
     "metadata": {},
     "output_type": "execute_result"
    }
   ],
   "source": [
    "len(data['topics']['8']['probability'])"
   ]
  },
  {
   "cell_type": "code",
   "execution_count": 43,
   "metadata": {},
   "outputs": [
    {
     "data": {
      "text/html": [
       "<div>\n",
       "<style scoped>\n",
       "    .dataframe tbody tr th:only-of-type {\n",
       "        vertical-align: middle;\n",
       "    }\n",
       "\n",
       "    .dataframe tbody tr th {\n",
       "        vertical-align: top;\n",
       "    }\n",
       "\n",
       "    .dataframe thead th {\n",
       "        text-align: right;\n",
       "    }\n",
       "</style>\n",
       "<table border=\"1\" class=\"dataframe\">\n",
       "  <thead>\n",
       "    <tr style=\"text-align: right;\">\n",
       "      <th></th>\n",
       "      <th>words</th>\n",
       "      <th>probability</th>\n",
       "    </tr>\n",
       "  </thead>\n",
       "  <tbody>\n",
       "    <tr>\n",
       "      <th>0</th>\n",
       "      <td>permit</td>\n",
       "      <td>0.032</td>\n",
       "    </tr>\n",
       "    <tr>\n",
       "      <th>1</th>\n",
       "      <td>building</td>\n",
       "      <td>0.028</td>\n",
       "    </tr>\n",
       "    <tr>\n",
       "      <th>2</th>\n",
       "      <td>water</td>\n",
       "      <td>0.025</td>\n",
       "    </tr>\n",
       "    <tr>\n",
       "      <th>3</th>\n",
       "      <td>green</td>\n",
       "      <td>0.025</td>\n",
       "    </tr>\n",
       "    <tr>\n",
       "      <th>4</th>\n",
       "      <td>energy</td>\n",
       "      <td>0.025</td>\n",
       "    </tr>\n",
       "    <tr>\n",
       "      <th>5</th>\n",
       "      <td>project</td>\n",
       "      <td>0.023</td>\n",
       "    </tr>\n",
       "  </tbody>\n",
       "</table>\n",
       "</div>"
      ],
      "text/plain": [
       "       words  probability\n",
       "0     permit        0.032\n",
       "1   building        0.028\n",
       "2      water        0.025\n",
       "3      green        0.025\n",
       "4     energy        0.025\n",
       "5    project        0.023"
      ]
     },
     "execution_count": 43,
     "metadata": {},
     "output_type": "execute_result"
    }
   ],
   "source": [
    "dat =pd.DataFrame({'words': data['topics']['8']['words'].strip('\\'[]\\'').split(','),\n",
    "              'probability': data['topics']['8']['probability']})\n",
    "\n",
    "dat[dat[\"probability\"]>0.02]"
   ]
  },
  {
   "cell_type": "code",
   "execution_count": null,
   "metadata": {},
   "outputs": [],
   "source": [
    "data =pd.DataFrame({'words': received_data['topics'][tops]['words'].strip('\\'[]\\'').split(','),\n",
    "              'probability': received_data['topics'][tops]['probability']})\n",
    "dat = data[data['probability'] > threshold]"
   ]
  },
  {
   "cell_type": "code",
   "execution_count": 49,
   "metadata": {},
   "outputs": [],
   "source": [
    "def extract_information(topic_number, threshold, received_data):\n",
    "    data = pd.DataFrame({'words': received_data['topics'][topic_number]['words'].strip('\\'[]\\'').split(','),\n",
    "              'probability': received_data['topics'][topic_number]['probability']})\n",
    "    dat = data[data['probability'] > threshold]\n",
    "    words = [word for word in dat['words']]\n",
    "    final = ' '.join(words)\n",
    "    return final\n"
   ]
  },
  {
   "cell_type": "code",
   "execution_count": 110,
   "metadata": {},
   "outputs": [
    {
     "ename": "NameError",
     "evalue": "name 'extract_information' is not defined",
     "output_type": "error",
     "traceback": [
      "\u001b[1;31m---------------------------------------------------------------------------\u001b[0m",
      "\u001b[1;31mNameError\u001b[0m                                 Traceback (most recent call last)",
      "\u001b[1;32m~\\AppData\\Local\\Temp\\ipykernel_37440\\2099601633.py\u001b[0m in \u001b[0;36m<module>\u001b[1;34m\u001b[0m\n\u001b[1;32m----> 1\u001b[1;33m \u001b[0mextract_information\u001b[0m\u001b[1;33m(\u001b[0m\u001b[1;34m'8'\u001b[0m\u001b[1;33m,\u001b[0m \u001b[1;36m0.02\u001b[0m\u001b[1;33m,\u001b[0m \u001b[0mreceived_data\u001b[0m\u001b[1;33m=\u001b[0m\u001b[0mdata\u001b[0m\u001b[1;33m)\u001b[0m\u001b[1;33m\u001b[0m\u001b[1;33m\u001b[0m\u001b[0m\n\u001b[0m",
      "\u001b[1;31mNameError\u001b[0m: name 'extract_information' is not defined"
     ]
    }
   ],
   "source": [
    "extract_information('8', 0.02, received_data=data)"
   ]
  },
  {
   "cell_type": "code",
   "execution_count": 74,
   "metadata": {},
   "outputs": [],
   "source": [
    "raw_text = \"Avoid The mitigate/transfer/accept approaches assume that you do not want to change your organizations goals. If those three approaches are not feasible for you, then you may want to avoid a risk by narrowing  goals that are related to this risk. Avoiding is about being out of the risk altogether so it will not affect  you. Typically, avoiding a risk involves eliminating its root cause. However, since your organization by  itself will not stop climate change from occurring, and since you cannot relocate your place, avoiding  a risk in this context would require a shift in your organizations operations or goals so that you are no  longer exposed to that risk. For example, if one of your goals is to maintain some resource, but you  conclude that climate change is making that a lost cause, you could relinquish that goal. Avoiding a  risk does not mean the impact to the resource or to your place goes awaythis is an administrative  handling of risk in which you move away from this objective and you will no longer put resources toward  it. Avoiding a risk may be a radical move for an organization: you will be pulling back from work that you thought was important. Reserve this approach for risks that will not be mitigated (by you or others) and  where accepting the risk is a bad proposition.\"\n"
   ]
  },
  {
   "cell_type": "code",
   "execution_count": 253,
   "metadata": {},
   "outputs": [
    {
     "data": {
      "text/plain": [
       "'organizations operations or goals so that you are no  longer exposed to that risk. For example, if one of your goals is to maintain some resource, but you  conclude that climate change is making that a lost cause, you could relinquish that goal. Avoiding a  risk does not mean the impact to the resource or to your place goes awaythis is an administrative  handling of risk in which you move away from this objective and you will no longer put resources toward  it. Avoiding a risk may be a radical move for an organization: you will be pulling back from work that you thought was important. Reserve this approach for risks that will not be mitigated (by you or others) and  where accepting the risk is a bad proposition.'"
      ]
     },
     "execution_count": 253,
     "metadata": {},
     "output_type": "execute_result"
    }
   ],
   "source": [
    "raw_text[584:]"
   ]
  },
  {
   "cell_type": "code",
   "execution_count": 211,
   "metadata": {},
   "outputs": [
    {
     "data": {
      "text/plain": [
       "'risk. For example, if one of your goals is to maintain some resource, but you  conclude that climate change is making that a lost cause, you could relinquish that goal. Avoiding a  risk does not mean the impact to the resource or to your place goes awaythis is an administrative  handling of risk in which you move away from this objective and you will no longer put resources toward  it. Avoiding a risk may be a radical move for an organization: you will be pulling back from work that you thought was important. Reserve this approach for risks that will not be mitigated (by you or others) and  where accepting the risk is a bad proposition.'"
      ]
     },
     "execution_count": 211,
     "metadata": {},
     "output_type": "execute_result"
    }
   ],
   "source": [
    "raw_text[661: ]\n"
   ]
  },
  {
   "cell_type": "code",
   "execution_count": 135,
   "metadata": {},
   "outputs": [],
   "source": [
    "\n",
    "def get_words(dat, raw_string):\n",
    "    words = {}\n",
    "    for a in dat.keys():\n",
    "        semi_words = []\n",
    "        for b in dat[a]['spans']:\n",
    "            semi_words.append(raw_string[b[0]:b[1]])\n",
    "        words[a] = semi_words\n",
    "    return words"
   ]
  },
  {
   "cell_type": "code",
   "execution_count": 137,
   "metadata": {},
   "outputs": [
    {
     "data": {
      "text/plain": [
       "{'8': ['Avoid',\n",
       "  'approaches',\n",
       "  'assume',\n",
       "  'approaches',\n",
       "  'eliminating',\n",
       "  'organization',\n",
       "  'organization',\n",
       "  'organization'],\n",
       " '3': ['transfer',\n",
       "  'mitigate',\n",
       "  'feasible',\n",
       "  'root cause',\n",
       "  'goal',\n",
       "  'goal',\n",
       "  ' goal',\n",
       "  'goal',\n",
       "  'goal'],\n",
       " '4': ['transfer',\n",
       "  'change',\n",
       "  'risk',\n",
       "  'risk',\n",
       "  'risk',\n",
       "  'risk',\n",
       "  '',\n",
       "  'risk.',\n",
       "  'risk',\n",
       "  'risk',\n",
       "  'risk',\n",
       "  'risk',\n",
       "  'risk']}"
      ]
     },
     "execution_count": 137,
     "metadata": {},
     "output_type": "execute_result"
    }
   ],
   "source": [
    "get_words(data[\"topics\"], data[\"raw_text\"])"
   ]
  },
  {
   "cell_type": "code",
   "execution_count": 2,
   "metadata": {},
   "outputs": [],
   "source": []
  },
  {
   "cell_type": "code",
   "execution_count": 3,
   "metadata": {},
   "outputs": [],
   "source": [
    "def words(topic, data):\n",
    "    topic_spans = data[\"topics\"][topic][\"spans\"]\n",
    "    topic_words = [data[\"raw_text\"][a[0]:a[1]] for a in topic_spans]\n",
    "    return topic_words"
   ]
  },
  {
   "cell_type": "code",
   "execution_count": 9,
   "metadata": {},
   "outputs": [],
   "source": [
    "topic = str(8)"
   ]
  },
  {
   "cell_type": "code",
   "execution_count": 11,
   "metadata": {},
   "outputs": [],
   "source": [
    "w = words(topic, data)\n"
   ]
  },
  {
   "cell_type": "code",
   "execution_count": 7,
   "metadata": {},
   "outputs": [],
   "source": [
    "topic_spans = data[\"topics\"][\"8\"][\"spans\"]"
   ]
  },
  {
   "cell_type": "code",
   "execution_count": 12,
   "metadata": {},
   "outputs": [
    {
     "data": {
      "text/plain": [
       "'Avoid approaches assume approaches eliminating organization organization organization'"
      ]
     },
     "execution_count": 12,
     "metadata": {},
     "output_type": "execute_result"
    }
   ],
   "source": [
    "\" \".join(w)"
   ]
  },
  {
   "cell_type": "code",
   "execution_count": null,
   "metadata": {},
   "outputs": [],
   "source": []
  }
 ],
 "metadata": {
  "kernelspec": {
   "display_name": "Python 3.7.9 ('environ': venv)",
   "language": "python",
   "name": "python3"
  },
  "language_info": {
   "codemirror_mode": {
    "name": "ipython",
    "version": 3
   },
   "file_extension": ".py",
   "mimetype": "text/x-python",
   "name": "python",
   "nbconvert_exporter": "python",
   "pygments_lexer": "ipython3",
   "version": "3.7.9"
  },
  "orig_nbformat": 4,
  "vscode": {
   "interpreter": {
    "hash": "825ef0220369d2f74bf5a8b51ea2a7b780c9fb6c0f94791f3966af94c00a6592"
   }
  }
 },
 "nbformat": 4,
 "nbformat_minor": 2
}
