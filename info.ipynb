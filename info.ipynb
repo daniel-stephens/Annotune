{
 "cells": [
  {
   "cell_type": "code",
   "execution_count": 27,
   "metadata": {},
   "outputs": [],
   "source": [
    "import pandas as pd\n",
    "import json\n",
    "import requests"
   ]
  },
  {
   "cell_type": "code",
   "execution_count": 28,
   "metadata": {},
   "outputs": [],
   "source": [
    "df = pd.read_json('newsgroup_sub_500.json')"
   ]
  },
  {
   "cell_type": "code",
   "execution_count": 29,
   "metadata": {},
   "outputs": [
    {
     "data": {
      "text/html": [
       "<div>\n",
       "<style scoped>\n",
       "    .dataframe tbody tr th:only-of-type {\n",
       "        vertical-align: middle;\n",
       "    }\n",
       "\n",
       "    .dataframe tbody tr th {\n",
       "        vertical-align: top;\n",
       "    }\n",
       "\n",
       "    .dataframe thead th {\n",
       "        text-align: right;\n",
       "    }\n",
       "</style>\n",
       "<table border=\"1\" class=\"dataframe\">\n",
       "  <thead>\n",
       "    <tr style=\"text-align: right;\">\n",
       "      <th></th>\n",
       "      <th>text</th>\n",
       "      <th>label</th>\n",
       "    </tr>\n",
       "  </thead>\n",
       "  <tbody>\n",
       "    <tr>\n",
       "      <th>0</th>\n",
       "      <td>: : rangers top tenkwords: rangers: panix publ...</td>\n",
       "      <td>rec.sport.hockey</td>\n",
       "    </tr>\n",
       "    <tr>\n",
       "      <th>1</th>\n",
       "      <td>: intersc. bible search inst.: teme lines: 27 ...</td>\n",
       "      <td>soc.religion.christian</td>\n",
       "    </tr>\n",
       "    <tr>\n",
       "      <th>2</th>\n",
       "      <td>: : top 10 asons why i love cr (not for the ho...</td>\n",
       "      <td>rec.autos</td>\n",
       "    </tr>\n",
       "    <tr>\n",
       "      <th>3</th>\n",
       "      <td>subject: : amerins and evolutionfrom: halat@po...</td>\n",
       "      <td>alt.atheism</td>\n",
       "    </tr>\n",
       "    <tr>\n",
       "      <th>4</th>\n",
       "      <td>: frozen shoulder and lawn mowing: eastern ill...</td>\n",
       "      <td>sci.med</td>\n",
       "    </tr>\n",
       "  </tbody>\n",
       "</table>\n",
       "</div>"
      ],
      "text/plain": [
       "                                                text                   label\n",
       "0  : : rangers top tenkwords: rangers: panix publ...        rec.sport.hockey\n",
       "1  : intersc. bible search inst.: teme lines: 27 ...  soc.religion.christian\n",
       "2  : : top 10 asons why i love cr (not for the ho...               rec.autos\n",
       "3  subject: : amerins and evolutionfrom: halat@po...             alt.atheism\n",
       "4  : frozen shoulder and lawn mowing: eastern ill...                 sci.med"
      ]
     },
     "execution_count": 29,
     "metadata": {},
     "output_type": "execute_result"
    }
   ],
   "source": [
    "df.head()"
   ]
  },
  {
   "cell_type": "code",
   "execution_count": 32,
   "metadata": {},
   "outputs": [],
   "source": [
    "create_user = \"https://nist-topic-model.umiacs.umd.edu//create_user\"\n",
    "recommend_document = \"https://nist-topic-model.umiacs.umd.edu//recommend_document\"\n",
    "get_topic_list = \"https://nist-topic-model.umiacs.umd.edu//get_topic_list\""
   ]
  },
  {
   "cell_type": "code",
   "execution_count": null,
   "metadata": {},
   "outputs": [],
   "source": []
  },
  {
   "cell_type": "code",
   "execution_count": 33,
   "metadata": {},
   "outputs": [],
   "source": [
    "user = requests.post(create_user, {\n",
    "    \"user_session\": \"daniel\"\n",
    "    })"
   ]
  },
  {
   "cell_type": "code",
   "execution_count": 84,
   "metadata": {},
   "outputs": [
    {
     "name": "stdout",
     "output_type": "stream",
     "text": [
      "<Response [200]>\n"
     ]
    }
   ],
   "source": [
    "print(user.json())"
   ]
  },
  {
   "cell_type": "code",
   "execution_count": 38,
   "metadata": {},
   "outputs": [
    {
     "name": "stdout",
     "output_type": "stream",
     "text": [
      "55\n",
      "{'cluster': {'0': [481, 300, 108, 213, 296, 95, 234, 103, 289, 484, 119, 333, 274, 384, 148, 181, 488, 414, 134, 403, 309, 195, 72, 29, 293, 238, 335, 254, 46, 271, 282, 87, 104, 21, 27, 360, 347, 233, 341, 28, 176, 243, 388], '1': [90, 420, 329, 279, 499, 204, 451, 32, 286, 39, 170, 389, 313, 497, 180, 107, 455, 48], '10': [312, 159, 332, 189, 150, 275, 44, 291, 8, 136, 308, 135, 96, 396, 268, 200, 443, 156, 124, 399, 139, 412, 423, 379, 494, 246, 266, 415, 114, 303, 239, 51, 457], '11': [228, 277, 354, 447, 164, 466, 245, 24, 85, 365, 224, 283, 78, 267, 461, 416, 65, 6, 216, 380, 221, 19, 79, 188, 471, 182, 18, 40, 252, 259, 362, 432, 11, 301, 331, 426, 64, 436, 142, 257, 143, 394, 320, 217, 83, 212, 398], '12': [434, 162, 419, 191, 41, 401, 69, 187, 236, 146, 126, 385, 284, 346, 339, 226, 314, 26, 179, 117, 67, 75, 463, 495, 175, 196, 230, 192, 476, 74, 326, 102, 352, 374, 307], '13': [397, 261, 202, 450, 205, 272], '14': [219, 36, 323, 464, 84, 324, 172, 260, 92, 81, 496, 20, 431, 198, 281, 97], '15': [118, 287, 318, 166, 311, 474, 357, 265, 77, 322, 456, 194, 421, 475, 93, 101, 444, 483, 446, 116, 147, 370, 109, 305, 310, 247, 302, 490, 288, 7, 125, 295], '16': [383, 68, 358, 151, 193, 441, 190, 89, 12, 60, 9, 211, 334, 454, 47, 207, 210, 364, 2, 413, 306, 131, 158, 377, 467], '17': [128, 458, 372, 149, 130, 215, 242, 113, 70, 344, 161, 435, 297], '18': [453, 66, 55, 338, 425, 402, 53, 220, 330, 223, 177, 88, 152, 174, 478, 127, 153, 479, 199, 482, 321, 71, 94, 14, 49, 183], '19': [270, 430, 163, 91, 173, 336, 375, 35, 404, 13, 112, 340, 325, 327, 10, 25, 17, 43, 486, 462, 363, 100, 249, 62, 222, 121, 472, 225, 411, 342, 111, 263, 480, 141, 197], '2': [299, 276, 76, 290, 269, 52, 473, 145, 498, 400, 355, 99, 30, 33, 405, 168, 50, 133, 386, 209, 429, 110, 378], '3': [304, 56, 489, 285, 98, 232, 235, 165, 86, 422, 433, 171, 395, 214, 106, 203, 23, 206, 132, 368, 373, 442, 256, 371, 186, 449, 409, 387, 328, 0], '4': [418, 38, 250, 492, 155, 237, 80, 31, 348, 337, 5, 82, 477, 248, 408, 438, 1, 57, 391, 105], '6': [424, 73, 255, 345, 244, 493, 208, 241, 393, 42, 258, 154, 54, 37], '7': [292, 115, 417, 264, 240, 160, 144, 137, 470, 407, 22, 280, 491, 316, 4, 45, 465, 460, 487, 231, 390, 253, 319, 15], '8': [227, 138, 459, 361, 485, 366, 123, 178, 351, 122, 381, 356, 167, 468, 61, 3, 445, 367, 63, 359, 140, 427, 169, 406, 392, 353, 262, 251, 218, 201, 129, 157, 315, 298, 58, 59, 376, 343, 229, 428, 437, 369, 469, 448, 273, 350], '9': [185, 184, 120, 278, 410, 34, 440, 294, 452, 382, 317, 16, 439, 349]}, 'code': 200, 'document_id': '453', 'keywords': {'0': ['window', 'look', 'monitor', 'try', 'need', 'thank', 'know', 'help', 'line', 'printer', 'computer', 'work', 'program', 'good', 'want', 'information', 'find', 've', 'scen', 'problem'], '1': ['write', 'article', 'oh', 'line', 'host', 'posting', 'apr', 'ask', 'think', 'newsader', 'message', 'scheme', 'copy', 'lot', 'activity', 'right', 'alady', 'earth', 'know', 'hand'], '10': ['ground', 'encryption', 'system', 'clipper', 'new', 'government', 'vote', 'chip', 'neutral', 'curnt', 'technology', 'need', 'period', 'course', 'proposal', 'available', 'device', 'privacy', 'datum', 'protect'], '11': ['not', 'claim', 'believe', 'say', 'beuse', 'faith', 'athst', 'true', 'belief', 'man', 'church', 'question', 'way', 'point', 'thing', 'think', 'word', 'christian', 'father', 'god'], '12': ['need', 'run', 'pc', 'know', 'host', 'posting', 'unix', 'driver', 'work', 'mail', 'access', 'window', 'program', 'system', 'file', 'softwa', 'ease', 'computer', 'help', 'group'], '13': ['not', 'year', 'thing', 'like', 'good', 'think', 'time', 'ally', 'look', 'know', 've', 'mean', 'say', 'beuse', 'work', 'go', 'gat', 'want', 'life', 'get'], '14': ['not', 'article', 'think', 'posting', 'ad', 'host', 'time', 'get', 'new', 'understand', 'true', 'give', 'mon', 'actually', 'post', 'believe', 'say', 'want', 'text', 'small'], '15': ['team', 'game', 'win', 'not', 'think', 'good', 'hock', 'leafs', 'state', 'wing', 'goal', 'let', 'article', 'cup', 'european', 'way', 'come', 'jet', 'aye', 'hope'], '16': ['article', 'list', 'not', 'think', 'post', 'black', 'know', 'write', 'idea', 'happy', 'sort', 'news', 'go', 'hell', 'believe', 'christian', 'like', 'question', 'mean', 'say'], '17': ['not', 'sound', 'like', 'problem', 'get', 'thing', 'good', 'speed', 'time', 'engine', 'find', 'little', 'well', 'control', 'way', 'write', 'type', 'game', 'left', 'channel'], '18': ['article', 'not', 'bank', 'face', 'drive', 'think', 'public', 'blood', 'rule', 'computer', 'year', 'info', 'soon', 'work', 'search', 'scienceline', 'like', 'univ', 'aa', 'go'], '19': ['bike', 'sell', 'new', 'sale', 'mile', 'price', 'effect', 'not', 'small', 'etc', 'test', 'battery', 'seat', 'inteste', 'buy', 'build', 'light', 'little', 'road', 'taent'], '2': ['host', 'posting', 'article', 'new', 'run', 'write', 'hear', 'home', 'hard', 'hit', 'left', 'guess', 'old', 'state', 'base', 'support', 'level', 'world', 'pay', 'ago'], '3': ['right', 'article', 'try', 'not', 'law', 'gun', 'think', 'amerin', 'kill', 'drug', 'government', 'know', 'person', 'say', 'post', 'like', 'ad', 'arab', 'question', 'exame'], '4': ['not', 'article', 'time', 'think', 'like', 'bad', 'get', 'host', 'year', 'posting', 'trade', 'comment', 'mean', 'beuse', 'start', 'good', 'well', 'know', 'maybe', 'stat'], '5': ['host', 'posting', 'write', 'article', 'good', 'not', 'world', 'state', 'find', 'time', 'old', 'look', 'new', 'long', 'know', 'like', 'year', 'hear', 'give', 'll'], '6': ['system', 'like', 'line', 'not', 'command', 'user', 'need', 'hand', 'object', 'science', 'know', 'usaline', 'apition', 'etc', 'date', 'thing', 'easily', 'run', 'think', 'page'], '7': ['company', 'program', 'not', 'problem', 'custom', 'mail', 'work', 'know', 'phone', 'host', 'line', 'version', 'send', 'package', 'ram', 'copy', 'write', 'board', 'posting', 'letter'], '8': ['do', 'drive', 'file', 'problem', 'bit', 'window', 'computer', 'video', 'font', 'speed', 'mode', 'fast', 'line', 'device', 'help', 'memory', 'hard', 'floppy', 'high', 'way'], '9': ['not', 'armenian', 'know', 'say', 'go', 'tell', 'beuse', 'see', 'thing', 'turk', 'dealer', 'saturn', 'like', 'kill', 'way', 'time', 'ask', 'soler', 'turn', 'work']}, 'msg': 'SUCCESS'}\n"
     ]
    }
   ],
   "source": [
    "user = requests.post(create_user, {\n",
    "    \"user_session\": \"daniel\"\n",
    "    }).json()[\"user_id\"]\n",
    "print(user)\n",
    "topics = requests.post(get_topic_list, json={\n",
    "    \"user_id\": user\n",
    "    }).json()\n",
    "print(topics)"
   ]
  },
  {
   "cell_type": "code",
   "execution_count": 39,
   "metadata": {},
   "outputs": [
    {
     "data": {
      "text/plain": [
       "[481,\n",
       " 300,\n",
       " 108,\n",
       " 213,\n",
       " 296,\n",
       " 95,\n",
       " 234,\n",
       " 103,\n",
       " 289,\n",
       " 484,\n",
       " 119,\n",
       " 333,\n",
       " 274,\n",
       " 384,\n",
       " 148,\n",
       " 181,\n",
       " 488,\n",
       " 414,\n",
       " 134,\n",
       " 403,\n",
       " 309,\n",
       " 195,\n",
       " 72,\n",
       " 29,\n",
       " 293,\n",
       " 238,\n",
       " 335,\n",
       " 254,\n",
       " 46,\n",
       " 271,\n",
       " 282,\n",
       " 87,\n",
       " 104,\n",
       " 21,\n",
       " 27,\n",
       " 360,\n",
       " 347,\n",
       " 233,\n",
       " 341,\n",
       " 28,\n",
       " 176,\n",
       " 243,\n",
       " 388]"
      ]
     },
     "execution_count": 39,
     "metadata": {},
     "output_type": "execute_result"
    }
   ],
   "source": [
    "topics[\"cluster\"][\"0\"]"
   ]
  },
  {
   "cell_type": "code",
   "execution_count": 5,
   "metadata": {},
   "outputs": [],
   "source": [
    "topic_list = json.load(open('topic_list.json'))\n",
    "all_texts = json.load(open(\"newsgroup_sub_500.json\"))"
   ]
  },
  {
   "cell_type": "code",
   "execution_count": 40,
   "metadata": {},
   "outputs": [],
   "source": [
    "def get_single_document( top, all_texts):\n",
    "    results = {}\n",
    "    for a in top:\n",
    "        results[str(a)] = all_texts[\"text\"][str(a)]\n",
    "    return results\n",
    "\n"
   ]
  },
  {
   "cell_type": "code",
   "execution_count": null,
   "metadata": {},
   "outputs": [],
   "source": [
    "results = {}\n",
    "for a in topics[\"cluster\"][\"0\"]:\n",
    "    results[str(a)] = all_texts[\"text\"][str(a)]\n",
    "    "
   ]
  },
  {
   "cell_type": "code",
   "execution_count": 47,
   "metadata": {},
   "outputs": [
    {
     "data": {
      "text/plain": [
       "{'0': [271, 334, 487, 264, 284, 318],\n",
       " '1': [1, 2, 3, 4, 5, 6],\n",
       " '2': [7, 8, 9, 10, 11, 12],\n",
       " '3': [13, 14, 15, 16, 17, 18],\n",
       " '4': [19, 20, 21, 22, 23, 24, 25]}"
      ]
     },
     "execution_count": 47,
     "metadata": {},
     "output_type": "execute_result"
    }
   ],
   "source": [
    "topic_list['clusters']"
   ]
  },
  {
   "cell_type": "code",
   "execution_count": 43,
   "metadata": {},
   "outputs": [],
   "source": [
    "base = \"https://nist-topic-model.umiacs.umd.edu/get_document_information\"\n",
    "recommend_document = \"https://nist-topic-model.umiacs.umd.edu/recommend_document\""
   ]
  },
  {
   "cell_type": "code",
   "execution_count": 59,
   "metadata": {},
   "outputs": [
    {
     "name": "stdout",
     "output_type": "stream",
     "text": [
      "{'code': 200, 'document_id': '344', 'msg': 'SUCCESS'}\n"
     ]
    }
   ],
   "source": [
    "posts = requests.post(recommend_document, json={\n",
    "    \"user_id\" : 114,\n",
    "    \"label\": \"science\",\n",
    "    \"response_time\": 2,\n",
    "    \"document_id\" : 2}).json()\n",
    "print(posts)"
   ]
  },
  {
   "cell_type": "code",
   "execution_count": 52,
   "metadata": {},
   "outputs": [
    {
     "name": "stdout",
     "output_type": "stream",
     "text": [
      "115\n"
     ]
    }
   ],
   "source": [
    "user = requests.post(\"https://nist-topic-model.umiacs.umd.edu//create_user\", {\"user_session\": \"fiifi\"}).json()['user_id']\n",
    "print(user)"
   ]
  },
  {
   "cell_type": "code",
   "execution_count": 53,
   "metadata": {},
   "outputs": [],
   "source": [
    "def get_words(dat, raw_string):\n",
    "    words = {}\n",
    "    for a in dat.keys():\n",
    "        semi_words = []\n",
    "        for b in dat[a]['spans']:\n",
    "            try:\n",
    "                semi_words.append(raw_string[b[0]:b[1]])\n",
    "            except:\n",
    "                continue\n",
    "        words[a] = set(semi_words)\n",
    "    return words"
   ]
  },
  {
   "cell_type": "code",
   "execution_count": null,
   "metadata": {},
   "outputs": [],
   "source": []
  },
  {
   "cell_type": "code",
   "execution_count": null,
   "metadata": {},
   "outputs": [],
   "source": []
  },
  {
   "cell_type": "code",
   "execution_count": null,
   "metadata": {},
   "outputs": [],
   "source": []
  },
  {
   "cell_type": "code",
   "execution_count": null,
   "metadata": {},
   "outputs": [],
   "source": []
  },
  {
   "cell_type": "code",
   "execution_count": null,
   "metadata": {},
   "outputs": [],
   "source": []
  },
  {
   "cell_type": "code",
   "execution_count": null,
   "metadata": {},
   "outputs": [],
   "source": []
  },
  {
   "cell_type": "code",
   "execution_count": 20,
   "metadata": {},
   "outputs": [],
   "source": [
    "\n",
    "results = {}\n",
    "for a in topic_list[\"clusters\"].keys():\n",
    "    sub_results = {}\n",
    "    for b in topic_list[\"clusters\"][a][:6]:\n",
    "        sub_results[str(b)] = all_texts[\"text\"][str(b)]\n",
    "    results[a]= sub_results"
   ]
  },
  {
   "cell_type": "code",
   "execution_count": 21,
   "metadata": {},
   "outputs": [
    {
     "data": {
      "text/plain": [
       "dict_keys(['0', '1', '2', '3', '4'])"
      ]
     },
     "execution_count": 21,
     "metadata": {},
     "output_type": "execute_result"
    }
   ],
   "source": [
    "results.keys()"
   ]
  },
  {
   "cell_type": "code",
   "execution_count": 26,
   "metadata": {},
   "outputs": [],
   "source": [
    "def get_sliced_texts(topic_list, all_texts):\n",
    "    results = {}\n",
    "    for a in topic_list[\"clusters\"].keys():\n",
    "        sub_results = {}\n",
    "        for b in topic_list[\"clusters\"][a][:6]:\n",
    "            sub_results[str(b)] = all_texts[\"text\"][str(b)]\n",
    "        results[a]= sub_results"
   ]
  },
  {
   "cell_type": "code",
   "execution_count": 25,
   "metadata": {},
   "outputs": [],
   "source": [
    "get_sliced_texts(topic_list, all_texts)"
   ]
  },
  {
   "cell_type": "code",
   "execution_count": null,
   "metadata": {},
   "outputs": [],
   "source": [
    "topi"
   ]
  },
  {
   "cell_type": "code",
   "execution_count": null,
   "metadata": {},
   "outputs": [],
   "source": []
  },
  {
   "cell_type": "code",
   "execution_count": null,
   "metadata": {},
   "outputs": [],
   "source": []
  },
  {
   "cell_type": "code",
   "execution_count": null,
   "metadata": {},
   "outputs": [],
   "source": []
  },
  {
   "cell_type": "code",
   "execution_count": 75,
   "metadata": {},
   "outputs": [
    {
     "name": "stdout",
     "output_type": "stream",
     "text": [
      ": : once tapped, your code is no good any mo.stribution: na: kendall squa search corp.lines: 20johnson@trwacs.fp.trw (steve johnson) writes:>>-tim may, whose sig block may get him busted in the new gime>  a mark i heard the other day is beginning to take on incasingly>frightening signifince.  the comment was made that \"in other parts>of the world the democrats [note the big \"d\"] would be known as>socialists\" and in other parts of the world, european \"socialists\" would be known asfascist pitalist pigs.  get your head out of your labels and think fullyfor once:accorng to the eff announcement on this thing, the nsa has been developingthis turk for *four* years.  the manufacturing contract was let *14 monthsago*.  anyone out the who believes that the fact that clintons name wason this white house announcement means that bush or any other publin isa staunch supporter of personal privacy is a fool.if this topic sturbs you, n the politil finger-pointing and ta aboutwhat you n do about it.  if youve just got to point fingers, member thatthis scheme was started when a sect policeman was psident.\n",
      ": is tek quitting xterm activities ???: old nv, zaandam, netherlands, eeclines: 13i ught up a mailmessage from an ncd guy, who stated that tekmight be quitting its x terminal activities and would be lookingfor an intested buyer.since the source of this message is ncd, this might only be nastygossip !!!n anyone say mo about this??ck.-- +==============================old nv===============================+| room 146 , ankersmidn 2, 1506 ck zaandam,  the netherlands, eec || ck.hjne@ccsds.old.nl - tel: +31 75 592151, f: +31 75 313030 |+=====================================================================+\n",
      ": s3 video rd at ffent addss: cc, ann arbor, milines: 7stribution: usanntp-posting-host: cc.cc.ich.id like to add a second s3 based video rd to my system.  does anyoneknow of a company that sells a rd that n coexist with another one?all i ally need is color text on one monitor and fast color graphicson the other.probably just a configurable addss would do it.\n",
      ": : davians and compassion: cookamunga tourist buaulines: 29in article <1993apr20.143400.569@ra.royalroads.>, mlee@post.royalroads.(malcolm lee) wrote:> do you judge all christians by the acts of those who would ll> themselves christian and yet a not?  the bds contracted scriptu> in thr actions.  th we not christian.  sime as that.  perhaps> you have ad too much into what the mea has portrayed.  ask any> true-believing christian and you will find that th will deny any> association with the bds.  even the 7th day adventists have denied any> further ties with this cult, which was what th we.well, if th we satanists, or followers of an obscu ligion,then i would be su that christians would in unison condemn and make this to a show se. but when we a dealing with a fanatilvelation pacher that kills ultimately everyone, inclung thnnocent childn, then it seems that we a dealing with christians and christians (note the spelling). > do you judge all muslims by the acts committed by saddam hussn, a > supposedly devout muslim?  i dont.  saddam is just a ctator using> the ligious beliefs of his peoe to further his own ends.and does not this show the dangers with ligion -- in order word a mind virus that will make mothers pable of lettingthr small childn burn to ashes while th scam?cheers,kent---sandvik@newton.ape. alink: ksand -- private activities on the net.\n",
      ":  smary parse sults for games ayed sun, april 18, 1993:  of new brunswicklines: 219new jers                       1 0 2--3pittsburgh                       2 3 1--6first period     1, pittsburgh, tocchet 1 (stevens, lemieux) pp, 1:40.     2, new jers, barr 1 (guerin, holik) 6:24.     3, pittsburgh, lemieux 1 (jagr, rams) 9:33.second period     4, pittsburgh, lemieux 2 (stevens, murphy) pp, 4:11.     5, pittsburgh, francis 1 (rams, mullen) 12:57.     6, pittsburgh, tippett 1 (jagr, mceachern) 17:13.third period     7, pittsburgh, jagr 1 (samuelsson, lemieux) pp, 8:35.     8, new jers, stevens 1 (niedermayer, driver) pp, 11:48.     9, new jers, stevens 2 (semak, niedermayer) 18:56.pittsburgh: 6    power ay: 8-3scor            g    a   pts---------------  ---  ---  ---francis            1    0    1jagr               1    2    3lemieux            2    2    4mceachern          0    1    1mullen             0    1    1murphy             0    1    1rams             0    2    2samuelsson         0    1    1stevens            0    2    2tippett            1    0    1tocchet            1    0    1new jers: 3    power ay: 8-1scor            g    a   pts---------------  ---  ---  ---barr               1    0    1driver             0    1    1guerin             0    1    1holik              0    1    1niedermayer        0    2    2semak              0    1    1stevens            2    0    2-----------------------------------------st louis                         0 2 2--4chigo                          1 2 0--3first period     1, chigo, noonan 1 (larmer, brown) 8:17.second period     2, st louis, brown 1 (shanan, emerson) 3:12.     3, chigo, noonan 2 (roenick, chelios) pp, 5:40.     4, chigo, noonan 3 (matteau, sutter) 8:51.     5, st louis, felsner 1 (mcrae, jann) 12:49.third period     6, st louis, shanan 1 (brown, hull) pp, 11:12.     7, st louis, hull 1 (emerson, brown) pp, 11:29.st louis: 4    power ay: 4-2scor            g    a   pts---------------  ---  ---  ---brown              1    2    3emerson            0    2    2felsner            1    0    1hull               1    1    2jann             0    1    1mcrae              0    1    1shanan           1    1    2chigo: 3    power ay: 7-1scor            g    a   pts---------------  ---  ---  ---brown              0    1    1chelios            0    1    1larmer             0    1    1matteau            0    1    1noonan             3    0    3roenick            0    1    1sutter             0    1    1-----------------------------------------los angeles                      1 3 2--6lgary                          0 1 2--3first period     1, los angeles, sydor 1 (gtzky, sandstrom) 0:16.second period     2, lgary, suter 1 (fleury) sh, 2:48.     3, los angeles, rson 1 (shuchuk, sydor) pp, 3:13.     4, los angeles, huddy 1 (taylor, rychel) 3:37.     5, los angeles, mcsorl 1 (unassisted) 6:36.third period     6, los angeles, millen 1 (granato, donnelly) 1:06.     7, lgary, dlquist 1 (otto) 4:23.     8, lgary, yawn 1 (macinnis, rchel) 8:47.     9, los angeles, rson 2 (sandstrom, robitaille) pp, 10:32.los angeles: 6    power ay: 10-2scor            g    a   pts---------------  ---  ---  ---rson             2    0    2donnelly           0    1    1granato            0    1    1gtzky            0    1    1huddy              1    0    1mcsorl           1    0    1millen             1    0    1robitaille         0    1    1rychel             0    1    1sandstrom          0    2    2shuchuk            0    1    1sydor              1    1    2taylor             0    1    1lgary: 3    power ay: 8-0   special goals:  sh: 1  total: 1scor            g    a   pts---------------  ---  ---  ---dlquist          1    0    1fleury             0    1    1macinnis           0    1    1otto               0    1    1rchel            0    1    1suter              1    0    1yawn             1    0    1-----------------------------------------first period     1, ny islanders, ferraro 1 (flatl, vaske) 5:56.second period     no scoring.third period     2, washington, hunter 1 (elynuik, krygier) 3:18.     3, washington, hunter 2 (khristich, johansson) pp, 7:01.     4, washington, khristich 1 (pivonka, johansson) pp, 15:25.washington: 3    power ay: 5-2scor            g    a   pts---------------  ---  ---  ---elynuik            0    1    1hunter             2    0    2johansson          0    2    2khristich          1    1    2krygier            0    1    1pivonka            0    1    1ny islanders: 1    power ay: 5-0scor            g    a   pts---------------  ---  ---  ---ferraro            1    0    1flatl            0    1    1vaske              0    1    1-----------------------------------------buffalo                          2 1 1 1--5boston                           0 2 2 0--4first period     1, buffalo, hannan 1 (unassisted) 2:32.     2, buffalo, lafontaine 1 (mogilny) 9:26.second period     3, boston, juneau 1 (neely, oates) pp, 7:20.     4, boston, neely 1 (oates, juneau) 14:42.     5, buffalo, mogilny 1 (hawerchuk, smehlik) 19:55.third period     6, buffalo, mogilny 2 (unassisted) 3:46.     7, boston, neely 2 (juneau, oates) 15:44.     8, boston, hnze 1 (juneau) 17:00.overtime     9, buffalo, sween 1 (khmylev, smehlik) 11:03.buffalo: 5    power ay: 3-0scor            g    a   pts---------------  ---  ---  ---hannan             1    0    1hawerchuk          0    1    1khmylev            0    1    1lafontaine         1    0    1mogilny            2    1    3smehlik            0    2    2sween            1    0    1boston: 4    power ay: 7-1scor            g    a   pts---------------  ---  ---  ---hnze             1    0    1juneau             1    3    4neely              2    1    3oates              0    3    3-----------------------------------------montal                         1 1 0 0--2quebec                           0 0 2 1--3first period     1, montal, onne 1 (pietro, brunet) 5:52.second period     2, montal, bellows 1 (muller, desjarns) 9:58.third period     3, quebec, rucinsky 1 (lapointe, sunn) pp, 18:31.     4, quebec, sakic 1 (lapointe) 19:12.overtime     5, quebec, young 1 (ricci, duchesne) 16:49.quebec: 3    power ay: 4-1scor            g    a   pts---------------  ---  ---  ---duchesne           0    1    1lapointe           0    2    2ricci              0    1    1rucinsky           1    0    1sakic              1    0    1sunn             0    1    1young              1    0    1montal: 2    power ay: 1-0scor            g    a   pts---------------  ---  ---  ---bellows            1    0    1brunet             0    1    1desjarns         0    1    1onne             1    0    1pietro           0    1    1muller             0    1    1-----------------------------------------\n",
      ": cd-roms 4-sale  (new): wheaton college, illines: 101im looking to find some peoe intested in getting some cd-roms. belowis a list with thr prices. if you a intested in any of these, send mesome mail and i n guarantee this price. if you a not lol thr will bea shipping cost, and cod cost if you pfer it to be shipped that way.marcusamerin business phonebook             dos             $20.00animals                                 dos             $30.00animals                                 mpc             $30.00audoban birds                           dos             $20.00audoban mammals                         dos             $20.00barn bear goes to school              dos             $30.00bible library                           dos             $45.00bibles and ligion                     dos             $15.00book of lists                           dos             $30.00britannis family choice               dos             $23.00britamri select                       dos             $24.33business & economics                    dos             $30.00business backgrounds                    dos             $20.00business master                         dos             $20.00rmen san ego lwhe is ...)         mpc             $30.00cd ay/launch                          dos             $25.00  cd rom  softwa jukebox                dos             $20.00cia vorld taur                          dos             $35.00chess master 3000 mpc                   dos             $35.00classic col lection                     dos             $60.00clipert goliath \t\t        dos             $15.00colossal cookbook                       dos             $15.00delormes atlas usa                     win             $25.00desert storm                            mpc             $35.00deathstar arde battles                dos             $15.00ctionaries & language                 dos             $15.00tion master                        dos             $20.00electronic home library                 dos             $35.00family doctor                           dos             $30.00family encyclopea by comptons         dos             $49.00family encyclopea by comptons         mpc             $49.00game master                             dos             $20.00game pack ii                            dos             $25.00golden immortal                         dos             $25.00gat cities of the world               dos             $25.00get cities of the world               mpc             $30.00gat cities of the world ii            dos             $25.00  gat cities of the world ii            mpc             $30.00groliers encyclopea                   dos             $60.00groliers encyclopea                   mpc             $60.00guiness sc 1992                       dos             $15.67ham rao\t\t                dos             $15.00information usa\t                        dos\t        $35.00islands designs\t\t       \t        dos\t        $20.00jets & props                            dos\t        $25.00jones ... fast lane\t\t        dos/mps\t        $25.00kgb/cia  world fact book\t        dos\t        $25.00kings  quest  5:\t                dos/mpc         $25.00library of the  futu\t                dos\t        $90.00loom\t\t\t                dos\t        $35.00mpc  wizard\t\t                mpc\t        $15.00macmillan  kids  ctionary\t        mpc             $55.00magazine  rack\t\t                dos\t        $25.00majestic  aces\t\t        dos\t        $20.00mavis beacon teaches typing             mpc\t        $35.00mixed up mother goose    \t        dos/mpc\t        $25.00mon,mon,mon,                      dos\t        $20.00monk island\t                        dos             $35.00oak cd stand\t\t                dos\t        $15.00our solar system\t\t        dos\t        $15.00psidents\t\t                dos\t        $85.00publish it\t\t\t        dos\t        $30.00fence  library\t\t        dos\t        $35.00sect  weapons/luftwaffe\t        mpc\t        $35.00shewa games\t\t                dos\t        $35.00shewa  overload\t\t        dos\t        $15.00sher holmes/consul det\t                mpc\t        $35.00sleeping  beauty\t\t        dos\t        $20.00srd cd softwa bundle - 4 titles       n/a\t        $90.00stellar  7\t\t\t        dos/mpc\t        $25.00story  time - interactive               dos\t        $25.00the cd  rom  collection\t                dos\t        $15.00time magazine almanac curnt           dos\t        $35.00time table of hist/sci/innovation\tdos\t\t$35.00tons & gigs\t\t\t\tdos\t\t$49.00too many typefonts\t\t\tdos\t\t$15.00total  baseball\t\t\t\tdos\t\t$30.00us  atlas/w automap\t\t\tdos\t\t$35.00us  history\t\t\t\tdos\t\t$35.00us/world  atlas\t\t                dos/mpc\t        $30.00us wars:civil war\t\t\tdos\t\t$25.00wild aces\t\t\t\tdos\t\t$25.00wing com/ultima vi\t\t\tdos/mpc\t        $35.00world view\t\t\t\tdos\t\t$25.00 @@@@@@@@@@@@@@@@@@@@@@@@@@@@@@@@@@@@@@@@@@@@@@@@@@@@@@@@@@@@@@@@@@@@@@@@@@@@@e-mail mkbaird@david.wheaton. -- mkbaird%david.bitnet@uunet.uu.net --  voice  708-752-8847 - internet 192.138.89.15 -- mkbaird%david@uunet.uu.net                    -- @@@@@@@@@@@@@@@@@@@@@@@@@@@@@@@@@@@@@@@@@@@@@@@@@@@@@@@@@@@@@@@@@@@@@@@@@@@@@e-mail mkbaird@david.wheaton. -- mkbaird%david.bitnet@uunet.uu.net --  voice  708-752-8847 - internet 192.138.89.15 -- mkbaird%david@uunet.uu.net                    \n",
      ": intersc. bible search inst.: teme lines: 27 hi!\tanyone know anything about the intersciinary bible searchinstitute, operating out of hatfield, pa?\tim ally intested in thr theories on old-earth(as opposed to young earth) and what th believe about evolution.\tthanks,\t\tin the master,\t\tcharl.--       seek god and you will find, among other things,                          piercing easu.              seek easu and you will find bodom, sillusionment                              and enslavement.                                      john white (eros defiled).\t[note that i do not accept scussions of evolution he, as thers a deted group for that, ta.origins.  --clh]\n",
      ": : top 10 asons why i love cr (not for the hor impaid)article-i.d.: cs.1993apr6.195710.24227r-to: finnegan@navo.navy.milstribution: na: grman data systemslines: 28nntp-posting-host-[nntpd-19510]: invader.navo.navy.milin article <1993apr6.180456.17573@magnus.acs.ohio-state.>, jnielsen@magnus.acs.ohio-state. (john f nielsen) writes:|> in article <1993apr06.133319.7008@metrics> tomh@metrics (tom haapanen) writes:|> >chints@iscs.nus.sg writes:|> >> he a \"another\" ten asons why we should all love cr|> >> 10. r salesmen love thr new r buying service|> >> 2. and later on buying a cr \"idealized family sedan\"|> >|> >and my nber 1:|> >|> >1. the spectacle of the ligious fervour of the cr \"true believers\".|> |> or the spectacle of \"macho al men\" who would never bother to ad the|> magazine but a mo than apt to criticize it.h, im a \"macho al man\" and i do ad it.  so i n criticizt all i want, especially since i pay for the publition. (thaccept no outside advertising, dont you know....)|> john nielsen   magnus consultant            ______   ______   __  __\t|> \"to you baldrick, the naissance was just /\\  __ \\ /\\  ___\\ /\\ \\/\\ \\|> something that happened to other peoe,   \\ \\ \\/\\ \\\\ \\___  \\\\ \\ \\_\\ \\|> wasnt it?\" - the black adder               \\ \\_____\\\\/\\_____\\\\ \\_____\\lying on conser ports to pick your automobiles is likeletting field & stam select your living room furnitu.kennethfinnegan@navo.navy.mil\n",
      "subject: : amerins and evolutionfrom: halat@pooh.bears (jim halat)r-to: halat@pooh.bears (jim halat)lines: 10in article <j0=5l3=@rpi.>, johnsd2@jec322.its.rpi. (dan johnson) writes:>in article 143048io30436@maine.maine., <io30436@maine.maine.> () writes:dan johnson-you dont know me, but take this hand anyway.  bravo for go(ds) = 0. beautiful!  simy beautiful!-jim halat\n",
      ": frozen shoulder and lawn mowing: eastern illinois lines: 12ihave had a frozen shoulder for over a year or about a year.  it is stillpartially frozen, and i am still in physil therapy every week.  but thepain has subsided almost cometely.  until last week when i mowed thelawn for twenty minutes each, two days in a row.  i have a push type powermower.  the pain started back up a little bit for the first time in quitea while, and i used ice and mecine again.  n anybody exain why thisparticular activity, which does not seem to stss me very much generally,should use this shoulder problem?thanks.alice\n",
      ": : taurus/sable rotor ll: teme lines: 23nntp-posting-host: pisso.ocis.teme.x-newsader: tin [version 1.1 9]antonio l. balsamo (save the wails) (balsamo@stargl.enet.dec) wrote:: from: opdbs@vm.cc.latech.: subject: taurus/sable rotor ll:        my 92 taurus gl with only 26k on the clock also has rotor warp.:    appantly th havent fixed the problem yet.  but try convincing the ford:    service person to fix it for fe...right!!!:    tonygads, i have heard so many horror stories with taurus and sable rs!  i thoughtthese we pmi amerin automobiles.  the way th sell, youd think so.is ford ally no better than in the late 70s when it was turning out tinns like the granada and the fairmount?  which would you get, a taurus or a mry or accord?johnzorro@pisso.ocis.teme.zorro@astro.ocis.teme.^^^^^^^^^^^^^^^^^^^^^^^^^^^\n",
      ": some mo info. about p9000 boardoriginator: himb@iniki: school of ocean and earth science and technologylines: 10  one mo thing to add, the orchid board vesa bios is onlyable to handle the 1 meg dram on board, the viper however nutilize the 2 meg vram on board to support vesa modes such as1280x1024x256, 800x600x16 mil. and 1024x768x65536 under dos.+----------------------------------------------------------------+stephen lau, elec. engineering, univ. of hawaii dont have my own account until grad. school starts (autn 93)+              death to fm synthesis! go gus!                    +\n",
      ": : v-m handling questnntp-posting-host: thor: newbridge networks corporationlines: 21in article <1qjtr9$llb@news.ysu.> ak296@yfn.ysu. (john r. daker) writes:>>in a pvious article, ba7116326@ntuv.ntu.ac.sg () says:>>>hello the>>in anyone who has handson experience on ring the yama v-m, s kindly>>comment on its handling .>>you kidng, right?  this is flame bait in the extme.  v-m handling?>har har har har....zero to very fast very quickly... lastest ror is 115 hp at the ar wheel,handles like a dam in a straight line to 80-100, and then gets a tad upsetaccorng to a view in cycle world... cornering, er well, you nt have everything... seriously, handling is probably as good as the big standardsof the early 80s but not compaable to whats state of the art these days.all this gleemed from views and scussions with owners. i too lust afterthis bike.bj...bradw@newbridge... no .sig no .an no.clue  >> dod# 255 <<\n",
      ": modem questionarticle-i.d.: blue.9061: p-eelines: 2\t\t\t\t\tart\n",
      ": : too many europeans in : adobe systems incorporatedlines: 17in article <1993apr6.141557.8864@alchemy.chem.utoronto.> golchowy@alchemy.chem.utoronto. (gerald olchowy) writes:>anyways, crawl back into the hole you crawled out of...the nba doesnt> whe th get basketball ayers from, major league baseball>doesnt give a damn whe th get baseball ayers from (except cuba,>that is).mlb is perfectly willing to take ayers from cuba.  th just have todefect first.  sort of like the situation used to be with russian/czech/etc hockayers, until the politil situation in those countries changed.sherri nicholssnichols@adobe\n",
      ": : question about virgin mary: at&t bell labslines: 18in article <may.3.05.01.53.1993.9964@athos.rutgers.> a.faris@trl.oz.au (aziz faris) writes:>[i think you taing about the \"assption of the blessed virgin>mary\".  it says that \"the immaculate mother of god, the ever virgin>mary, having cometed the course of her earthly life, was assed>body and soul into heavenly glory.\"  this was defined by a papal>statement in 1950, though it had certainly been believed by some>befo that.  --clh]so true.  im not su of the basis of the belief, but it was a widelyheld belief among the laity of the rc church and thr support of itlead to it bng declad to be true.  basilly the teaching on infallibilityholds that the pope is infallible in matters of faith and doctrine, thecollege of bishops is likewise infallible, and the laity is as well.the pope gets most of the attention/criticism but the consensus of theother boes is equally infallible (accorng to rc teaching).joe moo\n",
      ": : help: brunel , uxbridge, uklines: 27jon ogden (jono@mac-ak-24.rtsg.mot) wrote:: it is a dead and useless faith which has no action behind it.  actions: prove our faith and show the genuineness of it.a good exame of this is abram (ferd to in the james passage). hebwssays that abram was justified by faith -- but his faith was demonstratedthrough his works (i.e., he obed what god told him to do).ang abrams ``biography in genesis is very instructive. he was a manbeset by *lack* of faith a lot of the time (e.g. lying about sar bng hiswife on 2 ocsions; trying to fulfil gods promise on gods behalf bycopulating with hagar). . . yet it seems that god dnt evaluate him on thebasis of invidual incidents. abram is listed as one of the ``heroes of faith in hebws 11. i.e., when it ally me to the crunch, god decladabram as a man of faith. he believed gods promises.this gives us confidence. although al faith demonstrates itself throughworks, god is not going to judge us accorng to our success/failu inperforming works.``not by works of righteousness which we have done, but accorng to his mercyhe saved us, through the washing of generation, and newing of the holyspirit. (titus 3.5)amazing grace! halleluj!-- michael davis (cs89mcd@brunel.ac.uk)\n",
      ": : once tapped, your code is no good any mo.: univ. of southwestern louisianalines: 52strnlght@netcom (david sternlight) writes:>what follows is my opinion. it is not asserted to be \"the truth\" so no>flames, ease.  it comes out of a background of 20 years as a senior>corporate staff executive in two fortune 50 companies.>id be happy to use a crypto system supied by the nsa for business, if>th told me it was mo secu than des, and in particular sistant to>attempts by japanese, fnch, and other competitive companies and>governments to bak.>id be happy to do so even with escrowed ks, provided i was happy about>the bona fides of the escrow agencies (the federal serve would certainly>satisfy me, as would something set up by one of the big 8 accounting firms).>id trust the nsa or the psident if th stated the we no trap>doors--id be even happier if a committee of independent experts examined>the thing under seal of seccy and ported back that it was secu.>id trust something from the nsa long befo id trust something from some>swiss or anybody japanese.a lot of us out he in the hinderland will trust the japanesebefo well trust the nsa, the psident, or those stupidfortune 50 companies you so proud of.>this may seem surprising to some he, but i suggest most corporations would>feel the same way. most/many/some (pick one) corporations have an attitude>that the nsa is part of our government and \"we support our government\", as>one very famous ceo put it to me one day.>just some perspective from another point of view.and since the japanese corps ant part of our \"government/governors\"th may be mo trusted out hte than you a.peoe a getting tid of this \"be patriotic, do whatever we saywithout question, and pay mo tes\" attitude that comes fromameris politil party...or should that be ste?>-- >david sternlight         gat  has been taken to ensu the accuracy of>                         our information, errors and omissions excepted.  --phil fraering         |\"seems like every day we find out all sorts of stuff.pgf@srl02.cs.usl.|like how the ancient mayans had televison.\" po man\n",
      ": books for sale!!nntp-posting-host: ravel.udel.:  of delawastribution: usalines: 28someone ease buy these books!!!!!  i am not asking much!!!!!!just make me an offer and i will probably take it!!!!!* lculus w/ analytic geometry by authur b. simon (copyright date 1982), below avg contion but still adable! * writing good softwa in fortran, gram smith. * the holt handbook by kirszner & mandell (copyright 1986) 720+ page writing guide. * algebra & trigonometry, a problem solving approach, 3rd etion by w. flemming and d. varberg.  very good contion.* general chemistry princies & modern apitions, r. petrucci, fourth  etion.  big book! very good contion!* solutions manual for chemistry book.  paperback.* study guide for chemistry book.  paperback.send me your offers via email at 02106@chopin.udel.sam02106@chopin.udel.\n",
      ": : es with ide???: monash lines: 27in article <1qegfd$dqi@wsinis03.info.win.tue.nl> monty@wsinis03.info.win.tue.nl (guido leenders) writes:>hi,>>is it possible to use an es-controller with hdd together with an>ide-hardsk + controller in one isa-system?>>ive ad stuff about secondary controllers. does this trick work?>>thanx in advance,>>guido>monty@win.tue.nli have the same question as guido. it is possible to use the es drive as a master and the ide drive as the slave ? at the moment , i have been using the es drive and cently i bought a ide drive to use as the 2nd drive . the person in the computer shop told me that it is not possible to run 2 sk controller rds together on the same motherboard ( es and ide ) but i think the might be some way of making them work. n anybody enlighten me on this?and it is possible to  run a es hdd using a ide controller? or vice versa?n anybody ease help me out on this?your help will be very much appciated.g.chowels390r@fawlty1.eng.monash..auels390r@mdw013.cc.monash..augtchow@yoyo.cc.monash..au\n",
      ": : [ networking ] how to get 10 ma: royal institute of technology, stockholm, swedenlines: 24nntp-posting-host: hemul.nada.kth.sn <92.2bd1cd0c@olotl> steed.bell@macrocosm.omug.org (steed bell) writes:>networked together using apeta and phonenet connectors. to chat we use a>program lled broadst. with it we n send brief messages to all or>selected machines within the network.if you use system 7, you n use my apition zing which hasa 30 kb footprint (meaning you n have it running all the timewithout losing memory)it is also compatible with the chat program \"fishbomb\" which allowssounds and pictus as well.both a, as far as i know, fewa (i dustribute zing with source)and should be available on the normal services (mac.archive.ich.for instance)cheers,\t\t\t\t\t/ h+--  -- jon w{tte, h+@nada.kth.se, mac hacker deluxe --   this signatu is kept shorter than 4 lines in the intests of usenet   s/n ratio.\n",
      ": : if the we no hell: computer science, liverpool lines: 31in article <may.5.02.51.25.1993.28737@athos.rutgers.>, shellgate!llo@uu4.psi (larry l. overacker) writes:> hes a question that some friends and i we debating last night.> > q: if you knew bond all doubt that hell d not exist and that>    unbelievers simy mained dead, would you main a christian?> > my contention is that if you answer this question with \"no. i would> not then main a christian\" then you ally a not one now.  > following jesus christ has everything to do with sharing in> his work and spang the news that the kingdom of heaven is alady> among us.  fear-based ligion is not a faith-lationship with the> one who made us all.so does that mean that anyone who is a christian to avoid hell isnt allya christian at all? it sounds like it to me.mit liebe in christus, martyn r. mellodew. (u0mrm@compsci.liverpool.ac.uk)--------------------------------------------------------------------------------martyn r. mellodew,                |     e-mail: u0mrm@compsci.liverpool.ac.ukdepant of apied mathematics  |     arpa/internet: u0mrm@csc.liv.ac.uk  and theotil physics,         |     janet:         u0mrm@uk.ac.liv.cscthe  of liverpool,       |p.o. box 147,                      | liverpool,                         |england,                           | l69 9bx.                           |     `dubito ergo deus est.--------------------------------------------------------------------------------\n",
      ": : a visit from the jehovs witnesses: se western serve lines: 48nntp-posting-host: b64635.student.cwru.in article <suopanki.93apr6024902@stekt6.oulu.fi> suopanki@stekt6.oulu.fi (hkki t. suopanki) writes:>:> god is eternal.    [a = b]>:> jesus is god.      [c = a]>:> thefo, jesus is eternal.  [c = b]>>:> this works both logilly and mathematilly.  god is of the set of>:> things which a eternal.  jesus is a subset of god.   thefo>:> jesus belongs to the set of things which a eternal.>>everything isnt always so logil....>>mercedes is a r.>that girl is mercedes.>thefo, that girl is a r?\tthis is not  strickly corct. only by incorct apition of the rules of language, does it seem to work.\tthe mercedes in the first pmis, and the one in the second a not the same mercedes. \tin your se, \ta = b\tc = d\t\ta and d a not equal. one is a name of a person, the other thename of a object. you n not simy extract a word without taking the context into account. \tof course, your se doesnt imy that a = d.\tin his se, a does equal d.\ttry again...---        \"one thing that lates is among navy men that get tatoos that         say \"mom\", beuse of the love of thr mom.  it makes for mo         virile men.\"        bobby mozder  ( snm6394@ultb.isc.rit. )        april 4, 1993        the one true muslim left in the world. \n",
      ": cds for salelines: 22:  of lowell th following cds a for sale. each cd cost 10$ except otherwise inted which includes shipping and handling.achtung baby\t\t\t\tu2 *joshua te\t\t\t\tu2 **the immaculate collection              madonna **  $12love hurts                              cher *garth brooks                           garth brooks *d hot ..chilli peppers..               **ooooohhhhh\t\t\t\ttlc **light and shadows\t\t\twilson *** used only once.** never used, most of them a still in shrink wrapsease email tokgc @ woods.ulowell.\n",
      ": : supy side economic policy (was : david stockman )nntp-posting-host: solomon.technet.sg: technet, singapostribution: nalines: 29in article <ufk_gqu00wbke75v@andw.cmu.> ashish arora <ashish+@andw.cmu.> writes:>excerpts from netnews.sci.econ: 5-apr-93 : supy side economic po..>by not a boomer@desi.wrig >[...]>>>    the deficits declined from 84-9, aching a low of 2.9% of gnp befo  >> the t and spenng hike of 1990 versed the tnd.>>  >> btt>is this true ?  some mo details would be appciated.yes, sadly, this is true. the primary ason, and the essence of thedetails that you a seeking, is that the grm-rudman budget controlswe working.  in fact, th we working so well that unless the fedsd something, th we going to have to start cutting pork. so bushand the democrats got together in a budget smit and acedgrm-rudman with the now historic grand compromise in which bush\"consented\" to raise tes in exchange for certain ps on spenngincases.as it turned out, the tes killed the agan expansion and the pson spenng incases we spelled by clinton in his first act aspsident (so that he could cate his own new an with mo tincases).the sult is that clinton now hopes to duce the deficit to a level above whe it was when agan left office.chew on that awhile.\n",
      ": ati gup and vpicnntp-posting-host: pest.ctpm.uq.oz.au: ctpm and csirolines: 13could someone tell me if the ati graphic ultra pro is supported in a versionof vpic now.if so whe is it loted.thanksrobertemail s would be appciated :-)-- =-=-=-=-=-=-=-=-=-=-=-=-=-=-=-=-=-=-=-=-=-=-=-=-=-=-=-=-=-=-=-=-=-=-=-=-=-==  robert merlicek                    cbr600 from hell                    ==  robert@ctpm.uq.oz.au            engage lucrous speed                 ==-=-=-=-=-=-=-=-=-=-=-=-=-=-=-=-=-=-=-=-=-=-=-=-=-=-=-=-=-=-=-=-=-=-=-=-=-= \n",
      ": : nazi eugenic theories circulated by cpr => (unconventional peace)nntp-posting-host: orion.oac.uci.:  of lifornia, irvinelines: 15in article <1qvi7s$b1o@usenet.ins.cwru.> bc744@cleveland.fenet. (mark ira kaufman) writes:>>   first this man promotes the ssolution of the jews through an>intermarriage process, and then says that it will be just a bunch>of fundamentalist jews who will object.  >>or does he simy mean to insult the orthodox by using the word >fundamentalist?>its irritating when someone mis-labels \"us\" as \"fundamentalists\",isnt it?  this sort of thing may help us understand why some muslims rather sent bng put under this label.tim\n",
      ": : how many mutlus n dance on the head of a pin?x-sclaimer: nyx is a public access unix system run by the \tof denver for the denver community.  the  has nther\tcontrol over nor sponsibility for the opinions of users.: nyx, public access unix at u. of denver math/cs dept.lines: 16in article <3456@israel.nysernet.org> warn@nysernet.org writes:>in <c4xkbx.53f@polaris.async.vt.> jfurr@polaris.async.vt. (joel furr) writes:>>how many mutlus n dance on the head of a pin?>>that minds me of the armenian massac of the turks.>>joel, i took out sct, a we su we want to invoke the name of he who>gps for mason kibos last name lest he include afu in his daily>rounds?i dunno, warn.  just the other day i heard a ror that \"serdar argic\"(aka hasan mutlu and med cosar and zabot) is not ally a turk at all,but in fact is an armenian who is attempting to make any scussion of themassacs in armenia of turks so noise-laden as to make serious scussionimpossible, theby cloaking the historil cord with a tmendous cloudof confusion.  \n",
      ": need help with mitsubishi p78u image printer:  of southern lifornia, los angeles, lines: 26stribution: nanntp-posting-host: sipi.usc.our group cently bought a mitsubishi p78u video printer and i could use somehelp with it.  we bought this thing beuse it (1) has a parallel data input inadtion to the usual video signal inputs and (2) claimed to print 256 graylevel images.  however, the manual that me with it only describes how toformat the parallel data to print 1 and 4 bit/pixel images.  after some initialproblems with the parallel interface i now have this thing running from aparallel port of an hewlett-packard workstation and i n print 1 and 4bit/pixel images just fine.  i lled the mitsubishi peoe and asked about the256 level claim and th said that was only available when used with the videosignal inputs.  this was not mentioned in the sales literatu.  however thd say the p78u n do 6 bit/pixel (64 level) images in parallel mode, butth dnt have any information about how to program it to do so, and thwould ll japan, etc.frankly, i find it hard to believe that if this thing n do 8 bit/pixel imagesfrom the video source, it nt sto 8 bits/pixel in the memory.  its notlike memory is that expensive any mo.  if anybody has any information ongetting 6 bit/pixel (or even 8 bit/pixel) images out of this thing, i wouldgatly appciate your senng it to me.thanks.allan webersignal & image processing institute of southern liforniaweber@sipi.usc.\n",
      ": : menangitis questionarticle-i.d.: pitt.19427r-to: km@cs.pitt. (ken mitch): univ. of pittsburgh computer sciencelines: 42in article <c4nzn6.mzx@crdnns.crd.ge> brooksby@brigham.nosubdomain.nodomain (glen w brooksby) writes:>this past weekend a friend of mine lost his 13 month old>daughter in a matter of hours to a form of menangitis.  the>person informing me lled it niceal meningicocis (sp?).>in trospect, the sease struck her probably sometime on >friday evening and she passed away about 2:30pm on saturday.>the symptoms seemed to be a rash that started small and>then began progssing rapidly. she began turning blue>eventually which was the tip-off that this was serious>but by that time it was too late (this is all second hand info.).>>my question is:>is this an unusual form of menangitis?  how is it transmitted?>how does it work (ie. how does it kill so quickly)?the a many organisms, viral, bacterial, and fungal, which nuse meningitits, and the course of these infections varieswidely. the uses of bacterial meningitis vary with age: in adultspneococcus (the same organism which uses pneococl pneonia)is the most common use, while in childn hemophilus influenzas the most common use.what you a describing is meningitis from nsseria meningitis,which is the second most common use of bacterial meningitis inboth groups, but with lower incidence in infants. this organismis also lled the \"meningococcus\", and is the source of thecommon epidemics of meningitis that occur and a popularized inthe pss. without prompt taent (and even with it in some ses),the organism typilly uses death within a day. this organism, fead as it is, is actually grown from the throatsof many normal adults. it n get to the meninges by ffentways, but blood borne spad is probably the usual se. rifampin (an oral antibiotic) is often given to family and contactsof a se of meningococl meningitis, by the way.sorry, but i dont have time for a mo detailed r. meningitisis a huge topic, and sci.med nt do it justice.-km\n",
      "subject: mit r5 on sun with rasterops tc colorboardfrom: mark@comp.vuw.ac.nz (mark davies)stribution: world: dept. of comp. sci., victoria uni. of wellington, new zealand.nntp-posting-host: batsp.vuw.ac.nzlines: 9is it possible to run an mit r5 based xserver on a sun with a rasterops tccolorboard (24bit board)?  i have the xsun24 patches for supporting suns24bit frame buffers but does the rasterops appear as if its a cgtwelve orsomething else?  i know nothing about the rasterops other than we might bebuying one to put in an ipx.cheersmark\n"
     ]
    }
   ],
   "source": [
    "for a in results.keys():\n",
    "    for b in results[a].keys():\n",
    "        print(results[a][b])\n",
    "    "
   ]
  },
  {
   "cell_type": "code",
   "execution_count": null,
   "metadata": {},
   "outputs": [],
   "source": [
    "def get_texts (topic_list, all_texts):\n",
    "    results = {}\n",
    "    for a in topic_list[\"clusters\"].keys():\n",
    "        sub_results = {}\n",
    "        for b in topic_list[\"clusters\"][a]:\n",
    "            sub_results[str(b)] = all_texts[\"text\"][str(b)]\n",
    "        results[a]= sub_results\n",
    "    return results"
   ]
  },
  {
   "cell_type": "code",
   "execution_count": null,
   "metadata": {},
   "outputs": [],
   "source": []
  },
  {
   "cell_type": "code",
   "execution_count": null,
   "metadata": {},
   "outputs": [],
   "source": []
  },
  {
   "cell_type": "code",
   "execution_count": null,
   "metadata": {},
   "outputs": [],
   "source": []
  },
  {
   "cell_type": "code",
   "execution_count": 14,
   "metadata": {},
   "outputs": [
    {
     "name": "stdout",
     "output_type": "stream",
     "text": [
      "{'code': 200, 'msg': 'User created', 'user_id': 29}\n"
     ]
    }
   ],
   "source": [
    "user = requests.post(create_user, {\n",
    "    \"user_session\": \"daniel\"\n",
    "    })\n",
    "print(user.json())"
   ]
  },
  {
   "cell_type": "code",
   "execution_count": 21,
   "metadata": {},
   "outputs": [
    {
     "name": "stdout",
     "output_type": "stream",
     "text": [
      "<Response [404]>\n"
     ]
    }
   ],
   "source": [
    "topic_list = requests.get(get_topic_list)\n",
    "print(topic_list)"
   ]
  },
  {
   "cell_type": "code",
   "execution_count": 70,
   "metadata": {},
   "outputs": [
    {
     "data": {
      "text/plain": [
       "{'label': 'random', 'document_id': '0', 'response_time': '0', 'user_id': 3}"
      ]
     },
     "execution_count": 70,
     "metadata": {},
     "output_type": "execute_result"
    }
   ],
   "source": [
    "\n",
    "{  \n",
    "   \"label\": \"random\",\n",
    "   \"document_id\": \"0\",\n",
    "   \"response_time\": \"0\",\n",
    "   \"user_id\": 3\n",
    "}\n"
   ]
  },
  {
   "cell_type": "code",
   "execution_count": 75,
   "metadata": {},
   "outputs": [],
   "source": [
    "data = \"{'code': 200, 'msg': 'SUCCESS', 'prediction': 'Create at least 2 labels to start model suggestion', 'topic': {'0': {'keywords': ['know', 'not', 'public', 'access', 'like', 'article', 'go', 'think', 'ask', 'want', 'say', 'try', 'guy', 'happen', 'look', 'question', 'copy', 'oh', 'come', 'write'], 'spans': [[], [], [], [], [], [], [], [], [], [], [], [], [], [], [], [], [], [], [], [], [], [], [], [], [], [], [], [], [], [], []]}, '1': {'keywords': ['window', 'problem', 'file', 'system', 'line', 'not', 'monitor', 'scen', 'like', 'program', 'help', 'try', 'user', 'drive', 'set', 'floppy', 've', 'ape', 'work', 'apition'], 'spans': [[23, 27], [], [], [], [], [], [], [], [], [], [], [], [], [], [], [], [], [], [], [], [], [], [], [], [], [], [], [], [], [], [], []]}, '10': {'keywords': ['work', 'host', 'posting', 'time', 'know', 'ease', 'computer', 'not', 'find', 'tell', 'problem', 'state', 'buy', 'support', 'get', 'note', 'send', 'anybody', 'try', 'll'], 'spans': [[], [], [], [], [], [], [], [], [], [], [], [], [], [], [], [], [], [], [], [], [], [], [], [], [], [], [], [], [], [], []]}, '11': {'keywords': ['not', 'thing', 'like', 'good', 'problem', 'think', 'power', 'know', 'little', 'say', 'time', 'speed', 'well', 'ally', 'find', 'get', 'life', 'long', 'beuse', 'way'], 'spans': [[11, 16], [23, 27], [], [], [], [], [], [], [], [], [], [], [], [], [], [], [], [], [], [], [], [], [], [], [], [], [], [], [], [], [], [], []]}, '12': {'keywords': ['not', 'think', 'article', 'wrong', 'ad', 'run', 'posting', 'understand', 'will', 'want', 'need', 'statement', 'net', 'host', 'actually', 'say', 'group', 'post', 'new', 'port'], 'spans': [[23, 27], [], [], [], [], [], [], [], [], [], [], [], [], [], [], [], [], [], [], [], [], [], [], [], [], [], [], [], [], [], [], []]}, '13': {'keywords': ['article', 'write', 'host', 'posting', 'run', 'line', 'message', 'search', 'news', 'year', 'home', 'apr', 'new', 'come', 'right', 'think', 'know', 'long', 'coue', 'build'], 'spans': [[], [], [], [], [], [], [], [], [], [], [], [], [], [], [], [], [], [], [], [], [], [], [], [], [], [], [], [], [], [], []]}, '14': {'keywords': ['send', 'etc', 'company', 'board', 'service', 'mail', 'custom', 'information', 'nber', 'work', 'info', 'electronic', 'version', 'type', 'line', 'sale', 'name', 'show', 'not', 'letter'], 'spans': [[], [], [], [], [], [], [], [], [], [], [], [], [], [], [], [], [], [], [], [], [], [], [], [], [], [], [], [], [], [], []]}, '15': {'keywords': ['article', 'know', 'not', 'think', 'food', 'write', 'believe', 'mean', 'eat', 'good', 'follow', 'lot', 'posting', 'want', 'time', 'opinion', 'fe', 'consider', 'day', 'host'], 'spans': [[11, 16], [23, 27], [], [], [], [], [], [], [], [], [], [], [], [], [], [], [], [], [], [], [], [], [], [], [], [], [], [], [], [], [], [], []]}, '16': {'keywords': ['article', 'question', 'arab', 'state', 'year', 'not', 'israeli', 'bank', 'answer', 'member', 'blood', 'allow', 'rule', 'search', 'fact', 'mind', 'aa', 'say', 'try', 'live'], 'spans': [[11, 16], [23, 27], [], [], [], [], [], [], [], [], [], [], [], [], [], [], [], [], [], [], [], [], [], [], [], [], [], [], [], [], [], [], []]}, '17': {'keywords': ['right', 'gun', 'like', 'article', 'not', 'try', 'drug', 'law', 'black', 'think', 'government', 'health', 'crime', 'world', 'ad', 'look', 'face', 'life', 'fiarm', 'state'], 'spans': [[11, 16], [23, 27], [], [], [], [], [], [], [], [], [], [], [], [], [], [], [], [], [], [], [], [], [], [], [], [], [], [], [], [], [], [], []]}, '18': {'keywords': ['do', 'need', 'run', 'system', 'mail', 'driver', 'pc', 'window', 'find', 'softwa', 'unix', 'host', 'know', 'posting', 'version', 'computer', 'time', 'level', 'world', 'include'], 'spans': [[], [], [], [], [], [], [], [], [], [], [], [], [], [], [], [], [], [], [], [], [], [], [], [], [], [], [], [], [], [], []]}, '19': {'keywords': ['image', 'look', 'program', 'good', 'need', 'printer', 'font', 'help', 'graphic', 'driver', 'print', 'information', 'sult', 'want', 'know', 'line', 'host', 'problem', 'point', 'posting'], 'spans': [[], [], [], [], [], [], [], [], [], [], [], [], [], [], [], [], [], [], [], [], [], [], [], [], [], [], [], [], [], [], []]}, '2': {'keywords': ['ground', 'encryption', 'system', 'clipper', 'government', 'chip', 'vote', 'curnt', 'new', 'technology', 'neutral', 'need', 'phone', 'course', 'proposal', 'device', 'privacy', 'available', 'datum', 'access'], 'spans': [[11, 16], [], [], [], [], [], [], [], [], [], [], [], [], [], [], [], [], [], [], [], [], [], [], [], [], [], [], [], [], [], [], []]}, '3': {'keywords': ['not', 'game', 'team', 'win', 'dealer', 'sound', 'think', 'saturn', 'beuse', 'ye', 'point', 'true', 'come', 'father', 'well', 'save', 'hock', 'way', 'price', 'believe'], 'spans': [[23, 27], [], [], [], [], [], [], [], [], [], [], [], [], [], [], [], [], [], [], [], [], [], [], [], [], [], [], [], [], [], [], []]}, '4': {'keywords': ['host', 'posting', 'write', 'article', 'state', 'line', 'good', 'work', 'year', 'new', 'know', 'version', 'time', 'like', 'not', 'ease', 'world', 'turn', 'cent', 'newsader'], 'spans': [[], [], [], [], [], [], [], [], [], [], [], [], [], [], [], [], [], [], [], [], [], [], [], [], [], [], [], [], [], [], []]}, '5': {'keywords': ['bike', 'new', 'sell', 'buy', 'mile', 'not', 'look', 'price', 'small', 'hard', 'sale', 'build', 'like', 'little', 'article', 'go', 'system', 'tis', 'road', 'opinion'], 'spans': [[23, 27], [], [], [], [], [], [], [], [], [], [], [], [], [], [], [], [], [], [], [], [], [], [], [], [], [], [], [], [], [], [], []]}, '6': {'keywords': ['armenian', 'not', 'know', 'say', 'go', 'tell', 'beuse', 'see', 'kill', 'thing', 'soler', 'turk', 'way', 'ask', 'like', 'turn', 'live', 'want', 'time', 'happen'], 'spans': [[11, 16], [], [], [], [], [], [], [], [], [], [], [], [], [], [], [], [], [], [], [], [], [], [], [], [], [], [], [], [], [], [], []]}, '7': {'keywords': ['not', 'believe', 'christian', 'beuse', 'claim', 'church', 'think', 'man', 'athst', 'argent', 'take', 'faith', 'sin', 'true', 'point', 'morality', 'world', 'say', 'life', 'act'], 'spans': [[11, 16], [], [], [], [], [], [], [], [], [], [], [], [], [], [], [], [], [], [], [], [], [], [], [], [], [], [], [], [], [], [], []]}, '8': {'keywords': ['drive', 'bit', 'claim', 'effect', 'speed', 'mode', 'evidence', 'period', 'video', 'not', 'question', 'ease', 'device', 'power', 'answer', 'way', 'fast', 'nnot', 'article', 'thing'], 'spans': [[11, 16], [], [], [], [], [], [], [], [], [], [], [], [], [], [], [], [], [], [], [], [], [], [], [], [], [], [], [], [], [], [], []]}, '9': {'keywords': ['not', 'year', 'good', 'like', 'think', 'time', 'bad', 'article', 'look', 'list', 'old', 'go', 'write', 'job', 've', 'mean', 'school', 'beuse', 'know', 'get'], 'spans': [[11, 16], [], [], [], [], [], [], [], [], [], [], [], [], [], [], [], [], [], [], [], [], [], [], [], [], [], [], [], [], [], [], []]}}, 'topic_order': [['8', '0.8812421'], ['3', '0.012108982'], ['17', '0.0069945026'], ['19', '0.006490359'], ['4', '0.0064282627'], ['5', '0.00637943'], ['14', '0.006316759'], ['11', '0.006239021'], ['13', '0.0061144046'], ['18', '0.005911915'], ['2', '0.0058633382'], ['9', '0.0056569222'], ['10', '0.0055949753'], ['16', '0.0055889757'], ['0', '0.005569332'], ['1', '0.0055600205'], ['15', '0.005520871'], ['6', '0.005518739'], ['7', '0.0055028778'], ['12', '0.0053981976']]}\""
   ]
  },
  {
   "cell_type": "code",
   "execution_count": 88,
   "metadata": {},
   "outputs": [
    {
     "ename": "JSONDecodeError",
     "evalue": "Expecting property name enclosed in double quotes: line 1 column 2 (char 1)",
     "output_type": "error",
     "traceback": [
      "\u001b[1;31m---------------------------------------------------------------------------\u001b[0m",
      "\u001b[1;31mJSONDecodeError\u001b[0m                           Traceback (most recent call last)",
      "\u001b[1;32m~\\AppData\\Local\\Temp\\ipykernel_27952\\1454946561.py\u001b[0m in \u001b[0;36m<module>\u001b[1;34m\u001b[0m\n\u001b[1;32m----> 1\u001b[1;33m \u001b[0mjson\u001b[0m\u001b[1;33m.\u001b[0m\u001b[0mloads\u001b[0m\u001b[1;33m(\u001b[0m\u001b[0mdata\u001b[0m\u001b[1;33m)\u001b[0m\u001b[1;33m\u001b[0m\u001b[1;33m\u001b[0m\u001b[0m\n\u001b[0m",
      "\u001b[1;32m~\\AppData\\Local\\Programs\\Python\\Python37\\lib\\json\\__init__.py\u001b[0m in \u001b[0;36mloads\u001b[1;34m(s, encoding, cls, object_hook, parse_float, parse_int, parse_constant, object_pairs_hook, **kw)\u001b[0m\n\u001b[0;32m    346\u001b[0m             \u001b[0mparse_int\u001b[0m \u001b[1;32mis\u001b[0m \u001b[1;32mNone\u001b[0m \u001b[1;32mand\u001b[0m \u001b[0mparse_float\u001b[0m \u001b[1;32mis\u001b[0m \u001b[1;32mNone\u001b[0m \u001b[1;32mand\u001b[0m\u001b[1;33m\u001b[0m\u001b[1;33m\u001b[0m\u001b[0m\n\u001b[0;32m    347\u001b[0m             parse_constant is None and object_pairs_hook is None and not kw):\n\u001b[1;32m--> 348\u001b[1;33m         \u001b[1;32mreturn\u001b[0m \u001b[0m_default_decoder\u001b[0m\u001b[1;33m.\u001b[0m\u001b[0mdecode\u001b[0m\u001b[1;33m(\u001b[0m\u001b[0ms\u001b[0m\u001b[1;33m)\u001b[0m\u001b[1;33m\u001b[0m\u001b[1;33m\u001b[0m\u001b[0m\n\u001b[0m\u001b[0;32m    349\u001b[0m     \u001b[1;32mif\u001b[0m \u001b[0mcls\u001b[0m \u001b[1;32mis\u001b[0m \u001b[1;32mNone\u001b[0m\u001b[1;33m:\u001b[0m\u001b[1;33m\u001b[0m\u001b[1;33m\u001b[0m\u001b[0m\n\u001b[0;32m    350\u001b[0m         \u001b[0mcls\u001b[0m \u001b[1;33m=\u001b[0m \u001b[0mJSONDecoder\u001b[0m\u001b[1;33m\u001b[0m\u001b[1;33m\u001b[0m\u001b[0m\n",
      "\u001b[1;32m~\\AppData\\Local\\Programs\\Python\\Python37\\lib\\json\\decoder.py\u001b[0m in \u001b[0;36mdecode\u001b[1;34m(self, s, _w)\u001b[0m\n\u001b[0;32m    335\u001b[0m \u001b[1;33m\u001b[0m\u001b[0m\n\u001b[0;32m    336\u001b[0m         \"\"\"\n\u001b[1;32m--> 337\u001b[1;33m         \u001b[0mobj\u001b[0m\u001b[1;33m,\u001b[0m \u001b[0mend\u001b[0m \u001b[1;33m=\u001b[0m \u001b[0mself\u001b[0m\u001b[1;33m.\u001b[0m\u001b[0mraw_decode\u001b[0m\u001b[1;33m(\u001b[0m\u001b[0ms\u001b[0m\u001b[1;33m,\u001b[0m \u001b[0midx\u001b[0m\u001b[1;33m=\u001b[0m\u001b[0m_w\u001b[0m\u001b[1;33m(\u001b[0m\u001b[0ms\u001b[0m\u001b[1;33m,\u001b[0m \u001b[1;36m0\u001b[0m\u001b[1;33m)\u001b[0m\u001b[1;33m.\u001b[0m\u001b[0mend\u001b[0m\u001b[1;33m(\u001b[0m\u001b[1;33m)\u001b[0m\u001b[1;33m)\u001b[0m\u001b[1;33m\u001b[0m\u001b[1;33m\u001b[0m\u001b[0m\n\u001b[0m\u001b[0;32m    338\u001b[0m         \u001b[0mend\u001b[0m \u001b[1;33m=\u001b[0m \u001b[0m_w\u001b[0m\u001b[1;33m(\u001b[0m\u001b[0ms\u001b[0m\u001b[1;33m,\u001b[0m \u001b[0mend\u001b[0m\u001b[1;33m)\u001b[0m\u001b[1;33m.\u001b[0m\u001b[0mend\u001b[0m\u001b[1;33m(\u001b[0m\u001b[1;33m)\u001b[0m\u001b[1;33m\u001b[0m\u001b[1;33m\u001b[0m\u001b[0m\n\u001b[0;32m    339\u001b[0m         \u001b[1;32mif\u001b[0m \u001b[0mend\u001b[0m \u001b[1;33m!=\u001b[0m \u001b[0mlen\u001b[0m\u001b[1;33m(\u001b[0m\u001b[0ms\u001b[0m\u001b[1;33m)\u001b[0m\u001b[1;33m:\u001b[0m\u001b[1;33m\u001b[0m\u001b[1;33m\u001b[0m\u001b[0m\n",
      "\u001b[1;32m~\\AppData\\Local\\Programs\\Python\\Python37\\lib\\json\\decoder.py\u001b[0m in \u001b[0;36mraw_decode\u001b[1;34m(self, s, idx)\u001b[0m\n\u001b[0;32m    351\u001b[0m         \"\"\"\n\u001b[0;32m    352\u001b[0m         \u001b[1;32mtry\u001b[0m\u001b[1;33m:\u001b[0m\u001b[1;33m\u001b[0m\u001b[1;33m\u001b[0m\u001b[0m\n\u001b[1;32m--> 353\u001b[1;33m             \u001b[0mobj\u001b[0m\u001b[1;33m,\u001b[0m \u001b[0mend\u001b[0m \u001b[1;33m=\u001b[0m \u001b[0mself\u001b[0m\u001b[1;33m.\u001b[0m\u001b[0mscan_once\u001b[0m\u001b[1;33m(\u001b[0m\u001b[0ms\u001b[0m\u001b[1;33m,\u001b[0m \u001b[0midx\u001b[0m\u001b[1;33m)\u001b[0m\u001b[1;33m\u001b[0m\u001b[1;33m\u001b[0m\u001b[0m\n\u001b[0m\u001b[0;32m    354\u001b[0m         \u001b[1;32mexcept\u001b[0m \u001b[0mStopIteration\u001b[0m \u001b[1;32mas\u001b[0m \u001b[0merr\u001b[0m\u001b[1;33m:\u001b[0m\u001b[1;33m\u001b[0m\u001b[1;33m\u001b[0m\u001b[0m\n\u001b[0;32m    355\u001b[0m             \u001b[1;32mraise\u001b[0m \u001b[0mJSONDecodeError\u001b[0m\u001b[1;33m(\u001b[0m\u001b[1;34m\"Expecting value\"\u001b[0m\u001b[1;33m,\u001b[0m \u001b[0ms\u001b[0m\u001b[1;33m,\u001b[0m \u001b[0merr\u001b[0m\u001b[1;33m.\u001b[0m\u001b[0mvalue\u001b[0m\u001b[1;33m)\u001b[0m \u001b[1;32mfrom\u001b[0m \u001b[1;32mNone\u001b[0m\u001b[1;33m\u001b[0m\u001b[1;33m\u001b[0m\u001b[0m\n",
      "\u001b[1;31mJSONDecodeError\u001b[0m: Expecting property name enclosed in double quotes: line 1 column 2 (char 1)"
     ]
    }
   ],
   "source": [
    "json.loads(data)"
   ]
  },
  {
   "cell_type": "code",
   "execution_count": 94,
   "metadata": {},
   "outputs": [
    {
     "data": {
      "text/plain": [
       "dict_keys(['code', 'msg', 'prediction', 'topic', 'topic_order'])"
      ]
     },
     "execution_count": 94,
     "metadata": {},
     "output_type": "execute_result"
    }
   ],
   "source": [
    "import ast\n",
    "ast.literal_eval(data).keys()"
   ]
  },
  {
   "cell_type": "code",
   "execution_count": 99,
   "metadata": {},
   "outputs": [],
   "source": [
    "get_topic_list = \"http://54.87.190.90//get_topic_list\"\n",
    "        # print(session)\n",
    "topics = requests.post(get_topic_list, json={\n",
    "                            \"user_id\": 15}).json()\n"
   ]
  },
  {
   "cell_type": "code",
   "execution_count": 100,
   "metadata": {},
   "outputs": [
    {
     "data": {
      "text/plain": [
       "{'code': 404, 'msg': 'User not found'}"
      ]
     },
     "execution_count": 100,
     "metadata": {},
     "output_type": "execute_result"
    }
   ],
   "source": [
    "topics"
   ]
  },
  {
   "cell_type": "code",
   "execution_count": null,
   "metadata": {},
   "outputs": [],
   "source": []
  }
 ],
 "metadata": {
  "kernelspec": {
   "display_name": "Python 3.7.9 ('environ': venv)",
   "language": "python",
   "name": "python3"
  },
  "language_info": {
   "codemirror_mode": {
    "name": "ipython",
    "version": 3
   },
   "file_extension": ".py",
   "mimetype": "text/x-python",
   "name": "python",
   "nbconvert_exporter": "python",
   "pygments_lexer": "ipython3",
   "version": "3.7.9"
  },
  "orig_nbformat": 4,
  "vscode": {
   "interpreter": {
    "hash": "2a1b41576af04dec4f9fef287f59473b141ad3a74461dd90681c3e2b0c36dad3"
   }
  }
 },
 "nbformat": 4,
 "nbformat_minor": 2
}
