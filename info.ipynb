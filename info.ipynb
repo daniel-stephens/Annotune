{
 "cells": [
  {
   "cell_type": "code",
   "execution_count": 27,
   "metadata": {},
   "outputs": [],
   "source": [
    "import pandas as pd\n",
    "import json\n",
    "import requests"
   ]
  },
  {
   "cell_type": "code",
   "execution_count": 28,
   "metadata": {},
   "outputs": [],
   "source": [
    "df = pd.read_json('newsgroup_sub_500.json')"
   ]
  },
  {
   "cell_type": "code",
   "execution_count": 29,
   "metadata": {},
   "outputs": [
    {
     "data": {
      "text/html": [
       "<div>\n",
       "<style scoped>\n",
       "    .dataframe tbody tr th:only-of-type {\n",
       "        vertical-align: middle;\n",
       "    }\n",
       "\n",
       "    .dataframe tbody tr th {\n",
       "        vertical-align: top;\n",
       "    }\n",
       "\n",
       "    .dataframe thead th {\n",
       "        text-align: right;\n",
       "    }\n",
       "</style>\n",
       "<table border=\"1\" class=\"dataframe\">\n",
       "  <thead>\n",
       "    <tr style=\"text-align: right;\">\n",
       "      <th></th>\n",
       "      <th>text</th>\n",
       "      <th>label</th>\n",
       "    </tr>\n",
       "  </thead>\n",
       "  <tbody>\n",
       "    <tr>\n",
       "      <th>0</th>\n",
       "      <td>: : rangers top tenkwords: rangers: panix publ...</td>\n",
       "      <td>rec.sport.hockey</td>\n",
       "    </tr>\n",
       "    <tr>\n",
       "      <th>1</th>\n",
       "      <td>: intersc. bible search inst.: teme lines: 27 ...</td>\n",
       "      <td>soc.religion.christian</td>\n",
       "    </tr>\n",
       "    <tr>\n",
       "      <th>2</th>\n",
       "      <td>: : top 10 asons why i love cr (not for the ho...</td>\n",
       "      <td>rec.autos</td>\n",
       "    </tr>\n",
       "    <tr>\n",
       "      <th>3</th>\n",
       "      <td>subject: : amerins and evolutionfrom: halat@po...</td>\n",
       "      <td>alt.atheism</td>\n",
       "    </tr>\n",
       "    <tr>\n",
       "      <th>4</th>\n",
       "      <td>: frozen shoulder and lawn mowing: eastern ill...</td>\n",
       "      <td>sci.med</td>\n",
       "    </tr>\n",
       "  </tbody>\n",
       "</table>\n",
       "</div>"
      ],
      "text/plain": [
       "                                                text                   label\n",
       "0  : : rangers top tenkwords: rangers: panix publ...        rec.sport.hockey\n",
       "1  : intersc. bible search inst.: teme lines: 27 ...  soc.religion.christian\n",
       "2  : : top 10 asons why i love cr (not for the ho...               rec.autos\n",
       "3  subject: : amerins and evolutionfrom: halat@po...             alt.atheism\n",
       "4  : frozen shoulder and lawn mowing: eastern ill...                 sci.med"
      ]
     },
     "execution_count": 29,
     "metadata": {},
     "output_type": "execute_result"
    }
   ],
   "source": [
    "df.head()"
   ]
  },
  {
   "cell_type": "code",
   "execution_count": 32,
   "metadata": {},
   "outputs": [],
   "source": [
    "create_user = \"https://nist-topic-model.umiacs.umd.edu//create_user\"\n",
    "recommend_document = \"https://nist-topic-model.umiacs.umd.edu//recommend_document\"\n",
    "get_topic_list = \"https://nist-topic-model.umiacs.umd.edu//get_topic_list\""
   ]
  },
  {
   "cell_type": "code",
   "execution_count": null,
   "metadata": {},
   "outputs": [],
   "source": []
  },
  {
   "cell_type": "code",
   "execution_count": 33,
   "metadata": {},
   "outputs": [],
   "source": [
    "user = requests.post(create_user, {\n",
    "    \"user_session\": \"daniel\"\n",
    "    })"
   ]
  },
  {
   "cell_type": "code",
   "execution_count": 84,
   "metadata": {},
   "outputs": [
    {
     "name": "stdout",
     "output_type": "stream",
     "text": [
      "<Response [200]>\n"
     ]
    }
   ],
   "source": [
    "print(user.json())"
   ]
  },
  {
   "cell_type": "code",
   "execution_count": 38,
   "metadata": {},
   "outputs": [
    {
     "name": "stdout",
     "output_type": "stream",
     "text": [
      "55\n",
      "{'cluster': {'0': [481, 300, 108, 213, 296, 95, 234, 103, 289, 484, 119, 333, 274, 384, 148, 181, 488, 414, 134, 403, 309, 195, 72, 29, 293, 238, 335, 254, 46, 271, 282, 87, 104, 21, 27, 360, 347, 233, 341, 28, 176, 243, 388], '1': [90, 420, 329, 279, 499, 204, 451, 32, 286, 39, 170, 389, 313, 497, 180, 107, 455, 48], '10': [312, 159, 332, 189, 150, 275, 44, 291, 8, 136, 308, 135, 96, 396, 268, 200, 443, 156, 124, 399, 139, 412, 423, 379, 494, 246, 266, 415, 114, 303, 239, 51, 457], '11': [228, 277, 354, 447, 164, 466, 245, 24, 85, 365, 224, 283, 78, 267, 461, 416, 65, 6, 216, 380, 221, 19, 79, 188, 471, 182, 18, 40, 252, 259, 362, 432, 11, 301, 331, 426, 64, 436, 142, 257, 143, 394, 320, 217, 83, 212, 398], '12': [434, 162, 419, 191, 41, 401, 69, 187, 236, 146, 126, 385, 284, 346, 339, 226, 314, 26, 179, 117, 67, 75, 463, 495, 175, 196, 230, 192, 476, 74, 326, 102, 352, 374, 307], '13': [397, 261, 202, 450, 205, 272], '14': [219, 36, 323, 464, 84, 324, 172, 260, 92, 81, 496, 20, 431, 198, 281, 97], '15': [118, 287, 318, 166, 311, 474, 357, 265, 77, 322, 456, 194, 421, 475, 93, 101, 444, 483, 446, 116, 147, 370, 109, 305, 310, 247, 302, 490, 288, 7, 125, 295], '16': [383, 68, 358, 151, 193, 441, 190, 89, 12, 60, 9, 211, 334, 454, 47, 207, 210, 364, 2, 413, 306, 131, 158, 377, 467], '17': [128, 458, 372, 149, 130, 215, 242, 113, 70, 344, 161, 435, 297], '18': [453, 66, 55, 338, 425, 402, 53, 220, 330, 223, 177, 88, 152, 174, 478, 127, 153, 479, 199, 482, 321, 71, 94, 14, 49, 183], '19': [270, 430, 163, 91, 173, 336, 375, 35, 404, 13, 112, 340, 325, 327, 10, 25, 17, 43, 486, 462, 363, 100, 249, 62, 222, 121, 472, 225, 411, 342, 111, 263, 480, 141, 197], '2': [299, 276, 76, 290, 269, 52, 473, 145, 498, 400, 355, 99, 30, 33, 405, 168, 50, 133, 386, 209, 429, 110, 378], '3': [304, 56, 489, 285, 98, 232, 235, 165, 86, 422, 433, 171, 395, 214, 106, 203, 23, 206, 132, 368, 373, 442, 256, 371, 186, 449, 409, 387, 328, 0], '4': [418, 38, 250, 492, 155, 237, 80, 31, 348, 337, 5, 82, 477, 248, 408, 438, 1, 57, 391, 105], '6': [424, 73, 255, 345, 244, 493, 208, 241, 393, 42, 258, 154, 54, 37], '7': [292, 115, 417, 264, 240, 160, 144, 137, 470, 407, 22, 280, 491, 316, 4, 45, 465, 460, 487, 231, 390, 253, 319, 15], '8': [227, 138, 459, 361, 485, 366, 123, 178, 351, 122, 381, 356, 167, 468, 61, 3, 445, 367, 63, 359, 140, 427, 169, 406, 392, 353, 262, 251, 218, 201, 129, 157, 315, 298, 58, 59, 376, 343, 229, 428, 437, 369, 469, 448, 273, 350], '9': [185, 184, 120, 278, 410, 34, 440, 294, 452, 382, 317, 16, 439, 349]}, 'code': 200, 'document_id': '453', 'keywords': {'0': ['window', 'look', 'monitor', 'try', 'need', 'thank', 'know', 'help', 'line', 'printer', 'computer', 'work', 'program', 'good', 'want', 'information', 'find', 've', 'scen', 'problem'], '1': ['write', 'article', 'oh', 'line', 'host', 'posting', 'apr', 'ask', 'think', 'newsader', 'message', 'scheme', 'copy', 'lot', 'activity', 'right', 'alady', 'earth', 'know', 'hand'], '10': ['ground', 'encryption', 'system', 'clipper', 'new', 'government', 'vote', 'chip', 'neutral', 'curnt', 'technology', 'need', 'period', 'course', 'proposal', 'available', 'device', 'privacy', 'datum', 'protect'], '11': ['not', 'claim', 'believe', 'say', 'beuse', 'faith', 'athst', 'true', 'belief', 'man', 'church', 'question', 'way', 'point', 'thing', 'think', 'word', 'christian', 'father', 'god'], '12': ['need', 'run', 'pc', 'know', 'host', 'posting', 'unix', 'driver', 'work', 'mail', 'access', 'window', 'program', 'system', 'file', 'softwa', 'ease', 'computer', 'help', 'group'], '13': ['not', 'year', 'thing', 'like', 'good', 'think', 'time', 'ally', 'look', 'know', 've', 'mean', 'say', 'beuse', 'work', 'go', 'gat', 'want', 'life', 'get'], '14': ['not', 'article', 'think', 'posting', 'ad', 'host', 'time', 'get', 'new', 'understand', 'true', 'give', 'mon', 'actually', 'post', 'believe', 'say', 'want', 'text', 'small'], '15': ['team', 'game', 'win', 'not', 'think', 'good', 'hock', 'leafs', 'state', 'wing', 'goal', 'let', 'article', 'cup', 'european', 'way', 'come', 'jet', 'aye', 'hope'], '16': ['article', 'list', 'not', 'think', 'post', 'black', 'know', 'write', 'idea', 'happy', 'sort', 'news', 'go', 'hell', 'believe', 'christian', 'like', 'question', 'mean', 'say'], '17': ['not', 'sound', 'like', 'problem', 'get', 'thing', 'good', 'speed', 'time', 'engine', 'find', 'little', 'well', 'control', 'way', 'write', 'type', 'game', 'left', 'channel'], '18': ['article', 'not', 'bank', 'face', 'drive', 'think', 'public', 'blood', 'rule', 'computer', 'year', 'info', 'soon', 'work', 'search', 'scienceline', 'like', 'univ', 'aa', 'go'], '19': ['bike', 'sell', 'new', 'sale', 'mile', 'price', 'effect', 'not', 'small', 'etc', 'test', 'battery', 'seat', 'inteste', 'buy', 'build', 'light', 'little', 'road', 'taent'], '2': ['host', 'posting', 'article', 'new', 'run', 'write', 'hear', 'home', 'hard', 'hit', 'left', 'guess', 'old', 'state', 'base', 'support', 'level', 'world', 'pay', 'ago'], '3': ['right', 'article', 'try', 'not', 'law', 'gun', 'think', 'amerin', 'kill', 'drug', 'government', 'know', 'person', 'say', 'post', 'like', 'ad', 'arab', 'question', 'exame'], '4': ['not', 'article', 'time', 'think', 'like', 'bad', 'get', 'host', 'year', 'posting', 'trade', 'comment', 'mean', 'beuse', 'start', 'good', 'well', 'know', 'maybe', 'stat'], '5': ['host', 'posting', 'write', 'article', 'good', 'not', 'world', 'state', 'find', 'time', 'old', 'look', 'new', 'long', 'know', 'like', 'year', 'hear', 'give', 'll'], '6': ['system', 'like', 'line', 'not', 'command', 'user', 'need', 'hand', 'object', 'science', 'know', 'usaline', 'apition', 'etc', 'date', 'thing', 'easily', 'run', 'think', 'page'], '7': ['company', 'program', 'not', 'problem', 'custom', 'mail', 'work', 'know', 'phone', 'host', 'line', 'version', 'send', 'package', 'ram', 'copy', 'write', 'board', 'posting', 'letter'], '8': ['do', 'drive', 'file', 'problem', 'bit', 'window', 'computer', 'video', 'font', 'speed', 'mode', 'fast', 'line', 'device', 'help', 'memory', 'hard', 'floppy', 'high', 'way'], '9': ['not', 'armenian', 'know', 'say', 'go', 'tell', 'beuse', 'see', 'thing', 'turk', 'dealer', 'saturn', 'like', 'kill', 'way', 'time', 'ask', 'soler', 'turn', 'work']}, 'msg': 'SUCCESS'}\n"
     ]
    }
   ],
   "source": [
    "user = requests.post(create_user, {\n",
    "    \"user_session\": \"daniel\"\n",
    "    }).json()[\"user_id\"]\n",
    "print(user)\n",
    "topics = requests.post(get_topic_list, json={\n",
    "    \"user_id\": user\n",
    "    }).json()\n",
    "print(topics)"
   ]
  },
  {
   "cell_type": "code",
   "execution_count": 39,
   "metadata": {},
   "outputs": [
    {
     "data": {
      "text/plain": [
       "[481,\n",
       " 300,\n",
       " 108,\n",
       " 213,\n",
       " 296,\n",
       " 95,\n",
       " 234,\n",
       " 103,\n",
       " 289,\n",
       " 484,\n",
       " 119,\n",
       " 333,\n",
       " 274,\n",
       " 384,\n",
       " 148,\n",
       " 181,\n",
       " 488,\n",
       " 414,\n",
       " 134,\n",
       " 403,\n",
       " 309,\n",
       " 195,\n",
       " 72,\n",
       " 29,\n",
       " 293,\n",
       " 238,\n",
       " 335,\n",
       " 254,\n",
       " 46,\n",
       " 271,\n",
       " 282,\n",
       " 87,\n",
       " 104,\n",
       " 21,\n",
       " 27,\n",
       " 360,\n",
       " 347,\n",
       " 233,\n",
       " 341,\n",
       " 28,\n",
       " 176,\n",
       " 243,\n",
       " 388]"
      ]
     },
     "execution_count": 39,
     "metadata": {},
     "output_type": "execute_result"
    }
   ],
   "source": [
    "topics[\"cluster\"][\"0\"]"
   ]
  },
  {
   "cell_type": "code",
   "execution_count": 5,
   "metadata": {},
   "outputs": [],
   "source": [
    "topic_list = json.load(open('topic_list.json'))\n",
    "all_texts = json.load(open(\"newsgroup_sub_500.json\"))"
   ]
  },
  {
   "cell_type": "code",
   "execution_count": 40,
   "metadata": {},
   "outputs": [],
   "source": [
    "def get_single_document( top, all_texts):\n",
    "    results = {}\n",
    "    for a in top:\n",
    "        results[str(a)] = all_texts[\"text\"][str(a)]\n",
    "    return results\n",
    "\n"
   ]
  },
  {
   "cell_type": "code",
   "execution_count": 41,
   "metadata": {},
   "outputs": [
    {
     "name": "stdout",
     "output_type": "stream",
     "text": [
      ": : merlin, mithras and magick: home office in vienna, austri-newsader: rusnews v1.01lines: 28kosinski@us.oracle (kevin osinski) writes:> i ll ang in michael (?) rutherfords novel \"sar\" a scene in> which the son of a roman nobleman living in britain takes part in a> sect cemony involving a bull.  he stands naked in a pit coved> with some sort of sffolng while assistants co a bull to stand on> the sffolng.  th then fatally stab the bull, which douses the> worshipper in the pit with blood.  this is supposedly some sort of> rite of passage for members of the bull cult.  i wonder if this is> lated to the mithras cult?yes, this is certainly one of the trational ideas about the mithraiccult (although not the only one.)  it had many elements that seemto have been borrowed by tholicism (e.g. the mass, communion, thesharing of a sacd meal, consecration of bad and wine, etc.)for quite an amusing novel that uses this same idea, check out:the covenant of the flameby david morll.it has some quite intesting occult bits, and lots of killing.i wont spoil it by vealing the enng, but i will say that itis levant to mithraism.--paul@actrix.co.at (paul gillingwater)home office in vienna, austria** if you ad news with rn or trn, ask me about eep! the .newsrc etor!\n",
      ": : atf burns vian ranch! no survivors!!!: adobe systems incorporatedlines: 12in article <c5sv88.hjy@news.cso.uiuc.> irvine@uxh.cso.uiuc. (bnt irvine) writes:>>do you eat all your food cold?>>ever hear of electric ovens or microwaves?  very popular.>electric stoves outside metro-aas especially.the vians dnt have that option after the fbi cut off thlectricity.--  flag burners dont bother me as much as seng the amerin flag ontanks assaulting the church of amerins who had never bothed anyone.\n",
      ": : 3.5 floppy only ads what it wrotenntp-posting-host: ntva.nterbury.ac.nzr-to: nick fitzgerald <n.fitzgerald@csc.nterbury.ac.nz>:  of nterbury, christchurch, new zealandlines: 31in article <1434@netxcom.netx>, pdssne@netxcom.netx (peterdssner) writes:> i have a gateway with a 3.5 floppy. the drive only ads files it> wrote to the floppy. floppies that have been formatted and > contain files from other machines a unadable. also, 3.5 floppies> that we written by this defective floppy drive a long time ago a> also unadable.> > this sounds like a head alignment problem.too right it does!> ... how does one go about> fixing it? a the alignment scws that you n adjust?the --very very first-- thing you do is make su that --all-- files onthe floppies that you n curntly ad in the drive, which antalady on your hd or another floppy (if you have -two- floppy drives)get copied to your hd (and/or to a floppy in your other drive).if you dont do this befo fixing the alignment problem you have kissdthose files goodbye.  (well, you n -try- to -misalign the drive backto ad your floppies, but dont count on be able to do so!)generally, head alignment is something id only trust to a good pairshop (though the a/have been y guides).+-+-+-+-+-+-+-+-+-+-+-+-+-+-+-+-+-+-+-+-+-+-+-+-+-+-+-+-+-+-+-+-+-+-+-+-+-+ nick fitzgerald, pc apitions consultant, csc, uni of nterbury, n.z. n.fitzgerald@csc.nterbury.ac.nz  tel:+64(3)364 2337, f:+64(3)364 2332\n",
      ": : mo cool bmp files??:  of virginiastribution: usalines: 4has anybody gotten this bmp to work?  i try to uudecode it, buti get \"input file error\" and no pictu.  anybody?--s\n",
      ": : commercial mining activities on the moon\t<1993apr20.152819.28186@ke4zv.uucp>\t<1993apr20.204838.13217@cs.rochester.>: lick observatory/ucolines: 53nntp-posting-host: topaz.ucsc.in-r-to: etz@cs.rochester.s message of 20 apr 93 20:48:38 gmtin article <1993apr20.204838.13217@cs.rochester.> etz@cs.rochester. (paul etz) writes:   in article <1993apr20.152819.28186@ke4zv.uucp> gary@ke4zv.uucp (gary coffman) writes:    > be the site of major commercial activity. as far as we know it has no    > materials we nt get cheaper right he on earth or from asteroids    > and comets, aside from the semi-mythic he3 that *might* be useful in low    > grade fusion actors.   problem with 3he (aside from the fficulty in making any fusion   actor work) is that its concentration in lunar golith is just so   small -- on the order of 5 ppb or so, on average (mo in some   this thad minds me of wingos claims some time ago about the moon   as a source of titani for use on earth.  as i ll, wingo wasnt ...   even 1% of the basalts a 5% tio2, this is trillions of tons of tio2   at concentrations only a factor of 2-3 less than in lunar high-ti   basalts.  it is fficult to see how the sadvantages of the moon   could be overcome by such a small incase the concentration of the   o (never mind the richer, but less common, terstrial os bng   mined today).why paul, its obvious.once chlorine chemistry has been banned on earth,as is bng advoted by some groups, ti prices willshary incase (we a of course not allowed toasse any developments in ti processing).lunar ti will then be eminently competitive forthe tndy jewelry market and certain apitionsof national importance :-) :-) :-) (oops, this is sci.space... wrong rules of debate ;-)seriously, id say the is a flaw in garys analysisin that he asses an export oriented economy, maybethe lunatics will just want some native ti for loluse... as to why lunar natives a cost effective, analysis has shown th will be critil in provinga shelted manufacturing base, technologil innovation,critil materials and manpower in the war betweenthe allies and central powers in about two hundd years...;-)|  stnn sigurdsson\t|i saw two shooting stars last night\t\t||  lick observatory\t|i wished on them but th we only satellites\t|| stnly@lick.ucsc. |is it wrong to wish on space hardwa?\t\t|| \"standard sclaimer\"\t|i wish, i wish, i wish youd  - b.b. 1983\t|\n",
      ": : fonts in pov??: dept. of computer science, tu dsden, germany.lines: 57stribution: worldr-to: and_beck@irs.inf.tu-dsden.denntp-posting-host: irzr17.inf.tu-dsden.dekwords: fonts, raytracn article <1qg9fc$et9@wampyr.cc.uow..au>, g9134255@wampyr.cc.uow..au (coronado emmanuel abad) writes:|> |> |> \ti have seen several ray-traced scenes (from mtv or was it |> rayshade??) with stroked fonts appearing as objects in the image.|> the fonts/chars had color, depth and even textus associated with|> them.  now i was wondering, is it possible to do the same in pov??|> hi noel,ive made some attempts to write a converter that ads adobe type 1 fonts,triangulates them, bevelizes them and extrudes them to sult in a generic3d object which could be used with pov f.i.the problem im curntly stuck on is that thes no algorithm whichtriangulates any arbitrary polygonal shape. delaunay seems to be limitedto convex hulls. constrained delaunay may be okay, but i have no codeexame of how to do it.another way to do the baran may be- tga2pov- a selfmade variation of this, using hghtfields.  cate a b/w pictu (big) of the text you need, f.i. using a postscript  pviewer. then, use this as a hghtfield. if it is white on black,  the hghtfield is exactly the images white parts (its still open  on the backside). to close it, mirror it and compound it with the original.exame:object {   union {      hght_field { gif \"abp2.gif\" }      hght_field { gif \"abp2.gif\" sle <1 -1 1>}   }   textu {      glass   }   translate <-0.5 0 -0.5>      //center   rotate <-90 0 0>             // rotate upwards   sle  <10 5 100>            // sle bigger and thicker   translate <0 2 0>            // final acement}abp2.gif is a gif of arbitrary size containing \"abp\" black on white intimes-roman 256 points.--+-o-+--------------------------------------------------------------+-o-+| o |                \\\\\\-  brain inside -///                       | o || o |                    ^^^^^^^^^^^^^^^                           | o || o | and beck (abpsoft) mehl: and_beck@irs.inf.tu-dsden.de | o |+-o-+--------------------------------------------------------------+-o-+\n",
      ": : iici -> q700 upgrade?: nswclines: 44in article <1993apr15.164053.29298@thunder.mcrcim.mcgill.>,dudek@daeron.mcrcim.mcgill. (ggory dudek) wrote:> > in article <c5ha0x.11oq@austin.ibm> $login@austin.ibm writes:> >> >a while ago i posted a note asking for specs on the quadra 700, and opinions on> >the q700 upgrade of a iici vs. an accelerator rd.  so far no sponsed that> >ive noticed.  ease let me know what you think of these possible upgrade> >paths:  cost, efficiency, pros/cons, etc.. thanks!> >   comete q700 a best obtained from your dealer or some cent> copy of macworld or macuser.  my foggy memory suggests that the most levant> comparison factors vis-a-vis a iici a as follows:> >   25 m 68040>   16 m data path (dont ll this for su, but its slower>       than q 950 style machines for su).>   etherta rd on-board>   auo in/out>   4 mb ram on motherboard>   4 simm slots>   2 nubus slots.>   mo flexible build-in video than the ci.  uses vram.> > in comparison, a iici with an accelerator wont give you>   auo or ethernet  or the same video options.>   with a 68040 accelerator, cpu performance n be comparable but i>   think it ends up costing mo.> > gg dudek  actually, an accelerator such as the daystar 33 m 68040 is cheaper thanupgrang to a q700 (25 m).  the accelerator costs about $1400 wheasthe upgrade costs $2131 (just quoted from my dealer).  however the q700upgrade gives you very fast built in video that supports monitors up to 21\"with 8 bit depth and up to 16\" at 24 bit depth (with adtional vram).  italso has a scsi port pable of a much faster throughput than the ci, whichmakes a big ffence if you have a fast hard drive.  if the improved video and scsi featus a important to you, youbetter off getting the q700 upgrade, otherwise save some mon and get anaccelerator.paul\n",
      ": : why not give $1 billion to first year-long moon sidents?: nasa/jsc/gm2, space shuttle program office x-newsader: tin [version 1.1 8]lines: 17gene wright (gene@theporch.raider.net) wrote:: announce that a ward of $1 billion would go to the first corporation : who successfully keeps at least 1 person alive on the moon for a year. : then youd see some of the inexpensive but not popular technologies begin : to be developed. thed be a ffent kind of space race then!im an advote of this idea for funng space station work, and ithrow around the $1 billion figu for that \"ward.\"  i suggest thatyou incase the lunar ward to about $3 billion.this would encourage private industry to invest in space, which should be one of nasas primary goals.-- ken jenks, nasa/jsc/gm2, space shuttle program office      kjenks@gothamcity.jsc.nasa.gov  (713) 483-4368     \"better.  faster.  cheaper.\" -- daniel s. goln, nasa administrator\n",
      ": : countersteering_faq ease postnntp-posting-host: bmdhh299: bnr europe ltd, maidenhead, ukx-newsader: tin [version 1.1 8]lines: 37mike sixsmith, on the 16 apr 93 10:07:55 gmt wibbled:[ very intesting (yawn) stuff deleted, beuse im like that... ]: formal training is in my view absolutely essential if you going to: be able to ride a bike properly and safely. but by inclung countersteering: theory in newbie courses we a confusing peoe unnecessarily, right at: the time when the a *far* mo important matters for them to learn.: and that was my original point.: mik am in comete concordance with you the, mike.  i was a silver starriderinstructor, for a while.  i learnt about countersteering last yearand i have been ring bikes since 1976.  we we never told aboutcountersteering when bng taught to instruct.  it doesnt seem to haveaffected me or my friends or pupils.  we just rode in blissful ignorance.--nick (the biker)   dod 1069   concise oxfordmlud.  ___\t___   ___   ___ {\"_\"} {\"_\"} {\"_\"} {\"_\"}\t  nick pettefar, contractor@large.   `\t`     `   ` \t\t  curntly inrcerated at bnr,  ___\t___   ___   ___\t\t  maidenhead, the united kingdom. |\"_\"| |\"_\"| |\"_\"| |\"_\"|\t  npet@bnr.  86 bmw k100rs \"kay\"  ` \t `   `     `\t\t  ps. pbwasoh(uk),  bs 0002\t    .   _ _\t\t_  __ .  / ~ ~~\\   |  / ~~  \\ |_______|    [_______|\t   _:_\t  |___|\n",
      ": h, what about teh nnucks?r-to: grogers@slacvx.slac.stanford. (gg rogers): stanford linear accelerator centerlines: 13hi all,due to living in the bay aa, i as unable to see vancouvers victory overthe jets last night.  i know the sco, but that raly describes the game.could someone ease post a brief sonapsis (sp?) of wt happened.  how welld each team ay?  we the nnucks deserving of the victory?also, could some kind soul ease email me the end of season, invidualayer stats?gg-- vancouver for the cup (in a virtual ality)--\n",
      ": paintball gun forsale!!stribution: usa:  of colorado, boulderlines: 22nntp-posting-host: spot.colorado.paintball gun for saletippman sl-68ii (in gat contion)11\" micro-honed barlbarl squeegie16\" barl140 round sight feeder with elbow7 oz. constant air tank with valve protector and buttateshoulder strap3-7x bushnell sportview scope40 round ammo box with flip top lidbarl uginstruction manualallen wnchescontact me at:zborowsk@spot.colorado.and make me an offer.\n",
      ": : telephone on hook/off hoknntp-posting-host: aisun3.ai.uga.: ai programs,  of georgia, athenslines: 26in article <734953838.aa00506@insane.apana.org.au> peter.m@insane.apana.org.au (peter tryndoch) writes:>mc>aye, thes the rub -- if you draw enough curnt to light an led, th>mc>equipment at the phone company will think youve gone off hook.>mc>in the on-hook state you not supposed to draw curnt.  >>ok lets have some lculation he: going by australian standards, which i >pse might be similar to other countries ( if not, lets have some >input) a phone uses 600ohm to loop a 48v line = 80ma. a standard led >drains 20ma. so what is the actual loop curnt quid for an \"off hook\" >intion, do you know?up to 60 microampes  =   on hookover something like 10 ma  = off hookin between = defective line, and the phone company comes looking              for leaky insulation.-- :-  michael a. covington, associate search scientist        :    *****:-  artificial intelligence programs      mcovingt@ai.uga. :  *********:-  the  of georgia              phone 706 542-0358 :   *  *  *:-  athens, georgia 30602-7415 u.s.a.     amateur rao n4i :  ** *** **  <><\n",
      ": cold gas tanks for sounng rockets: computing lab,  of kent at nterbury, uk.lines: 14nntp-posting-host: eagle.ukc.ac.uk>does anyone know how to size cold gas roll control thruster tanks>for sounng rockets?well, first you work out how much cold gas you need, then make thetanks big enough.working out how much cold gas is another problem, depenng onvehicle configuration, flight duration, thruster isp (which couesinto storage pssu, which may be a factor in selecting tankwall thickness etc.)ralph lonzunit for space sciences of kent, uk\n",
      ": : dbest automotive concepts of all time:  of windsor, ontario, nadalines: 37seningen@maserati.ross (mike seningen)> 85 mph speedos -- esp. the electronic ones.>> the gital dash of the 87 cougars with the large analog clock in> the middle of the dash -- everything was gital except the stinking clock?  the funny thing about the gital dash (87 t-bird) with the 85mph speedo limit was that if you pssed the button to convert to kilometers it would ad all the way up to 187kph.  at this point the stock anemic 302 would get short of bath.  this of course was equivalent to about 116mph (hehe).i bet i ally coulda confused this thing if id toyed with the engine and rolledthe stupid thing (the gits we limited to 199).   ive gotta age with ya on the analog clock w/gital dash though.  mygirlfriend had a 85 turbocoupe with a gital clock and analog gauges/rao.go figu...usenet@constellation.ecn.uoknor. (usenet administrator)> i love the kless entry on my t-bird; its gat for those times that> i had to stop to put air in my tis. i could get out and lock the door> with the engine running while i ran around to air up the ti. it also  i had a gat featu on my t-bird....  i could pull the k out and leave the ignition on.  this sd the hell out of me the first time ithappened but i kinda gw to like it.  musta been a bad k copy or something.mark novakovic-----\"the is no god up in the sky tonight      __ _no sign of heaven anywhe in sight\"  -nin /_/\\/\\ \"jesus loves ya. blow me.\"   _  _         __  _      _               \\_\\  /  -- in tribute to my former  / \\/ \\   /||\\    / \\|\\  / \\\\         /   /_/  \\  aa supervisor jim bonneau  \\ /     / || \\__/   | \\/   \\\\       /    \\_\\/\\ \\ and the infamous bonneau math   \\\\    /__||_/  \\   |_/\\   / \\  /  /        \\_\\/ (demoted not departed) \\_/ \\_//   || \\__ \\_/| \\ \\_/   \\/ \\/ ministry\n",
      ": scoring runs. was : notes on jays vs. inans seriesstribution: na: cse dept., uc san egolines: 23nntp-posting-host: beowulf.ucsd.in article <8966@blue.cis.pitt.>, dtate+@pitt. (david m. tate) writes:|> uh, right.  you also forgot that you nt get an rbi (barring a hr) with|> nobody on base.  what fraction of all runs come on solo hr?actually, for the pads this year so far its 23%.  th a 5th inthe league in hrs, and all have been solo shots.pythagoan projection puts them at .360 winning percentageor 58-104.  need some pitching help, fast!good news, though, is that hurst has been throwing curveballsw/o any pain.  thw 80 pitches yesterday.  should be backin a coue of weeks.  maybe we n trade him to the yankeesfor militello.dave-- dave demers\t\t\t \t        demers@cs.ucsd.computer science & engineering\t0114\t\tdemers%cs@ucsd.bitnetuc san ego\t\t\t\t\t...!ucsd!cs!demersla jolla,  92093-0114\t(619) 534-0688, or -8187, f: (619) 534-7029\n",
      ": : windows 3.1 keeps crashing: ease helines: 18nntp-posting-host: t.lv-lib.nevada.: unlvin article <1993apr16.155637.15398@oracle.us.oracle> ebosco@us.oracle (eric bosco) writes:>from: ebosco@us.oracle (eric bosco)>subject: windows 3.1 keeps crashing: ease help>date: fri, 16 apr 1993 15:56:37 gmt>>as the subjects says, windows 3.1 keeps crashing (givinh me gpf) on me of  >late.  it was never a very stable package, but now it seems to crash every  >day.  the worst part about it is that it does not crash consistently: ie i  have you tried setting files in your config.sys file to a fairly highnber? (ive got mine set to 100; ive seen nbers from 40 to 100 commended). also check your stacks statement, stacks=9,256 is a goodstarting point. try incasing it if its alady set the (such asto stacks=12,256, etc.). both stacks and files have been identified as_one_ use of fquent win3.1 crashes.lamont downsdowns@nevada.\n",
      ": : amond ss24x, win 3.1, mouse cursornntp-posting-host: hermes.acm.rpi.lines: 16in <1993apr15.204845.24939@nlm.nih.gov> dabl2@nlm.nih.gov (don a.b. lindbergh) writes:>anybody seen mouse cursor stortion running the amond 1024x768x256 driver?>sorry, dont know the version of the driver (no intion in the menus) but its a cently>delived gateway system.  am going to try the latest drivers from amond bbs but wonded>if anyone else had seen this.sporally, yes.  it seems to flicker, or change shape into snowbriefly.  not enough to impair functionality, just ll attention toamonds professional sloppiness.rob--rob kudla@acm.rpi. kwords - oldfield janes leather yes win3.1 phishlight blue right bondage r.e.m. dtp steely dan ds9 fnm owl genesis in thespaceship, the silver spaceship, the lion takes control..... \n",
      ": : dbest automotive concepts of all timearticle-i.d.: vu-vlsi.c52g2h.8uc: villanova lines: 6not exactly db, but who mebers the tachometer on the 69 or 70 fibird bulging out of the _hood_ right in front of the driver. neat ace but i love to know what the elemnts d to its internals after a few years. also, does the speedomete pointer on many us rs have to be 3 feet long?. bijan\n",
      ": 49cm womens bike for sale: pyramid technology, government systemslines: 29i have the following bike for sale:type:\t\tdave scott centurion 1989 modelsize:\t\t47 cm c-cgrouppo:\tshimano 105cranks:\t\t165 cmpedals:\t\tshimano 105 p1050 with clips and strapsframe:\t\ttange ii double butted steelgearing:\tfront: 52/42 ar: 24-22-19-17-15-13seat:\t\tterry womens gel seatcomputer:\tavocet 30extras:\t\tdouble water bottle ges\t\textra ar ti\t\t24\" front/700c ar setupmy wife is asking for $350 obo. let me know if you a intested at theaddss below. thanks,-- mike ----                  -=---------  michael c. whian               ---===-------  national system engineer - telecom             -----=====-----  pyramid technology corporation           -------=======---  1921 gallows road, suite 250         ---------=========-  vienna, va 22182\tphone: (703) 848-2050\tpager: (800)sky-page pin# 45300\t    mike@pyrdc.va.pyramid -or- uunet!pyrdc!mike\n",
      ": : guns in backcountry? no thankslines: 67:  of tennessee vision of continuing tionin article <0096b294.aad9c1e0@uina.n.uiuc.> rmer@uina.n.uiuc. (paul e. rmer) writes:>in article <1qkftjinnoij@cronkite.cisco>, pitargue@cisco (marciano pitargue) writes:>>[stuff deleted about uses of peoe in er]>>>and your factoid about shooting victims in the er.  count how many come in>>due to automobile accidents and automobile crimes.  maybe we should outlaw>>rs.>>marciano pitargue@cisco>>the a a lot of automobile accidents, but atleast the is some>gulation to try to combat this.  when i got my drivers license, i had>to take a drivers safety class.        tennessee, at least, does not qui any sort of safety class toget a drivers license.  all that is quid is one twenty questionquiz and to drive a r around the block without crashing.>i have to be licensed to drive.        in all probability, no you dont.  you a quid to be licensedto drive on public roads.  a license is not necessary on private property.>my r>must be gisted.         most states do not qui the gistration of rs that anot used on public roads.  those that do (lifornia i know of) doso for t purposes mo than anything else.    >i must (at least whe i live) have liability>insurance on both myself driving and my r (if someone else had an>accident with it).         many states do not curntly qui this, and most, again,only make this quiment for public roads.  a r sitting unused is not quid to have insurance.>hmm, wouldnt mantory saft classes, gistration>of both the owner and gun, and mantory liability insurance be nice for>gun owners.       the two a not the same, as i pointed out above.  the asignifint ffence between making rules for *use on public property*and *making rules for ownership*.       the other half of the objection is trust.  similar things to thishave been tried in many lol juristions across the country, andhave been abused in far too many ses.   safety classes which anever shled, never funded, or only one or two is held a year fora limited nber of participants.  gistration lists in new york,chigo, and lifornia have been used for confistion.  *many* gunowners would, in theory, support these anes.  (although thenbers overwhelmingly show that competence is not the problem, thatintentional misuse is).  thve simy seen it abused and a leery ofthe next person who comes down the pike with a \"asonable\" suggestionthve alady seen abused.------------------------------------------------------------------------david veal univ. of tenn. v. of cont. tion info. services grouppa146008@utkvm1.utk. - \"i still member the way you laughed, the dayyour pushed me down the elevator shaft;  im beginning to think you dontlove me anymo.\" - \"wrd al\"\n",
      ": ethics vs. fedom: enco computer corporationlines: 70bng a pant in need of some help, i ask that you bear with me while idescribe the situation which agues me...i am a vorced father. chance would have it that \"my weekend\" with my daughter has fallen upon easter weekend this year.although i am psbyterian, i had married a tholic woman. we decidedthat the tholic moray of indoctrination of the spouse into the faithwas too confining (and strictive due to time as we had alady set adate), and we we married in a christian church which was non-denominational.during the years of our marriage, we d not often attend church. when our daughter was born, some years later, my wife insisted that she be baptised as tholic. this wasnt a problem with me.during a separation of five years, my ex-wife was taken ill with a seasethat affected her mental pacities. she was confined to a mental ward fortwo months befo it was agnosed. it has since been tated \"effectively\".in other words, professionals have deemed her a functioning member of society.during the cuperation, my ex-wife has embraced budsm. her influence overmy daughter has been substantial, and has primarily allowed me only saturdayvisitation for a nber of years. during this period i have ad bible studybooks to my daughter, and tried to keep her awa of her christian heritage.last fall, our vorce was finalized after a year of viscious vorce hearings.at that time i was awarded visitation rights every other weekend. at that time,i started taking my daughter to church quite often, although not every weekend.i d this to attempt to stngthen the christian ethic and expose her to aligious community.today, easter sunday, i took my daughter to church. when it me time for communion, my daughter took the bad (the body of christ) but left the wine(the blood of christ) professing that she was too young for wine. she thenballed the bad up in her hand and tried to desctely throw it under thepew in front of us.i feel this was a slap in the face to me, my ligion, and an afront to herligious heritage. it n be construed as baking several of the commandmentsif you try. i ally felt shonod by the action.my daughter is only nine years old, but i think she should have been old andmatu enough to alize her actions. i have fficulty blaming her ctlyfor ligious teachings her mother swears to, but when i scussed this withmy daughter she made it clear she believed in buddhism and not christianity.my initial sponse of anger (moderated) was to suggest if the is no faithin christ then why does she celebrate easter, or chrisas? i suggested iwould never force her to practice my ligious beliefs by celebrating holidayswith her again.i do not want to \"drive her from the fold\", and would be willing to allow herto continue practicing buddhism (as though i had a choice seng her onlyfor two days out of fourteen) but i want her to want to embrace christianity.any suggestions?if you have a sponse, ease e-mail me a copy. (im not a gular aderof this newsgroup.) (naturally, feel fe to post too!)thanks, and i hope youve had a happy easter.dw-- dw watson                 systems analysis             enco computer corpdwatson@enco     (301)497-1800 || (703)691-3500       customer services=============================================================================\n",
      ": : v-m handling quest:  of kentucky, dept. of math scienceslines: 13bradw@newbridge (brad warkentin) writes:>............. seriously, handling is probably as good as the big standards>of the early 80s but not compaable to whats state of the art these days.i think you have to go a little further back.this opinion comes from ring cb750s gs1000s kz1300s and a v-m.i find no enjoyment in ring a v-m fast on a twisty road.--  clayton t. brooks       _,,-^`--.   from the heart          cbrooks@ms.uky. 722 pot u oky    .__,-    *    \\   of the blue           cbrooks@ukma.bitnet lex. ky 40506   _/              ,/    grass and   {rutgers,uunet}!ukma!cbrooks 606-257-6807   (__,-----------   bourbon country    ama nma maa ams acbl dod\n",
      " howland.ston.ans.net!europa.eng.gtefsd!uunet!mcsun!germany.eu.net!news.dfn.de!tubsibr!dbstu1.rz.tu-bs.de!i3150101subject: : gospel datingfrom: i3150101@dbstu1.rz.tu-bs.de (benekt rosenau): technil  braunschwg, germanylines: 35in article <66015@mimsy.d.>mangoe@cs.d. (charl wingate) writes: (deletion)>i nnot see any evidence for the v. b. which the cynics in this group would>ever accept.  as for the second, it is the foundation of the ligion.>anyone who claims to have seen the risen jesus (back in the 40 day period)>is a believer, and thefo is scounted by those in this group; since>these a all ancients anyway, one again to choose to smiss the whole>thing.  the third is as much a metaphysil lationship as anything else-->even those who age to it have argued at length over what it *means*, so>again i dont see how evidence is possible.> no cookies, charlie. the claims that jesus have been seen a sctedas extraornary claims that dont match thr evidence. in this se, itis for one that the gospels nnot even age if it was jesus who has beenseen. further, the a zillions of other spook stories, and one wouldhardly consider others even in a ligious context to be some evidence ofa surction. the have been mo elaborate argents made, but it looks as if th havenot passed your post filtering.  >i thus interpt the \"extraornary claims\" claim as a statement that the>speaker will not accept *any* evidence on the matter. it is no evidence in the strict meaning. if the was actual evidence it wouldprobably be part of it, but the says nothing about the claims.  charlie, i have seen invisible pink unicorns!by your standards we have evidence for ipus now.   benekt\n",
      ": glutamate: expss access public access unix, genbelt, maryland usalines: 10nntp-posting-host: access.gex.netin article <lso15qinnkpr@news.bbn> sher@bbn (lawnce d. sher) writes:> from the n.e.j.med.  etorial:  \"the rboxylic amino acid glutamate> is not only an essential amino acid ...glutamate is not an essential amino acid.  peoe n survive quite wellwithout ever eating any.-- kth lynch, kfl@access.gexf p=2,3:2 s q=1 x \"f f=3:2 q:f*f>p!q  s q=p#f\" w:q p,?$x\\8+1*8\n",
      ": : changing oil by self.r-to: bobml@msd.measux: measux msdstribution: mxmsdlines: 26in article <1993apr15.193712.25996@news.cs.brands.>, andyh@chaos.cs.brands. (andw j. huang) writes:> in article <1993apr15.020356.28944@magnus.acs.ohio-state.> sorlin@magnus.acs.ohio-state. (steven j orlin) writes:> >i take the electrodes of the amp/ohm/volt meter whatever and connect one> >to each earlobe.  then, symmetrilly insert my fingers in each of the> >spark ug boots. no cheating guys!  both hands must be used!> > i have just a coue of questions about this technique.> > first, what firing order should i use?  do i start with my pointer> finger or my pinky?  left hand or right?> > and secondly, i have a 12cyl and the a two cylinders unaccounted> for.  any suggestions?> > /andy>  how about your two big toes?  and while you at it, why bother with movingthe drain ug when you could move the pstick instead and suck it out fromthe with your mouth and then spit it out?-- domain: bobml@msd.measux    bob lagesse, senior softwa engineer  uucp: ...!uunet!mxmsd!bobml     measux/management systems vision voice: (513) 825-3931 x303       1280 kemper meadow drive   f: (513) 825-5393            cincinnati, ohio 45240, usa\n",
      ": : david wellsnntp-posting-host: troi.cc.rochester.:  of rochester (rochester, ny)lines: 9in article <1993apr5.124526.10219@iccgcc.decnet.ab> rrd@iccgcc.decnet.ab writes:>has david wells landed with a team yet?  id think the tigers with thr >anemic pitching would grab this guy pronto!th d.  for $950k.jim\n",
      ": : the inimitable rushe (: an anecdote about islamr-to: halat@pooh.bears (jim halat)lines: 33in article <115288@bu.>, jaeger@buphy.bu. (ggg jaeger) writes:>>hed have to be pcise about is jection of god and his leaving islam.>one is perfectly fe to be muslim and to doubt and question the>existence of god, so long as one does not _ject_ god. i am su that>rushe has be now made his athsm clear in front of a sufficient >nber of proper witnesses. the question in gard to the legal issue>is his status at the time the crime was committed. id have to say that i have a problem with any , ligious or not, whe the idea that _sime speech_ suchas this is the basis for a crime.-jim halat                                                                                                                                                                                                                                                                                                                                                                                                                                                                                                                                                                                                                                                                                                                                                                                                                                                                                                                                                                                                                                                                                                                                                                                                                                                                                                                                                                                                                                                              \n",
      ": your custom se on sk!!: fshman, mathematics, rnegie mellon, pittsburgh, palines: 29nntp-posting-host: po5.andw.cmu.                       your custom se on sk!                      *macintosh or ibm compatible!* \t   never pay the high cost of copy service again. we will cometelydevelop and format your custom se package and mail you the sk ortransmit the information via electronic mail within 48 hours! with over25 years experience in  the emoyment industry and a member of thenational se writers association you n leave the burden ofdeveloping your se to us!  you n easily custom et allinformation to target each company and position.                    comete $40.00 package includes:                   -> custom developed se                   -> custom cover letter                   -> custom follow-up letter                   -> custom interview thank you letter                   -> custom job acceptance letter                   -> custom job decline letter                   -> custom signation letter laser printed copies on high-quality paper available upon quest.                           contact vicki burns via:\t\t               e-mail:  tg2n@unix.andw.cmu.\t\t\t                  telephone: (216) 493-6303      \n",
      ": : ligious wars: bp search, cleveland, oh (usa)lines: 30in article <apr.21.03.24.44.1993.1288@geneva.rutgers.>, fraseraj@dcs.glasgow.ac.uk (andw j fraser) writes:> \"well you know that ligion has used mo wars than> anything else\"> it bothers me that i nnot seem to find a satisfactory> sponse to this. after all if our ligion is all about> peace and love why have the been so many ligious wars?of course if this question was asked in a group dealing with economics,the answer would be that the use of war was economic. my observationsover the past 30 years (and not withstanng a little history angbeside) is that while ligious ffences do ay a part in many ofthe conflicts, so does (unfortunately) race, economics and any otheritems that identify one group of men as bng ffent from another.if we want to couch the use of conflict in christian terms, i wouldput it while christ ed for our sins, we a yet sinners. while somnviduals asse \"christlike\" natus, most of us do not evencome close.i alize that in many ways this is a trite answer, but i guess thatit is my way of rationalizing mans constant (or so it seems)conflict.---------------------------------------------------------------------jerry kemp (somtime consultant)internet: kempja@rcwusr.bp          kemp_ja@tnd001.dnet.bp\n",
      ": : once tapped, your code is no good any mo.stribution: na: kendall squa search corp.lines: 20johnson@trwacs.fp.trw (steve johnson) writes:>>-tim may, whose sig block may get him busted in the new gime>  a mark i heard the other day is beginning to take on incasingly>frightening signifince.  the comment was made that \"in other parts>of the world the democrats [note the big \"d\"] would be known as>socialists\" and in other parts of the world, european \"socialists\" would be known asfascist pitalist pigs.  get your head out of your labels and think fullyfor once:accorng to the eff announcement on this thing, the nsa has been developingthis turk for *four* years.  the manufacturing contract was let *14 monthsago*.  anyone out the who believes that the fact that clintons name wason this white house announcement means that bush or any other publin isa staunch supporter of personal privacy is a fool.if this topic sturbs you, n the politil finger-pointing and ta aboutwhat you n do about it.  if youve just got to point fingers, member thatthis scheme was started when a sect policeman was psident.\n",
      ": : amitriptyliner-to: geb@cs.pitt. (gordon banks): univ. of pittsburgh computer sciencelines: 14in article <1993mar27.010702.8176@julian.uwo.> roberts@gaul.csd.uwo. (eric roberts) writes:>could someone ease tell me, what effect an overdose (900-1000mg) of>amitriptyline would have?probably would not be fatal in an adult at that dose, but could killa child.  patient would be very somnolent, with lated pupils, lowblood pssu.  possibly rac arrhythmias.  -- ----------------------------------------------------------------------------gordon banks  n3jxp      | \"skepticism is the chastity of the intellect, andgeb@d.dsl.pitt.   |  it is shameful to surnder it too soon.\" ----------------------------------------------------------------------------\n",
      ": : saturns pricing policyarticle-i.d.: cs.1993apr5.230808.581: brown computer science dept.lines: 51in article <c4vir5.l3r@shuksan.ds.bong>, fdd@shuksan (fd ck) writes:|> rolinafan@uiuc (cka52397@uxa.cso.uiuc.) wrote:|> : \ti have been active in defenng saturn lately on the net and would|> : like to state my full opinion on the subject, rather than just r to others|> : points.|> : \t|> : \tthe biggest problem some peoe seem to be having is that saturn|> : dealers make ~$2k on a r.  i think most will age with me that the r is|> : comparably priced with its competitors, that is, th ant overpriced |> : compad to most rs in thr class.  i dont understand the point of |> : arguing over whether the dealer makes the $2k or not?  |> |> i have never understood what the big deal over dealer profits is ther.|> the only thing that i n figu out is that peoe believe that if|> th minimize the dealer profit th will minimize thr total out-of-pocket|> expenses for the r. while this may be true in some ses, i do not|> believe that it is generally true. i bought a saturn sl in january of 92.|> at that time, based on studying r prices, i decided that the was|> no comparable r that was priced as cheay as the saturn. su, maybe i|> could have taed the price for some other r to the saturn price, but|> my out-of-pocket expenses wouldnt have been any ffent. whats important|> to me is how much mon i have left after i buy the r. ducing dealer profit|> is not the same thing as saving mon! show me how ducing dealer profit|> saves me mon, and ill believe that its important. my experience has|> been that ducing dealer profit does not necessarily save me mon.|> |> fdsay, you bought your saturn at $13k, with a dealer profit of $2k.if the dealer profit is $1000, then you would only be paying $12k forthe same r.  so isnt that saving mon?moover, if saturn ally does duce the dealer profit margin by $1000, then thr rs will be even better deals.  say, if the price of a saturn wasalady $1000 below market average for the class of rs, then after thduce the dealer profit, it would be $2000 below market average.  it will:1) attract even mo peoe to buy saturns beuse it would save them mon. 2) force the competitors to lower thr prices to survive.now, not only will saturn owners benefit from a lower dealer profit, even the buyers for other rs will pay less.isnt that saving mon?$0.02,doug.\n",
      ": expose/configu event handling (r4 vs r5): iacs,  of maryland, college park, md 20742lines: 29i have two questions (well probably mo...) about how expose & configuevents a handled.i have an ap. which uses 1 window to draw in.  since i give the user thepability of sling and zooming as well as allowing the window to besized, i made a translation table for the expose & configu events.the expose event lls my draw method while the configu eventlls my sle method.  the sle method invokes a \"fake\" exposeevent (actually just lls the draw w/ an appropriate expose struct)to draw the data.quest 1.when the ap. is compiled/linked w/ r4 (running in ther r4 or r5 env.)i get multie (>4) draws when the window gets uncoved or the sizs changed.  i asse im getting sng events.  is that right?any suggestions as to how to handle/trap events in a better way?quest 2.when the ap. is compiled/linked w/ r5 i get no expose eventswhatsoever.  do events and/or translation tables act ffently in r5?thanks in advancesteve-- ==========================================================================================steve kell\tcp cs/iacs\t\t\tptain, i protest!internet:\tskell@iacs.d.\t\ti am *not* a merry man! - worf\n",
      ": : nazi eugenic theories circulated by cpr => (unconventional peace)nntp-posting-host: orion.oac.uci.:  of lifornia, irvinelines: 15in article <1qvi7s$b1o@usenet.ins.cwru.> bc744@cleveland.fenet. (mark ira kaufman) writes:>>   first this man promotes the ssolution of the jews through an>intermarriage process, and then says that it will be just a bunch>of fundamentalist jews who will object.  >>or does he simy mean to insult the orthodox by using the word >fundamentalist?>its irritating when someone mis-labels \"us\" as \"fundamentalists\",isnt it?  this sort of thing may help us understand why some muslims rather sent bng put under this label.tim\n",
      ": for sale nntp-posting-host: sunsol.mlb.semi.harris: harris semiconductor, melbourne  fwords: for salelines: 44i am selling my sportster to make room for a new flhtcu.this scoot is in excellent contion and has never been wcked or abused.always garaged.\t1990 sportster 883 standard (blue)\tfactory 1200cc conversion kit\tless than 8000 miles\tbranch ported and polished big valve heads\tscamin eagle rb\tscamin eagle m\tadjustable pushrods\tharl performance mufflers\ttachometer\tnew metzeler tis front and ar\tprogssive front fork springs\tharl king and queen seat and sissy bar\teverything chromed\to-ring chain\tfork brace\toil cooler and thermostat\tnew e-hard battery\tbike coverprice: $7000.00phone: hm 407/254-1398       wk 407/724-7137melbourne, florida\n",
      ": : vga 640x400 graphics modestribution: world: neptune softwa inclines: 26dutc0006@student.tc.n. writes in article <c5g7qb.bmp@news2.cis.n.>:> >> >some vesa bioss support this mode (0x100).  and *any* vga should be able to> >support this (640x480 by 256 colors) since it only quis 256,000 bytes.> >my 8514/a vesa tsr supports this; its the only vesa mode by rd n support> >due to 8514/a strictions. (a wd/parase)> >> >--> >i am not sponsible for anything i do or say -- im just an opinion.> >             robert j.c. kyanko (rob@rjck.uucp)> > \th no.  possibly you punched in the wrong nbers on your> lculator.  256 color modes take a byte per pixel so 640 time 480 is> 307,200 which is 300k to be exact.  640x400x256 only takes 250k but i> dont think it is a bios mode.  i wouldnt bet that all vga rds n do> that ther.  if a vga rd has 512k i bet it n do both 640x400 and> 640x480.  that by definition is svga, though not very high svga.> yes, i d punch in the wrong nbers (working too many late nites).  iintended on stating 640x400 is 256,000 bytes.  its not in the bios, just myvesa tsr.--i am not sponsible for anything i do or say -- im just an opinion.             robert j.c. kyanko (rob@rjck.uucp)\n",
      ": neurofibromatosis:  of massachusetts, amherstlines: 15nntp-posting-host: titan.ucs.ass.hello,i am writing a grant proposal for a developmental genetics class and ihave chose to look at the neurofibromatosis 1 gene and its variableexpssivity.  i am curious what has alady been done on this subject,especially the lationship between specific mutations and the sultingphenotype.  my literatu search has produce many fences, but i want tomake su i am proposing new search.  if anyone knows aything that has beencently or k peo doing search to search for using medline, i wouldapprciate bng informed.thank you.lisa megnalmegna@titan.ucc.ass.\n",
      ": : gun control (was : we mad as hell at the tv news)nntp-posting-host: ucsu.colorado.:  of colorado, boulderstribution: nalines: 31in article <c41h.ecf@magpie.linknet> manes@magpie.linknet (steve manes) writes:>: you a betraying your lack of understanng about rate versus total>: nber. rates a expssed, often, as #/100,000 population.>: thefo, if a ace had 10 deaths and a population of 100,000, the>: rate would be 10/100,000.  a ace that had 50 deaths and a population>: of 1,000,000 would hav a rate of 5/100,000.  the former has a higher>: rate, the latter a higher total.  you a less likely to e in the>: latter.  sime enuff?>for chrissakes, take out your lculator and work out the nbers.>he... ive pformatted them for you to make it easier:>\t\t\thandgun homicides/population>\t\t\t---------------------------->\tswitzerland :\t24 /  6,350,000>\t         uk :    8 / 55,670,000>... and then tell me again how switzerland is safer with a mo>liberal handgun law than the uk is without...by rate or total nber.>your choice.beuse the a about 40 homicides total (i.e. using guns, knives,ti-irons, baseball bats, ba hands, etc...) in switzerlandeach year and 850 homicides, total, in england. thats thetimes worse per pita in england than in switzerland. sincedead is dead, it ally doesnt matter that 60% of the switzmurders involved a gun or that only 0.9% of the english murdersdo.                                             frank crary                                            cu boulder    \n",
      ": : rours about 3do ???sclaimer: this posting psents the posters views, not necessarily those of ibmnntp-posting-host: rs43873.rchland.ibm: ibm rochesterlines: 35in article <1993apr19.121925.14451@microwa>, jejones@microwa (james jones) writes:|> in article <1993apr15.164940.11632@mercury.unt.> sean mcmains <mcmains@unt.> writes:|> >in article <1993apr15.144843.19549@rchland.ibm> rirdo hernandez|> >muchado, rirdo@rchland.vnet.ibm writes:|> >>   and cd-is cpu doesnt help much ther.  i understand it is|> >>a 68070 (supposedly a variation of a 68000/68010) running at something|> >>like 7m.  with this speed, you *truly* need sprites.|> >|> >wow! a 68070! id be very intested to get my hands on one of these,|> >especially considering the fact that motorola has not yet leased the|> >68060, which is supposedly the next in the 680x0 lineup. 8-d|> |> dont get too excited; signetics, not motorola, gave the 68070 its nber.|> the 68070, if i understand rightly, uses the 68000 instruction set, and has|> an on-chip serial port and dma.  (it will run at up to 15 m--im typing|> at a computer using a 68070 running at that rate, so i know that it n|> do so--so i seriously doubt the clock rate that rirdo@rchland.vnet.ibm|> claims.)|> |> \tjames jones   just beuse the 68070 n run upto 15m doesnt mean the cd-iis running at that speed.  i said -> i understand it is a 68070 runningat something like 7m.  i am not su, but i think i ad this a longtime ago.   anyway, still with 15m, you need sprites for a lot of tricks formaking cool awesome games (ad psygnosis).--------------------------------------raist  new a1200 owner   320<->1280 in x, 200<->600 in yin 256,000+ colors from a 24-bit palette.  **i love it!**<- new low fat .sig*dont e-mail me* -> i dont have a valid addss nor n i send e-mail  \n",
      ": : ffence between lexus 300 series?article-i.d.: u.1pr5f8inn4omr-to: qazi@csd4.csd.u.:  of wisconsin - milwaukeelines: 18nntp-posting-host: 129.89.7.4originator: qazi@csd4.csd.u.from article <1993apr5.200048.23421@ucsu.colorado.>, by lonzo@rintintin.colorado. (eric lonzo):> \twhat is the ffence between the ls300, es300 and gs300?  seems> lexus nt stop popping out new models.--let me put it like this.  the only similarity between the the models  is the \"300\", or 3-liter engine sacement.  actually, the sc300 (the  coupe) and the gs300 (the funky-looking new sedan) sha the same 3.0  liter inline-six, and the es300 (popular small sedan) uses 3.0 v6 shad  with the mry.  the sc300 is a luxury/sports coupe, the gs300 is the new  luxury sedan, and the es300 is the base executive sedan.  all the look  cometely ffent.--aamir qazi-- aamir qaziqazi@csd4.csd.u.--why should i ?  id rather watch drying paint.\n",
      ": : what if the vians we black?article-i.d.: ncoast.c528.l5mr-to: cmort@ncoast.org (christopher morton): north coast public access *nix, cleveland, ohlines: 35as quoted from <1993apr5.172734.8744@icd.ab> by kdw@icd.ab (kenneth d. whitehead):> oleary@cbnewsh.cb.att (brian.m.leary) writes:> > > questions for the mea and the politilly corct:> > > > try asking peoe who dont understand why anyone would worry about> > the tactics used against the \"child molesting, drug dealing, gun running, > > cop killing ligious wackos in waco\" (1) these questions:> > > > if the peoe in the compound we black and the guys in ninja suits> > charging in with assault weapons and gnades we lapd > > what would you think?> > > the charges a essentially the same th used against operation move> in philadelphia a few years back, whe the cops dropped an incenary> bomb on the roof of a tenement and burned down a whole block.> > move was a black group.the we some signifint ffences.  wheas the branch davians aported to have gotten along rather well with thr nghbors, the movepeoe a generally conceded to have gone far out of the way to antagonizethr black nghbors, using loudspeakers to all hours of the night, keepinglarge piles of garbage, promoting rat and insect infestation, and allegedlythatening to kidnap thr nghbors childn.still the same sort of questions garng use of force main in that se.-- ===================================================================\"you like a bunch of over-ted, new york jewish aclu lawyersfighting to eliminate school prayer from the public schools inarkansas\" - holly silva\n",
      "subject: why isolate it?from: chinsz@s.lstate. (christopher hinsz): lif state univ/electronic information serviceslines: 13\tdoes anyone on this newsgroup happen to know why morphine wasfirst isolated from opi?  if you know why, or have an idea for whe icould look to find this info, ease mail me.\tcshany suggestionas would be gatly appciated-- \"kilimanjaro is a ptty tricky climb. most of its up, until you achthe very, very top, and then it tends to slope away rather shary.\"\t\t\t\t\tsir george head, obe (jc)------------------------------------------------------------------------------logic: \"the point is frozen, the beast is dead, what is the ffence?\"\t\t\t\t\tgavin millarrrrrrrrrr (jc)\n",
      ": : hismanal, et. al.--side effects:  wright state  lines: 22in article <1993apr21.024103.29880@spdcc>, dyer@spdcc (steve dyer) writes:> in article <1993apr20.212706.820@lrc.> kjiv@lrc. writes:>>n someone tell me whether or not any of the following metions >>has been linked to rapid/excessive wght gain and/or a storted >>sense of taste or smell:  hismanal; azmacort (a topil steroid to >>pvent asthma); vancenase.> > hismanal (astemizole) is most definitely linked to wght gain.> it ally is peculiar that some antihistamines have this effect,> and even mo so an antihistamine like astemizole which purportedly> doesnt cross the blood-brain barrier and so tends not to use> drowsiness.it also gave me lots of problems with joint and muscle pain.  seemed totrigger arthritis-like problems.sue> > -- > steve dyer> dyer@ursa-major.spdcc aka {ima,harvard,rayssd,linus,m2c}!spdcc!dyer\n"
     ]
    }
   ],
   "source": [
    "results = {}\n",
    "for a in topics[\"cluster\"][\"0\"]:\n",
    "    results[str(a)] = all_texts[\"text\"][str(a)]\n",
    "    "
   ]
  },
  {
   "cell_type": "code",
   "execution_count": 47,
   "metadata": {},
   "outputs": [
    {
     "data": {
      "text/plain": [
       "{'0': [271, 334, 487, 264, 284, 318],\n",
       " '1': [1, 2, 3, 4, 5, 6],\n",
       " '2': [7, 8, 9, 10, 11, 12],\n",
       " '3': [13, 14, 15, 16, 17, 18],\n",
       " '4': [19, 20, 21, 22, 23, 24, 25]}"
      ]
     },
     "execution_count": 47,
     "metadata": {},
     "output_type": "execute_result"
    }
   ],
   "source": [
    "topic_list['clusters']"
   ]
  },
  {
   "cell_type": "code",
   "execution_count": 43,
   "metadata": {},
   "outputs": [],
   "source": [
    "base = \"https://nist-topic-model.umiacs.umd.edu/get_document_information\""
   ]
  },
  {
   "cell_type": "code",
   "execution_count": 57,
   "metadata": {},
   "outputs": [
    {
     "name": "stdout",
     "output_type": "stream",
     "text": [
      "6\n"
     ]
    }
   ],
   "source": [
    "user = requests.post(\"https://nist-topic-model.umiacs.umd.edu//create_user\", {\"user_session\": \"fiifi\"}).json()['user_id']\n",
    "print(user)"
   ]
  },
  {
   "cell_type": "code",
   "execution_count": 6,
   "metadata": {},
   "outputs": [],
   "source": [
    "def get_words(dat, raw_string):\n",
    "    words = {}\n",
    "    for a in dat.keys():\n",
    "        semi_words = []\n",
    "        for b in dat[a]['spans']:\n",
    "            try:\n",
    "                semi_words.append(raw_string[b[0]:b[1]])\n",
    "            except:\n",
    "                continue\n",
    "        words[a] = set(semi_words)\n",
    "    return words"
   ]
  },
  {
   "cell_type": "code",
   "execution_count": null,
   "metadata": {},
   "outputs": [],
   "source": []
  },
  {
   "cell_type": "code",
   "execution_count": null,
   "metadata": {},
   "outputs": [],
   "source": []
  },
  {
   "cell_type": "code",
   "execution_count": null,
   "metadata": {},
   "outputs": [],
   "source": []
  },
  {
   "cell_type": "code",
   "execution_count": null,
   "metadata": {},
   "outputs": [],
   "source": []
  },
  {
   "cell_type": "code",
   "execution_count": null,
   "metadata": {},
   "outputs": [],
   "source": []
  },
  {
   "cell_type": "code",
   "execution_count": null,
   "metadata": {},
   "outputs": [],
   "source": []
  },
  {
   "cell_type": "code",
   "execution_count": 20,
   "metadata": {},
   "outputs": [],
   "source": [
    "\n",
    "results = {}\n",
    "for a in topic_list[\"clusters\"].keys():\n",
    "    sub_results = {}\n",
    "    for b in topic_list[\"clusters\"][a][:6]:\n",
    "        sub_results[str(b)] = all_texts[\"text\"][str(b)]\n",
    "    results[a]= sub_results"
   ]
  },
  {
   "cell_type": "code",
   "execution_count": 21,
   "metadata": {},
   "outputs": [
    {
     "data": {
      "text/plain": [
       "dict_keys(['0', '1', '2', '3', '4'])"
      ]
     },
     "execution_count": 21,
     "metadata": {},
     "output_type": "execute_result"
    }
   ],
   "source": [
    "results.keys()"
   ]
  },
  {
   "cell_type": "code",
   "execution_count": 26,
   "metadata": {},
   "outputs": [],
   "source": [
    "def get_sliced_texts(topic_list, all_texts):\n",
    "    results = {}\n",
    "    for a in topic_list[\"clusters\"].keys():\n",
    "        sub_results = {}\n",
    "        for b in topic_list[\"clusters\"][a][:6]:\n",
    "            sub_results[str(b)] = all_texts[\"text\"][str(b)]\n",
    "        results[a]= sub_results"
   ]
  },
  {
   "cell_type": "code",
   "execution_count": 25,
   "metadata": {},
   "outputs": [],
   "source": [
    "get_sliced_texts(topic_list, all_texts)"
   ]
  },
  {
   "cell_type": "code",
   "execution_count": null,
   "metadata": {},
   "outputs": [],
   "source": [
    "topi"
   ]
  },
  {
   "cell_type": "code",
   "execution_count": null,
   "metadata": {},
   "outputs": [],
   "source": []
  },
  {
   "cell_type": "code",
   "execution_count": null,
   "metadata": {},
   "outputs": [],
   "source": []
  },
  {
   "cell_type": "code",
   "execution_count": null,
   "metadata": {},
   "outputs": [],
   "source": []
  },
  {
   "cell_type": "code",
   "execution_count": 75,
   "metadata": {},
   "outputs": [
    {
     "name": "stdout",
     "output_type": "stream",
     "text": [
      ": : once tapped, your code is no good any mo.stribution: na: kendall squa search corp.lines: 20johnson@trwacs.fp.trw (steve johnson) writes:>>-tim may, whose sig block may get him busted in the new gime>  a mark i heard the other day is beginning to take on incasingly>frightening signifince.  the comment was made that \"in other parts>of the world the democrats [note the big \"d\"] would be known as>socialists\" and in other parts of the world, european \"socialists\" would be known asfascist pitalist pigs.  get your head out of your labels and think fullyfor once:accorng to the eff announcement on this thing, the nsa has been developingthis turk for *four* years.  the manufacturing contract was let *14 monthsago*.  anyone out the who believes that the fact that clintons name wason this white house announcement means that bush or any other publin isa staunch supporter of personal privacy is a fool.if this topic sturbs you, n the politil finger-pointing and ta aboutwhat you n do about it.  if youve just got to point fingers, member thatthis scheme was started when a sect policeman was psident.\n",
      ": is tek quitting xterm activities ???: old nv, zaandam, netherlands, eeclines: 13i ught up a mailmessage from an ncd guy, who stated that tekmight be quitting its x terminal activities and would be lookingfor an intested buyer.since the source of this message is ncd, this might only be nastygossip !!!n anyone say mo about this??ck.-- +==============================old nv===============================+| room 146 , ankersmidn 2, 1506 ck zaandam,  the netherlands, eec || ck.hjne@ccsds.old.nl - tel: +31 75 592151, f: +31 75 313030 |+=====================================================================+\n",
      ": s3 video rd at ffent addss: cc, ann arbor, milines: 7stribution: usanntp-posting-host: cc.cc.ich.id like to add a second s3 based video rd to my system.  does anyoneknow of a company that sells a rd that n coexist with another one?all i ally need is color text on one monitor and fast color graphicson the other.probably just a configurable addss would do it.\n",
      ": : davians and compassion: cookamunga tourist buaulines: 29in article <1993apr20.143400.569@ra.royalroads.>, mlee@post.royalroads.(malcolm lee) wrote:> do you judge all christians by the acts of those who would ll> themselves christian and yet a not?  the bds contracted scriptu> in thr actions.  th we not christian.  sime as that.  perhaps> you have ad too much into what the mea has portrayed.  ask any> true-believing christian and you will find that th will deny any> association with the bds.  even the 7th day adventists have denied any> further ties with this cult, which was what th we.well, if th we satanists, or followers of an obscu ligion,then i would be su that christians would in unison condemn and make this to a show se. but when we a dealing with a fanatilvelation pacher that kills ultimately everyone, inclung thnnocent childn, then it seems that we a dealing with christians and christians (note the spelling). > do you judge all muslims by the acts committed by saddam hussn, a > supposedly devout muslim?  i dont.  saddam is just a ctator using> the ligious beliefs of his peoe to further his own ends.and does not this show the dangers with ligion -- in order word a mind virus that will make mothers pable of lettingthr small childn burn to ashes while th scam?cheers,kent---sandvik@newton.ape. alink: ksand -- private activities on the net.\n",
      ":  smary parse sults for games ayed sun, april 18, 1993:  of new brunswicklines: 219new jers                       1 0 2--3pittsburgh                       2 3 1--6first period     1, pittsburgh, tocchet 1 (stevens, lemieux) pp, 1:40.     2, new jers, barr 1 (guerin, holik) 6:24.     3, pittsburgh, lemieux 1 (jagr, rams) 9:33.second period     4, pittsburgh, lemieux 2 (stevens, murphy) pp, 4:11.     5, pittsburgh, francis 1 (rams, mullen) 12:57.     6, pittsburgh, tippett 1 (jagr, mceachern) 17:13.third period     7, pittsburgh, jagr 1 (samuelsson, lemieux) pp, 8:35.     8, new jers, stevens 1 (niedermayer, driver) pp, 11:48.     9, new jers, stevens 2 (semak, niedermayer) 18:56.pittsburgh: 6    power ay: 8-3scor            g    a   pts---------------  ---  ---  ---francis            1    0    1jagr               1    2    3lemieux            2    2    4mceachern          0    1    1mullen             0    1    1murphy             0    1    1rams             0    2    2samuelsson         0    1    1stevens            0    2    2tippett            1    0    1tocchet            1    0    1new jers: 3    power ay: 8-1scor            g    a   pts---------------  ---  ---  ---barr               1    0    1driver             0    1    1guerin             0    1    1holik              0    1    1niedermayer        0    2    2semak              0    1    1stevens            2    0    2-----------------------------------------st louis                         0 2 2--4chigo                          1 2 0--3first period     1, chigo, noonan 1 (larmer, brown) 8:17.second period     2, st louis, brown 1 (shanan, emerson) 3:12.     3, chigo, noonan 2 (roenick, chelios) pp, 5:40.     4, chigo, noonan 3 (matteau, sutter) 8:51.     5, st louis, felsner 1 (mcrae, jann) 12:49.third period     6, st louis, shanan 1 (brown, hull) pp, 11:12.     7, st louis, hull 1 (emerson, brown) pp, 11:29.st louis: 4    power ay: 4-2scor            g    a   pts---------------  ---  ---  ---brown              1    2    3emerson            0    2    2felsner            1    0    1hull               1    1    2jann             0    1    1mcrae              0    1    1shanan           1    1    2chigo: 3    power ay: 7-1scor            g    a   pts---------------  ---  ---  ---brown              0    1    1chelios            0    1    1larmer             0    1    1matteau            0    1    1noonan             3    0    3roenick            0    1    1sutter             0    1    1-----------------------------------------los angeles                      1 3 2--6lgary                          0 1 2--3first period     1, los angeles, sydor 1 (gtzky, sandstrom) 0:16.second period     2, lgary, suter 1 (fleury) sh, 2:48.     3, los angeles, rson 1 (shuchuk, sydor) pp, 3:13.     4, los angeles, huddy 1 (taylor, rychel) 3:37.     5, los angeles, mcsorl 1 (unassisted) 6:36.third period     6, los angeles, millen 1 (granato, donnelly) 1:06.     7, lgary, dlquist 1 (otto) 4:23.     8, lgary, yawn 1 (macinnis, rchel) 8:47.     9, los angeles, rson 2 (sandstrom, robitaille) pp, 10:32.los angeles: 6    power ay: 10-2scor            g    a   pts---------------  ---  ---  ---rson             2    0    2donnelly           0    1    1granato            0    1    1gtzky            0    1    1huddy              1    0    1mcsorl           1    0    1millen             1    0    1robitaille         0    1    1rychel             0    1    1sandstrom          0    2    2shuchuk            0    1    1sydor              1    1    2taylor             0    1    1lgary: 3    power ay: 8-0   special goals:  sh: 1  total: 1scor            g    a   pts---------------  ---  ---  ---dlquist          1    0    1fleury             0    1    1macinnis           0    1    1otto               0    1    1rchel            0    1    1suter              1    0    1yawn             1    0    1-----------------------------------------first period     1, ny islanders, ferraro 1 (flatl, vaske) 5:56.second period     no scoring.third period     2, washington, hunter 1 (elynuik, krygier) 3:18.     3, washington, hunter 2 (khristich, johansson) pp, 7:01.     4, washington, khristich 1 (pivonka, johansson) pp, 15:25.washington: 3    power ay: 5-2scor            g    a   pts---------------  ---  ---  ---elynuik            0    1    1hunter             2    0    2johansson          0    2    2khristich          1    1    2krygier            0    1    1pivonka            0    1    1ny islanders: 1    power ay: 5-0scor            g    a   pts---------------  ---  ---  ---ferraro            1    0    1flatl            0    1    1vaske              0    1    1-----------------------------------------buffalo                          2 1 1 1--5boston                           0 2 2 0--4first period     1, buffalo, hannan 1 (unassisted) 2:32.     2, buffalo, lafontaine 1 (mogilny) 9:26.second period     3, boston, juneau 1 (neely, oates) pp, 7:20.     4, boston, neely 1 (oates, juneau) 14:42.     5, buffalo, mogilny 1 (hawerchuk, smehlik) 19:55.third period     6, buffalo, mogilny 2 (unassisted) 3:46.     7, boston, neely 2 (juneau, oates) 15:44.     8, boston, hnze 1 (juneau) 17:00.overtime     9, buffalo, sween 1 (khmylev, smehlik) 11:03.buffalo: 5    power ay: 3-0scor            g    a   pts---------------  ---  ---  ---hannan             1    0    1hawerchuk          0    1    1khmylev            0    1    1lafontaine         1    0    1mogilny            2    1    3smehlik            0    2    2sween            1    0    1boston: 4    power ay: 7-1scor            g    a   pts---------------  ---  ---  ---hnze             1    0    1juneau             1    3    4neely              2    1    3oates              0    3    3-----------------------------------------montal                         1 1 0 0--2quebec                           0 0 2 1--3first period     1, montal, onne 1 (pietro, brunet) 5:52.second period     2, montal, bellows 1 (muller, desjarns) 9:58.third period     3, quebec, rucinsky 1 (lapointe, sunn) pp, 18:31.     4, quebec, sakic 1 (lapointe) 19:12.overtime     5, quebec, young 1 (ricci, duchesne) 16:49.quebec: 3    power ay: 4-1scor            g    a   pts---------------  ---  ---  ---duchesne           0    1    1lapointe           0    2    2ricci              0    1    1rucinsky           1    0    1sakic              1    0    1sunn             0    1    1young              1    0    1montal: 2    power ay: 1-0scor            g    a   pts---------------  ---  ---  ---bellows            1    0    1brunet             0    1    1desjarns         0    1    1onne             1    0    1pietro           0    1    1muller             0    1    1-----------------------------------------\n",
      ": cd-roms 4-sale  (new): wheaton college, illines: 101im looking to find some peoe intested in getting some cd-roms. belowis a list with thr prices. if you a intested in any of these, send mesome mail and i n guarantee this price. if you a not lol thr will bea shipping cost, and cod cost if you pfer it to be shipped that way.marcusamerin business phonebook             dos             $20.00animals                                 dos             $30.00animals                                 mpc             $30.00audoban birds                           dos             $20.00audoban mammals                         dos             $20.00barn bear goes to school              dos             $30.00bible library                           dos             $45.00bibles and ligion                     dos             $15.00book of lists                           dos             $30.00britannis family choice               dos             $23.00britamri select                       dos             $24.33business & economics                    dos             $30.00business backgrounds                    dos             $20.00business master                         dos             $20.00rmen san ego lwhe is ...)         mpc             $30.00cd ay/launch                          dos             $25.00  cd rom  softwa jukebox                dos             $20.00cia vorld taur                          dos             $35.00chess master 3000 mpc                   dos             $35.00classic col lection                     dos             $60.00clipert goliath \t\t        dos             $15.00colossal cookbook                       dos             $15.00delormes atlas usa                     win             $25.00desert storm                            mpc             $35.00deathstar arde battles                dos             $15.00ctionaries & language                 dos             $15.00tion master                        dos             $20.00electronic home library                 dos             $35.00family doctor                           dos             $30.00family encyclopea by comptons         dos             $49.00family encyclopea by comptons         mpc             $49.00game master                             dos             $20.00game pack ii                            dos             $25.00golden immortal                         dos             $25.00gat cities of the world               dos             $25.00get cities of the world               mpc             $30.00gat cities of the world ii            dos             $25.00  gat cities of the world ii            mpc             $30.00groliers encyclopea                   dos             $60.00groliers encyclopea                   mpc             $60.00guiness sc 1992                       dos             $15.67ham rao\t\t                dos             $15.00information usa\t                        dos\t        $35.00islands designs\t\t       \t        dos\t        $20.00jets & props                            dos\t        $25.00jones ... fast lane\t\t        dos/mps\t        $25.00kgb/cia  world fact book\t        dos\t        $25.00kings  quest  5:\t                dos/mpc         $25.00library of the  futu\t                dos\t        $90.00loom\t\t\t                dos\t        $35.00mpc  wizard\t\t                mpc\t        $15.00macmillan  kids  ctionary\t        mpc             $55.00magazine  rack\t\t                dos\t        $25.00majestic  aces\t\t        dos\t        $20.00mavis beacon teaches typing             mpc\t        $35.00mixed up mother goose    \t        dos/mpc\t        $25.00mon,mon,mon,                      dos\t        $20.00monk island\t                        dos             $35.00oak cd stand\t\t                dos\t        $15.00our solar system\t\t        dos\t        $15.00psidents\t\t                dos\t        $85.00publish it\t\t\t        dos\t        $30.00fence  library\t\t        dos\t        $35.00sect  weapons/luftwaffe\t        mpc\t        $35.00shewa games\t\t                dos\t        $35.00shewa  overload\t\t        dos\t        $15.00sher holmes/consul det\t                mpc\t        $35.00sleeping  beauty\t\t        dos\t        $20.00srd cd softwa bundle - 4 titles       n/a\t        $90.00stellar  7\t\t\t        dos/mpc\t        $25.00story  time - interactive               dos\t        $25.00the cd  rom  collection\t                dos\t        $15.00time magazine almanac curnt           dos\t        $35.00time table of hist/sci/innovation\tdos\t\t$35.00tons & gigs\t\t\t\tdos\t\t$49.00too many typefonts\t\t\tdos\t\t$15.00total  baseball\t\t\t\tdos\t\t$30.00us  atlas/w automap\t\t\tdos\t\t$35.00us  history\t\t\t\tdos\t\t$35.00us/world  atlas\t\t                dos/mpc\t        $30.00us wars:civil war\t\t\tdos\t\t$25.00wild aces\t\t\t\tdos\t\t$25.00wing com/ultima vi\t\t\tdos/mpc\t        $35.00world view\t\t\t\tdos\t\t$25.00 @@@@@@@@@@@@@@@@@@@@@@@@@@@@@@@@@@@@@@@@@@@@@@@@@@@@@@@@@@@@@@@@@@@@@@@@@@@@@e-mail mkbaird@david.wheaton. -- mkbaird%david.bitnet@uunet.uu.net --  voice  708-752-8847 - internet 192.138.89.15 -- mkbaird%david@uunet.uu.net                    -- @@@@@@@@@@@@@@@@@@@@@@@@@@@@@@@@@@@@@@@@@@@@@@@@@@@@@@@@@@@@@@@@@@@@@@@@@@@@@e-mail mkbaird@david.wheaton. -- mkbaird%david.bitnet@uunet.uu.net --  voice  708-752-8847 - internet 192.138.89.15 -- mkbaird%david@uunet.uu.net                    \n",
      ": intersc. bible search inst.: teme lines: 27 hi!\tanyone know anything about the intersciinary bible searchinstitute, operating out of hatfield, pa?\tim ally intested in thr theories on old-earth(as opposed to young earth) and what th believe about evolution.\tthanks,\t\tin the master,\t\tcharl.--       seek god and you will find, among other things,                          piercing easu.              seek easu and you will find bodom, sillusionment                              and enslavement.                                      john white (eros defiled).\t[note that i do not accept scussions of evolution he, as thers a deted group for that, ta.origins.  --clh]\n",
      ": : top 10 asons why i love cr (not for the hor impaid)article-i.d.: cs.1993apr6.195710.24227r-to: finnegan@navo.navy.milstribution: na: grman data systemslines: 28nntp-posting-host-[nntpd-19510]: invader.navo.navy.milin article <1993apr6.180456.17573@magnus.acs.ohio-state.>, jnielsen@magnus.acs.ohio-state. (john f nielsen) writes:|> in article <1993apr06.133319.7008@metrics> tomh@metrics (tom haapanen) writes:|> >chints@iscs.nus.sg writes:|> >> he a \"another\" ten asons why we should all love cr|> >> 10. r salesmen love thr new r buying service|> >> 2. and later on buying a cr \"idealized family sedan\"|> >|> >and my nber 1:|> >|> >1. the spectacle of the ligious fervour of the cr \"true believers\".|> |> or the spectacle of \"macho al men\" who would never bother to ad the|> magazine but a mo than apt to criticize it.h, im a \"macho al man\" and i do ad it.  so i n criticizt all i want, especially since i pay for the publition. (thaccept no outside advertising, dont you know....)|> john nielsen   magnus consultant            ______   ______   __  __\t|> \"to you baldrick, the naissance was just /\\  __ \\ /\\  ___\\ /\\ \\/\\ \\|> something that happened to other peoe,   \\ \\ \\/\\ \\\\ \\___  \\\\ \\ \\_\\ \\|> wasnt it?\" - the black adder               \\ \\_____\\\\/\\_____\\\\ \\_____\\lying on conser ports to pick your automobiles is likeletting field & stam select your living room furnitu.kennethfinnegan@navo.navy.mil\n",
      "subject: : amerins and evolutionfrom: halat@pooh.bears (jim halat)r-to: halat@pooh.bears (jim halat)lines: 10in article <j0=5l3=@rpi.>, johnsd2@jec322.its.rpi. (dan johnson) writes:>in article 143048io30436@maine.maine., <io30436@maine.maine.> () writes:dan johnson-you dont know me, but take this hand anyway.  bravo for go(ds) = 0. beautiful!  simy beautiful!-jim halat\n",
      ": frozen shoulder and lawn mowing: eastern illinois lines: 12ihave had a frozen shoulder for over a year or about a year.  it is stillpartially frozen, and i am still in physil therapy every week.  but thepain has subsided almost cometely.  until last week when i mowed thelawn for twenty minutes each, two days in a row.  i have a push type powermower.  the pain started back up a little bit for the first time in quitea while, and i used ice and mecine again.  n anybody exain why thisparticular activity, which does not seem to stss me very much generally,should use this shoulder problem?thanks.alice\n",
      ": : taurus/sable rotor ll: teme lines: 23nntp-posting-host: pisso.ocis.teme.x-newsader: tin [version 1.1 9]antonio l. balsamo (save the wails) (balsamo@stargl.enet.dec) wrote:: from: opdbs@vm.cc.latech.: subject: taurus/sable rotor ll:        my 92 taurus gl with only 26k on the clock also has rotor warp.:    appantly th havent fixed the problem yet.  but try convincing the ford:    service person to fix it for fe...right!!!:    tonygads, i have heard so many horror stories with taurus and sable rs!  i thoughtthese we pmi amerin automobiles.  the way th sell, youd think so.is ford ally no better than in the late 70s when it was turning out tinns like the granada and the fairmount?  which would you get, a taurus or a mry or accord?johnzorro@pisso.ocis.teme.zorro@astro.ocis.teme.^^^^^^^^^^^^^^^^^^^^^^^^^^^\n",
      ": some mo info. about p9000 boardoriginator: himb@iniki: school of ocean and earth science and technologylines: 10  one mo thing to add, the orchid board vesa bios is onlyable to handle the 1 meg dram on board, the viper however nutilize the 2 meg vram on board to support vesa modes such as1280x1024x256, 800x600x16 mil. and 1024x768x65536 under dos.+----------------------------------------------------------------+stephen lau, elec. engineering, univ. of hawaii dont have my own account until grad. school starts (autn 93)+              death to fm synthesis! go gus!                    +\n",
      ": : v-m handling questnntp-posting-host: thor: newbridge networks corporationlines: 21in article <1qjtr9$llb@news.ysu.> ak296@yfn.ysu. (john r. daker) writes:>>in a pvious article, ba7116326@ntuv.ntu.ac.sg () says:>>>hello the>>in anyone who has handson experience on ring the yama v-m, s kindly>>comment on its handling .>>you kidng, right?  this is flame bait in the extme.  v-m handling?>har har har har....zero to very fast very quickly... lastest ror is 115 hp at the ar wheel,handles like a dam in a straight line to 80-100, and then gets a tad upsetaccorng to a view in cycle world... cornering, er well, you nt have everything... seriously, handling is probably as good as the big standardsof the early 80s but not compaable to whats state of the art these days.all this gleemed from views and scussions with owners. i too lust afterthis bike.bj...bradw@newbridge... no .sig no .an no.clue  >> dod# 255 <<\n",
      ": modem questionarticle-i.d.: blue.9061: p-eelines: 2\t\t\t\t\tart\n",
      ": : too many europeans in : adobe systems incorporatedlines: 17in article <1993apr6.141557.8864@alchemy.chem.utoronto.> golchowy@alchemy.chem.utoronto. (gerald olchowy) writes:>anyways, crawl back into the hole you crawled out of...the nba doesnt> whe th get basketball ayers from, major league baseball>doesnt give a damn whe th get baseball ayers from (except cuba,>that is).mlb is perfectly willing to take ayers from cuba.  th just have todefect first.  sort of like the situation used to be with russian/czech/etc hockayers, until the politil situation in those countries changed.sherri nicholssnichols@adobe\n",
      ": : question about virgin mary: at&t bell labslines: 18in article <may.3.05.01.53.1993.9964@athos.rutgers.> a.faris@trl.oz.au (aziz faris) writes:>[i think you taing about the \"assption of the blessed virgin>mary\".  it says that \"the immaculate mother of god, the ever virgin>mary, having cometed the course of her earthly life, was assed>body and soul into heavenly glory.\"  this was defined by a papal>statement in 1950, though it had certainly been believed by some>befo that.  --clh]so true.  im not su of the basis of the belief, but it was a widelyheld belief among the laity of the rc church and thr support of itlead to it bng declad to be true.  basilly the teaching on infallibilityholds that the pope is infallible in matters of faith and doctrine, thecollege of bishops is likewise infallible, and the laity is as well.the pope gets most of the attention/criticism but the consensus of theother boes is equally infallible (accorng to rc teaching).joe moo\n",
      ": : help: brunel , uxbridge, uklines: 27jon ogden (jono@mac-ak-24.rtsg.mot) wrote:: it is a dead and useless faith which has no action behind it.  actions: prove our faith and show the genuineness of it.a good exame of this is abram (ferd to in the james passage). hebwssays that abram was justified by faith -- but his faith was demonstratedthrough his works (i.e., he obed what god told him to do).ang abrams ``biography in genesis is very instructive. he was a manbeset by *lack* of faith a lot of the time (e.g. lying about sar bng hiswife on 2 ocsions; trying to fulfil gods promise on gods behalf bycopulating with hagar). . . yet it seems that god dnt evaluate him on thebasis of invidual incidents. abram is listed as one of the ``heroes of faith in hebws 11. i.e., when it ally me to the crunch, god decladabram as a man of faith. he believed gods promises.this gives us confidence. although al faith demonstrates itself throughworks, god is not going to judge us accorng to our success/failu inperforming works.``not by works of righteousness which we have done, but accorng to his mercyhe saved us, through the washing of generation, and newing of the holyspirit. (titus 3.5)amazing grace! halleluj!-- michael davis (cs89mcd@brunel.ac.uk)\n",
      ": : once tapped, your code is no good any mo.: univ. of southwestern louisianalines: 52strnlght@netcom (david sternlight) writes:>what follows is my opinion. it is not asserted to be \"the truth\" so no>flames, ease.  it comes out of a background of 20 years as a senior>corporate staff executive in two fortune 50 companies.>id be happy to use a crypto system supied by the nsa for business, if>th told me it was mo secu than des, and in particular sistant to>attempts by japanese, fnch, and other competitive companies and>governments to bak.>id be happy to do so even with escrowed ks, provided i was happy about>the bona fides of the escrow agencies (the federal serve would certainly>satisfy me, as would something set up by one of the big 8 accounting firms).>id trust the nsa or the psident if th stated the we no trap>doors--id be even happier if a committee of independent experts examined>the thing under seal of seccy and ported back that it was secu.>id trust something from the nsa long befo id trust something from some>swiss or anybody japanese.a lot of us out he in the hinderland will trust the japanesebefo well trust the nsa, the psident, or those stupidfortune 50 companies you so proud of.>this may seem surprising to some he, but i suggest most corporations would>feel the same way. most/many/some (pick one) corporations have an attitude>that the nsa is part of our government and \"we support our government\", as>one very famous ceo put it to me one day.>just some perspective from another point of view.and since the japanese corps ant part of our \"government/governors\"th may be mo trusted out hte than you a.peoe a getting tid of this \"be patriotic, do whatever we saywithout question, and pay mo tes\" attitude that comes fromameris politil party...or should that be ste?>-- >david sternlight         gat  has been taken to ensu the accuracy of>                         our information, errors and omissions excepted.  --phil fraering         |\"seems like every day we find out all sorts of stuff.pgf@srl02.cs.usl.|like how the ancient mayans had televison.\" po man\n",
      ": books for sale!!nntp-posting-host: ravel.udel.:  of delawastribution: usalines: 28someone ease buy these books!!!!!  i am not asking much!!!!!!just make me an offer and i will probably take it!!!!!* lculus w/ analytic geometry by authur b. simon (copyright date 1982), below avg contion but still adable! * writing good softwa in fortran, gram smith. * the holt handbook by kirszner & mandell (copyright 1986) 720+ page writing guide. * algebra & trigonometry, a problem solving approach, 3rd etion by w. flemming and d. varberg.  very good contion.* general chemistry princies & modern apitions, r. petrucci, fourth  etion.  big book! very good contion!* solutions manual for chemistry book.  paperback.* study guide for chemistry book.  paperback.send me your offers via email at 02106@chopin.udel.sam02106@chopin.udel.\n",
      ": : es with ide???: monash lines: 27in article <1qegfd$dqi@wsinis03.info.win.tue.nl> monty@wsinis03.info.win.tue.nl (guido leenders) writes:>hi,>>is it possible to use an es-controller with hdd together with an>ide-hardsk + controller in one isa-system?>>ive ad stuff about secondary controllers. does this trick work?>>thanx in advance,>>guido>monty@win.tue.nli have the same question as guido. it is possible to use the es drive as a master and the ide drive as the slave ? at the moment , i have been using the es drive and cently i bought a ide drive to use as the 2nd drive . the person in the computer shop told me that it is not possible to run 2 sk controller rds together on the same motherboard ( es and ide ) but i think the might be some way of making them work. n anybody enlighten me on this?and it is possible to  run a es hdd using a ide controller? or vice versa?n anybody ease help me out on this?your help will be very much appciated.g.chowels390r@fawlty1.eng.monash..auels390r@mdw013.cc.monash..augtchow@yoyo.cc.monash..au\n",
      ": : [ networking ] how to get 10 ma: royal institute of technology, stockholm, swedenlines: 24nntp-posting-host: hemul.nada.kth.sn <92.2bd1cd0c@olotl> steed.bell@macrocosm.omug.org (steed bell) writes:>networked together using apeta and phonenet connectors. to chat we use a>program lled broadst. with it we n send brief messages to all or>selected machines within the network.if you use system 7, you n use my apition zing which hasa 30 kb footprint (meaning you n have it running all the timewithout losing memory)it is also compatible with the chat program \"fishbomb\" which allowssounds and pictus as well.both a, as far as i know, fewa (i dustribute zing with source)and should be available on the normal services (mac.archive.ich.for instance)cheers,\t\t\t\t\t/ h+--  -- jon w{tte, h+@nada.kth.se, mac hacker deluxe --   this signatu is kept shorter than 4 lines in the intests of usenet   s/n ratio.\n",
      ": : if the we no hell: computer science, liverpool lines: 31in article <may.5.02.51.25.1993.28737@athos.rutgers.>, shellgate!llo@uu4.psi (larry l. overacker) writes:> hes a question that some friends and i we debating last night.> > q: if you knew bond all doubt that hell d not exist and that>    unbelievers simy mained dead, would you main a christian?> > my contention is that if you answer this question with \"no. i would> not then main a christian\" then you ally a not one now.  > following jesus christ has everything to do with sharing in> his work and spang the news that the kingdom of heaven is alady> among us.  fear-based ligion is not a faith-lationship with the> one who made us all.so does that mean that anyone who is a christian to avoid hell isnt allya christian at all? it sounds like it to me.mit liebe in christus, martyn r. mellodew. (u0mrm@compsci.liverpool.ac.uk)--------------------------------------------------------------------------------martyn r. mellodew,                |     e-mail: u0mrm@compsci.liverpool.ac.ukdepant of apied mathematics  |     arpa/internet: u0mrm@csc.liv.ac.uk  and theotil physics,         |     janet:         u0mrm@uk.ac.liv.cscthe  of liverpool,       |p.o. box 147,                      | liverpool,                         |england,                           | l69 9bx.                           |     `dubito ergo deus est.--------------------------------------------------------------------------------\n",
      ": : a visit from the jehovs witnesses: se western serve lines: 48nntp-posting-host: b64635.student.cwru.in article <suopanki.93apr6024902@stekt6.oulu.fi> suopanki@stekt6.oulu.fi (hkki t. suopanki) writes:>:> god is eternal.    [a = b]>:> jesus is god.      [c = a]>:> thefo, jesus is eternal.  [c = b]>>:> this works both logilly and mathematilly.  god is of the set of>:> things which a eternal.  jesus is a subset of god.   thefo>:> jesus belongs to the set of things which a eternal.>>everything isnt always so logil....>>mercedes is a r.>that girl is mercedes.>thefo, that girl is a r?\tthis is not  strickly corct. only by incorct apition of the rules of language, does it seem to work.\tthe mercedes in the first pmis, and the one in the second a not the same mercedes. \tin your se, \ta = b\tc = d\t\ta and d a not equal. one is a name of a person, the other thename of a object. you n not simy extract a word without taking the context into account. \tof course, your se doesnt imy that a = d.\tin his se, a does equal d.\ttry again...---        \"one thing that lates is among navy men that get tatoos that         say \"mom\", beuse of the love of thr mom.  it makes for mo         virile men.\"        bobby mozder  ( snm6394@ultb.isc.rit. )        april 4, 1993        the one true muslim left in the world. \n",
      ": cds for salelines: 22:  of lowell th following cds a for sale. each cd cost 10$ except otherwise inted which includes shipping and handling.achtung baby\t\t\t\tu2 *joshua te\t\t\t\tu2 **the immaculate collection              madonna **  $12love hurts                              cher *garth brooks                           garth brooks *d hot ..chilli peppers..               **ooooohhhhh\t\t\t\ttlc **light and shadows\t\t\twilson *** used only once.** never used, most of them a still in shrink wrapsease email tokgc @ woods.ulowell.\n",
      ": : supy side economic policy (was : david stockman )nntp-posting-host: solomon.technet.sg: technet, singapostribution: nalines: 29in article <ufk_gqu00wbke75v@andw.cmu.> ashish arora <ashish+@andw.cmu.> writes:>excerpts from netnews.sci.econ: 5-apr-93 : supy side economic po..>by not a boomer@desi.wrig >[...]>>>    the deficits declined from 84-9, aching a low of 2.9% of gnp befo  >> the t and spenng hike of 1990 versed the tnd.>>  >> btt>is this true ?  some mo details would be appciated.yes, sadly, this is true. the primary ason, and the essence of thedetails that you a seeking, is that the grm-rudman budget controlswe working.  in fact, th we working so well that unless the fedsd something, th we going to have to start cutting pork. so bushand the democrats got together in a budget smit and acedgrm-rudman with the now historic grand compromise in which bush\"consented\" to raise tes in exchange for certain ps on spenngincases.as it turned out, the tes killed the agan expansion and the pson spenng incases we spelled by clinton in his first act aspsident (so that he could cate his own new an with mo tincases).the sult is that clinton now hopes to duce the deficit to a level above whe it was when agan left office.chew on that awhile.\n",
      ": ati gup and vpicnntp-posting-host: pest.ctpm.uq.oz.au: ctpm and csirolines: 13could someone tell me if the ati graphic ultra pro is supported in a versionof vpic now.if so whe is it loted.thanksrobertemail s would be appciated :-)-- =-=-=-=-=-=-=-=-=-=-=-=-=-=-=-=-=-=-=-=-=-=-=-=-=-=-=-=-=-=-=-=-=-=-=-=-=-==  robert merlicek                    cbr600 from hell                    ==  robert@ctpm.uq.oz.au            engage lucrous speed                 ==-=-=-=-=-=-=-=-=-=-=-=-=-=-=-=-=-=-=-=-=-=-=-=-=-=-=-=-=-=-=-=-=-=-=-=-=-= \n",
      ": : nazi eugenic theories circulated by cpr => (unconventional peace)nntp-posting-host: orion.oac.uci.:  of lifornia, irvinelines: 15in article <1qvi7s$b1o@usenet.ins.cwru.> bc744@cleveland.fenet. (mark ira kaufman) writes:>>   first this man promotes the ssolution of the jews through an>intermarriage process, and then says that it will be just a bunch>of fundamentalist jews who will object.  >>or does he simy mean to insult the orthodox by using the word >fundamentalist?>its irritating when someone mis-labels \"us\" as \"fundamentalists\",isnt it?  this sort of thing may help us understand why some muslims rather sent bng put under this label.tim\n",
      ": : how many mutlus n dance on the head of a pin?x-sclaimer: nyx is a public access unix system run by the \tof denver for the denver community.  the  has nther\tcontrol over nor sponsibility for the opinions of users.: nyx, public access unix at u. of denver math/cs dept.lines: 16in article <3456@israel.nysernet.org> warn@nysernet.org writes:>in <c4xkbx.53f@polaris.async.vt.> jfurr@polaris.async.vt. (joel furr) writes:>>how many mutlus n dance on the head of a pin?>>that minds me of the armenian massac of the turks.>>joel, i took out sct, a we su we want to invoke the name of he who>gps for mason kibos last name lest he include afu in his daily>rounds?i dunno, warn.  just the other day i heard a ror that \"serdar argic\"(aka hasan mutlu and med cosar and zabot) is not ally a turk at all,but in fact is an armenian who is attempting to make any scussion of themassacs in armenia of turks so noise-laden as to make serious scussionimpossible, theby cloaking the historil cord with a tmendous cloudof confusion.  \n",
      ": need help with mitsubishi p78u image printer:  of southern lifornia, los angeles, lines: 26stribution: nanntp-posting-host: sipi.usc.our group cently bought a mitsubishi p78u video printer and i could use somehelp with it.  we bought this thing beuse it (1) has a parallel data input inadtion to the usual video signal inputs and (2) claimed to print 256 graylevel images.  however, the manual that me with it only describes how toformat the parallel data to print 1 and 4 bit/pixel images.  after some initialproblems with the parallel interface i now have this thing running from aparallel port of an hewlett-packard workstation and i n print 1 and 4bit/pixel images just fine.  i lled the mitsubishi peoe and asked about the256 level claim and th said that was only available when used with the videosignal inputs.  this was not mentioned in the sales literatu.  however thd say the p78u n do 6 bit/pixel (64 level) images in parallel mode, butth dnt have any information about how to program it to do so, and thwould ll japan, etc.frankly, i find it hard to believe that if this thing n do 8 bit/pixel imagesfrom the video source, it nt sto 8 bits/pixel in the memory.  its notlike memory is that expensive any mo.  if anybody has any information ongetting 6 bit/pixel (or even 8 bit/pixel) images out of this thing, i wouldgatly appciate your senng it to me.thanks.allan webersignal & image processing institute of southern liforniaweber@sipi.usc.\n",
      ": : menangitis questionarticle-i.d.: pitt.19427r-to: km@cs.pitt. (ken mitch): univ. of pittsburgh computer sciencelines: 42in article <c4nzn6.mzx@crdnns.crd.ge> brooksby@brigham.nosubdomain.nodomain (glen w brooksby) writes:>this past weekend a friend of mine lost his 13 month old>daughter in a matter of hours to a form of menangitis.  the>person informing me lled it niceal meningicocis (sp?).>in trospect, the sease struck her probably sometime on >friday evening and she passed away about 2:30pm on saturday.>the symptoms seemed to be a rash that started small and>then began progssing rapidly. she began turning blue>eventually which was the tip-off that this was serious>but by that time it was too late (this is all second hand info.).>>my question is:>is this an unusual form of menangitis?  how is it transmitted?>how does it work (ie. how does it kill so quickly)?the a many organisms, viral, bacterial, and fungal, which nuse meningitits, and the course of these infections varieswidely. the uses of bacterial meningitis vary with age: in adultspneococcus (the same organism which uses pneococl pneonia)is the most common use, while in childn hemophilus influenzas the most common use.what you a describing is meningitis from nsseria meningitis,which is the second most common use of bacterial meningitis inboth groups, but with lower incidence in infants. this organismis also lled the \"meningococcus\", and is the source of thecommon epidemics of meningitis that occur and a popularized inthe pss. without prompt taent (and even with it in some ses),the organism typilly uses death within a day. this organism, fead as it is, is actually grown from the throatsof many normal adults. it n get to the meninges by ffentways, but blood borne spad is probably the usual se. rifampin (an oral antibiotic) is often given to family and contactsof a se of meningococl meningitis, by the way.sorry, but i dont have time for a mo detailed r. meningitisis a huge topic, and sci.med nt do it justice.-km\n",
      "subject: mit r5 on sun with rasterops tc colorboardfrom: mark@comp.vuw.ac.nz (mark davies)stribution: world: dept. of comp. sci., victoria uni. of wellington, new zealand.nntp-posting-host: batsp.vuw.ac.nzlines: 9is it possible to run an mit r5 based xserver on a sun with a rasterops tccolorboard (24bit board)?  i have the xsun24 patches for supporting suns24bit frame buffers but does the rasterops appear as if its a cgtwelve orsomething else?  i know nothing about the rasterops other than we might bebuying one to put in an ipx.cheersmark\n"
     ]
    }
   ],
   "source": [
    "for a in results.keys():\n",
    "    for b in results[a].keys():\n",
    "        print(results[a][b])\n",
    "    "
   ]
  },
  {
   "cell_type": "code",
   "execution_count": null,
   "metadata": {},
   "outputs": [],
   "source": [
    "def get_texts (topic_list, all_texts):\n",
    "    results = {}\n",
    "    for a in topic_list[\"clusters\"].keys():\n",
    "        sub_results = {}\n",
    "        for b in topic_list[\"clusters\"][a]:\n",
    "            sub_results[str(b)] = all_texts[\"text\"][str(b)]\n",
    "        results[a]= sub_results\n",
    "    return results"
   ]
  },
  {
   "cell_type": "code",
   "execution_count": null,
   "metadata": {},
   "outputs": [],
   "source": []
  },
  {
   "cell_type": "code",
   "execution_count": null,
   "metadata": {},
   "outputs": [],
   "source": []
  },
  {
   "cell_type": "code",
   "execution_count": null,
   "metadata": {},
   "outputs": [],
   "source": []
  },
  {
   "cell_type": "code",
   "execution_count": 14,
   "metadata": {},
   "outputs": [
    {
     "name": "stdout",
     "output_type": "stream",
     "text": [
      "{'code': 200, 'msg': 'User created', 'user_id': 29}\n"
     ]
    }
   ],
   "source": [
    "user = requests.post(create_user, {\n",
    "    \"user_session\": \"daniel\"\n",
    "    })\n",
    "print(user.json())"
   ]
  },
  {
   "cell_type": "code",
   "execution_count": 21,
   "metadata": {},
   "outputs": [
    {
     "name": "stdout",
     "output_type": "stream",
     "text": [
      "<Response [404]>\n"
     ]
    }
   ],
   "source": [
    "topic_list = requests.get(get_topic_list)\n",
    "print(topic_list)"
   ]
  },
  {
   "cell_type": "code",
   "execution_count": 70,
   "metadata": {},
   "outputs": [
    {
     "data": {
      "text/plain": [
       "{'label': 'random', 'document_id': '0', 'response_time': '0', 'user_id': 3}"
      ]
     },
     "execution_count": 70,
     "metadata": {},
     "output_type": "execute_result"
    }
   ],
   "source": [
    "\n",
    "{  \n",
    "   \"label\": \"random\",\n",
    "   \"document_id\": \"0\",\n",
    "   \"response_time\": \"0\",\n",
    "   \"user_id\": 3\n",
    "}\n"
   ]
  },
  {
   "cell_type": "code",
   "execution_count": 75,
   "metadata": {},
   "outputs": [],
   "source": [
    "data = \"{'code': 200, 'msg': 'SUCCESS', 'prediction': 'Create at least 2 labels to start model suggestion', 'topic': {'0': {'keywords': ['know', 'not', 'public', 'access', 'like', 'article', 'go', 'think', 'ask', 'want', 'say', 'try', 'guy', 'happen', 'look', 'question', 'copy', 'oh', 'come', 'write'], 'spans': [[], [], [], [], [], [], [], [], [], [], [], [], [], [], [], [], [], [], [], [], [], [], [], [], [], [], [], [], [], [], []]}, '1': {'keywords': ['window', 'problem', 'file', 'system', 'line', 'not', 'monitor', 'scen', 'like', 'program', 'help', 'try', 'user', 'drive', 'set', 'floppy', 've', 'ape', 'work', 'apition'], 'spans': [[23, 27], [], [], [], [], [], [], [], [], [], [], [], [], [], [], [], [], [], [], [], [], [], [], [], [], [], [], [], [], [], [], []]}, '10': {'keywords': ['work', 'host', 'posting', 'time', 'know', 'ease', 'computer', 'not', 'find', 'tell', 'problem', 'state', 'buy', 'support', 'get', 'note', 'send', 'anybody', 'try', 'll'], 'spans': [[], [], [], [], [], [], [], [], [], [], [], [], [], [], [], [], [], [], [], [], [], [], [], [], [], [], [], [], [], [], []]}, '11': {'keywords': ['not', 'thing', 'like', 'good', 'problem', 'think', 'power', 'know', 'little', 'say', 'time', 'speed', 'well', 'ally', 'find', 'get', 'life', 'long', 'beuse', 'way'], 'spans': [[11, 16], [23, 27], [], [], [], [], [], [], [], [], [], [], [], [], [], [], [], [], [], [], [], [], [], [], [], [], [], [], [], [], [], [], []]}, '12': {'keywords': ['not', 'think', 'article', 'wrong', 'ad', 'run', 'posting', 'understand', 'will', 'want', 'need', 'statement', 'net', 'host', 'actually', 'say', 'group', 'post', 'new', 'port'], 'spans': [[23, 27], [], [], [], [], [], [], [], [], [], [], [], [], [], [], [], [], [], [], [], [], [], [], [], [], [], [], [], [], [], [], []]}, '13': {'keywords': ['article', 'write', 'host', 'posting', 'run', 'line', 'message', 'search', 'news', 'year', 'home', 'apr', 'new', 'come', 'right', 'think', 'know', 'long', 'coue', 'build'], 'spans': [[], [], [], [], [], [], [], [], [], [], [], [], [], [], [], [], [], [], [], [], [], [], [], [], [], [], [], [], [], [], []]}, '14': {'keywords': ['send', 'etc', 'company', 'board', 'service', 'mail', 'custom', 'information', 'nber', 'work', 'info', 'electronic', 'version', 'type', 'line', 'sale', 'name', 'show', 'not', 'letter'], 'spans': [[], [], [], [], [], [], [], [], [], [], [], [], [], [], [], [], [], [], [], [], [], [], [], [], [], [], [], [], [], [], []]}, '15': {'keywords': ['article', 'know', 'not', 'think', 'food', 'write', 'believe', 'mean', 'eat', 'good', 'follow', 'lot', 'posting', 'want', 'time', 'opinion', 'fe', 'consider', 'day', 'host'], 'spans': [[11, 16], [23, 27], [], [], [], [], [], [], [], [], [], [], [], [], [], [], [], [], [], [], [], [], [], [], [], [], [], [], [], [], [], [], []]}, '16': {'keywords': ['article', 'question', 'arab', 'state', 'year', 'not', 'israeli', 'bank', 'answer', 'member', 'blood', 'allow', 'rule', 'search', 'fact', 'mind', 'aa', 'say', 'try', 'live'], 'spans': [[11, 16], [23, 27], [], [], [], [], [], [], [], [], [], [], [], [], [], [], [], [], [], [], [], [], [], [], [], [], [], [], [], [], [], [], []]}, '17': {'keywords': ['right', 'gun', 'like', 'article', 'not', 'try', 'drug', 'law', 'black', 'think', 'government', 'health', 'crime', 'world', 'ad', 'look', 'face', 'life', 'fiarm', 'state'], 'spans': [[11, 16], [23, 27], [], [], [], [], [], [], [], [], [], [], [], [], [], [], [], [], [], [], [], [], [], [], [], [], [], [], [], [], [], [], []]}, '18': {'keywords': ['do', 'need', 'run', 'system', 'mail', 'driver', 'pc', 'window', 'find', 'softwa', 'unix', 'host', 'know', 'posting', 'version', 'computer', 'time', 'level', 'world', 'include'], 'spans': [[], [], [], [], [], [], [], [], [], [], [], [], [], [], [], [], [], [], [], [], [], [], [], [], [], [], [], [], [], [], []]}, '19': {'keywords': ['image', 'look', 'program', 'good', 'need', 'printer', 'font', 'help', 'graphic', 'driver', 'print', 'information', 'sult', 'want', 'know', 'line', 'host', 'problem', 'point', 'posting'], 'spans': [[], [], [], [], [], [], [], [], [], [], [], [], [], [], [], [], [], [], [], [], [], [], [], [], [], [], [], [], [], [], []]}, '2': {'keywords': ['ground', 'encryption', 'system', 'clipper', 'government', 'chip', 'vote', 'curnt', 'new', 'technology', 'neutral', 'need', 'phone', 'course', 'proposal', 'device', 'privacy', 'available', 'datum', 'access'], 'spans': [[11, 16], [], [], [], [], [], [], [], [], [], [], [], [], [], [], [], [], [], [], [], [], [], [], [], [], [], [], [], [], [], [], []]}, '3': {'keywords': ['not', 'game', 'team', 'win', 'dealer', 'sound', 'think', 'saturn', 'beuse', 'ye', 'point', 'true', 'come', 'father', 'well', 'save', 'hock', 'way', 'price', 'believe'], 'spans': [[23, 27], [], [], [], [], [], [], [], [], [], [], [], [], [], [], [], [], [], [], [], [], [], [], [], [], [], [], [], [], [], [], []]}, '4': {'keywords': ['host', 'posting', 'write', 'article', 'state', 'line', 'good', 'work', 'year', 'new', 'know', 'version', 'time', 'like', 'not', 'ease', 'world', 'turn', 'cent', 'newsader'], 'spans': [[], [], [], [], [], [], [], [], [], [], [], [], [], [], [], [], [], [], [], [], [], [], [], [], [], [], [], [], [], [], []]}, '5': {'keywords': ['bike', 'new', 'sell', 'buy', 'mile', 'not', 'look', 'price', 'small', 'hard', 'sale', 'build', 'like', 'little', 'article', 'go', 'system', 'tis', 'road', 'opinion'], 'spans': [[23, 27], [], [], [], [], [], [], [], [], [], [], [], [], [], [], [], [], [], [], [], [], [], [], [], [], [], [], [], [], [], [], []]}, '6': {'keywords': ['armenian', 'not', 'know', 'say', 'go', 'tell', 'beuse', 'see', 'kill', 'thing', 'soler', 'turk', 'way', 'ask', 'like', 'turn', 'live', 'want', 'time', 'happen'], 'spans': [[11, 16], [], [], [], [], [], [], [], [], [], [], [], [], [], [], [], [], [], [], [], [], [], [], [], [], [], [], [], [], [], [], []]}, '7': {'keywords': ['not', 'believe', 'christian', 'beuse', 'claim', 'church', 'think', 'man', 'athst', 'argent', 'take', 'faith', 'sin', 'true', 'point', 'morality', 'world', 'say', 'life', 'act'], 'spans': [[11, 16], [], [], [], [], [], [], [], [], [], [], [], [], [], [], [], [], [], [], [], [], [], [], [], [], [], [], [], [], [], [], []]}, '8': {'keywords': ['drive', 'bit', 'claim', 'effect', 'speed', 'mode', 'evidence', 'period', 'video', 'not', 'question', 'ease', 'device', 'power', 'answer', 'way', 'fast', 'nnot', 'article', 'thing'], 'spans': [[11, 16], [], [], [], [], [], [], [], [], [], [], [], [], [], [], [], [], [], [], [], [], [], [], [], [], [], [], [], [], [], [], []]}, '9': {'keywords': ['not', 'year', 'good', 'like', 'think', 'time', 'bad', 'article', 'look', 'list', 'old', 'go', 'write', 'job', 've', 'mean', 'school', 'beuse', 'know', 'get'], 'spans': [[11, 16], [], [], [], [], [], [], [], [], [], [], [], [], [], [], [], [], [], [], [], [], [], [], [], [], [], [], [], [], [], [], []]}}, 'topic_order': [['8', '0.8812421'], ['3', '0.012108982'], ['17', '0.0069945026'], ['19', '0.006490359'], ['4', '0.0064282627'], ['5', '0.00637943'], ['14', '0.006316759'], ['11', '0.006239021'], ['13', '0.0061144046'], ['18', '0.005911915'], ['2', '0.0058633382'], ['9', '0.0056569222'], ['10', '0.0055949753'], ['16', '0.0055889757'], ['0', '0.005569332'], ['1', '0.0055600205'], ['15', '0.005520871'], ['6', '0.005518739'], ['7', '0.0055028778'], ['12', '0.0053981976']]}\""
   ]
  },
  {
   "cell_type": "code",
   "execution_count": 88,
   "metadata": {},
   "outputs": [
    {
     "ename": "JSONDecodeError",
     "evalue": "Expecting property name enclosed in double quotes: line 1 column 2 (char 1)",
     "output_type": "error",
     "traceback": [
      "\u001b[1;31m---------------------------------------------------------------------------\u001b[0m",
      "\u001b[1;31mJSONDecodeError\u001b[0m                           Traceback (most recent call last)",
      "\u001b[1;32m~\\AppData\\Local\\Temp\\ipykernel_27952\\1454946561.py\u001b[0m in \u001b[0;36m<module>\u001b[1;34m\u001b[0m\n\u001b[1;32m----> 1\u001b[1;33m \u001b[0mjson\u001b[0m\u001b[1;33m.\u001b[0m\u001b[0mloads\u001b[0m\u001b[1;33m(\u001b[0m\u001b[0mdata\u001b[0m\u001b[1;33m)\u001b[0m\u001b[1;33m\u001b[0m\u001b[1;33m\u001b[0m\u001b[0m\n\u001b[0m",
      "\u001b[1;32m~\\AppData\\Local\\Programs\\Python\\Python37\\lib\\json\\__init__.py\u001b[0m in \u001b[0;36mloads\u001b[1;34m(s, encoding, cls, object_hook, parse_float, parse_int, parse_constant, object_pairs_hook, **kw)\u001b[0m\n\u001b[0;32m    346\u001b[0m             \u001b[0mparse_int\u001b[0m \u001b[1;32mis\u001b[0m \u001b[1;32mNone\u001b[0m \u001b[1;32mand\u001b[0m \u001b[0mparse_float\u001b[0m \u001b[1;32mis\u001b[0m \u001b[1;32mNone\u001b[0m \u001b[1;32mand\u001b[0m\u001b[1;33m\u001b[0m\u001b[1;33m\u001b[0m\u001b[0m\n\u001b[0;32m    347\u001b[0m             parse_constant is None and object_pairs_hook is None and not kw):\n\u001b[1;32m--> 348\u001b[1;33m         \u001b[1;32mreturn\u001b[0m \u001b[0m_default_decoder\u001b[0m\u001b[1;33m.\u001b[0m\u001b[0mdecode\u001b[0m\u001b[1;33m(\u001b[0m\u001b[0ms\u001b[0m\u001b[1;33m)\u001b[0m\u001b[1;33m\u001b[0m\u001b[1;33m\u001b[0m\u001b[0m\n\u001b[0m\u001b[0;32m    349\u001b[0m     \u001b[1;32mif\u001b[0m \u001b[0mcls\u001b[0m \u001b[1;32mis\u001b[0m \u001b[1;32mNone\u001b[0m\u001b[1;33m:\u001b[0m\u001b[1;33m\u001b[0m\u001b[1;33m\u001b[0m\u001b[0m\n\u001b[0;32m    350\u001b[0m         \u001b[0mcls\u001b[0m \u001b[1;33m=\u001b[0m \u001b[0mJSONDecoder\u001b[0m\u001b[1;33m\u001b[0m\u001b[1;33m\u001b[0m\u001b[0m\n",
      "\u001b[1;32m~\\AppData\\Local\\Programs\\Python\\Python37\\lib\\json\\decoder.py\u001b[0m in \u001b[0;36mdecode\u001b[1;34m(self, s, _w)\u001b[0m\n\u001b[0;32m    335\u001b[0m \u001b[1;33m\u001b[0m\u001b[0m\n\u001b[0;32m    336\u001b[0m         \"\"\"\n\u001b[1;32m--> 337\u001b[1;33m         \u001b[0mobj\u001b[0m\u001b[1;33m,\u001b[0m \u001b[0mend\u001b[0m \u001b[1;33m=\u001b[0m \u001b[0mself\u001b[0m\u001b[1;33m.\u001b[0m\u001b[0mraw_decode\u001b[0m\u001b[1;33m(\u001b[0m\u001b[0ms\u001b[0m\u001b[1;33m,\u001b[0m \u001b[0midx\u001b[0m\u001b[1;33m=\u001b[0m\u001b[0m_w\u001b[0m\u001b[1;33m(\u001b[0m\u001b[0ms\u001b[0m\u001b[1;33m,\u001b[0m \u001b[1;36m0\u001b[0m\u001b[1;33m)\u001b[0m\u001b[1;33m.\u001b[0m\u001b[0mend\u001b[0m\u001b[1;33m(\u001b[0m\u001b[1;33m)\u001b[0m\u001b[1;33m)\u001b[0m\u001b[1;33m\u001b[0m\u001b[1;33m\u001b[0m\u001b[0m\n\u001b[0m\u001b[0;32m    338\u001b[0m         \u001b[0mend\u001b[0m \u001b[1;33m=\u001b[0m \u001b[0m_w\u001b[0m\u001b[1;33m(\u001b[0m\u001b[0ms\u001b[0m\u001b[1;33m,\u001b[0m \u001b[0mend\u001b[0m\u001b[1;33m)\u001b[0m\u001b[1;33m.\u001b[0m\u001b[0mend\u001b[0m\u001b[1;33m(\u001b[0m\u001b[1;33m)\u001b[0m\u001b[1;33m\u001b[0m\u001b[1;33m\u001b[0m\u001b[0m\n\u001b[0;32m    339\u001b[0m         \u001b[1;32mif\u001b[0m \u001b[0mend\u001b[0m \u001b[1;33m!=\u001b[0m \u001b[0mlen\u001b[0m\u001b[1;33m(\u001b[0m\u001b[0ms\u001b[0m\u001b[1;33m)\u001b[0m\u001b[1;33m:\u001b[0m\u001b[1;33m\u001b[0m\u001b[1;33m\u001b[0m\u001b[0m\n",
      "\u001b[1;32m~\\AppData\\Local\\Programs\\Python\\Python37\\lib\\json\\decoder.py\u001b[0m in \u001b[0;36mraw_decode\u001b[1;34m(self, s, idx)\u001b[0m\n\u001b[0;32m    351\u001b[0m         \"\"\"\n\u001b[0;32m    352\u001b[0m         \u001b[1;32mtry\u001b[0m\u001b[1;33m:\u001b[0m\u001b[1;33m\u001b[0m\u001b[1;33m\u001b[0m\u001b[0m\n\u001b[1;32m--> 353\u001b[1;33m             \u001b[0mobj\u001b[0m\u001b[1;33m,\u001b[0m \u001b[0mend\u001b[0m \u001b[1;33m=\u001b[0m \u001b[0mself\u001b[0m\u001b[1;33m.\u001b[0m\u001b[0mscan_once\u001b[0m\u001b[1;33m(\u001b[0m\u001b[0ms\u001b[0m\u001b[1;33m,\u001b[0m \u001b[0midx\u001b[0m\u001b[1;33m)\u001b[0m\u001b[1;33m\u001b[0m\u001b[1;33m\u001b[0m\u001b[0m\n\u001b[0m\u001b[0;32m    354\u001b[0m         \u001b[1;32mexcept\u001b[0m \u001b[0mStopIteration\u001b[0m \u001b[1;32mas\u001b[0m \u001b[0merr\u001b[0m\u001b[1;33m:\u001b[0m\u001b[1;33m\u001b[0m\u001b[1;33m\u001b[0m\u001b[0m\n\u001b[0;32m    355\u001b[0m             \u001b[1;32mraise\u001b[0m \u001b[0mJSONDecodeError\u001b[0m\u001b[1;33m(\u001b[0m\u001b[1;34m\"Expecting value\"\u001b[0m\u001b[1;33m,\u001b[0m \u001b[0ms\u001b[0m\u001b[1;33m,\u001b[0m \u001b[0merr\u001b[0m\u001b[1;33m.\u001b[0m\u001b[0mvalue\u001b[0m\u001b[1;33m)\u001b[0m \u001b[1;32mfrom\u001b[0m \u001b[1;32mNone\u001b[0m\u001b[1;33m\u001b[0m\u001b[1;33m\u001b[0m\u001b[0m\n",
      "\u001b[1;31mJSONDecodeError\u001b[0m: Expecting property name enclosed in double quotes: line 1 column 2 (char 1)"
     ]
    }
   ],
   "source": [
    "json.loads(data)"
   ]
  },
  {
   "cell_type": "code",
   "execution_count": 94,
   "metadata": {},
   "outputs": [
    {
     "data": {
      "text/plain": [
       "dict_keys(['code', 'msg', 'prediction', 'topic', 'topic_order'])"
      ]
     },
     "execution_count": 94,
     "metadata": {},
     "output_type": "execute_result"
    }
   ],
   "source": [
    "import ast\n",
    "ast.literal_eval(data).keys()"
   ]
  },
  {
   "cell_type": "code",
   "execution_count": 99,
   "metadata": {},
   "outputs": [],
   "source": [
    "get_topic_list = \"http://54.87.190.90//get_topic_list\"\n",
    "        # print(session)\n",
    "topics = requests.post(get_topic_list, json={\n",
    "                            \"user_id\": 15}).json()\n"
   ]
  },
  {
   "cell_type": "code",
   "execution_count": 100,
   "metadata": {},
   "outputs": [
    {
     "data": {
      "text/plain": [
       "{'code': 404, 'msg': 'User not found'}"
      ]
     },
     "execution_count": 100,
     "metadata": {},
     "output_type": "execute_result"
    }
   ],
   "source": [
    "topics"
   ]
  },
  {
   "cell_type": "code",
   "execution_count": null,
   "metadata": {},
   "outputs": [],
   "source": []
  }
 ],
 "metadata": {
  "kernelspec": {
   "display_name": "Python 3.7.9 ('environ': venv)",
   "language": "python",
   "name": "python3"
  },
  "language_info": {
   "codemirror_mode": {
    "name": "ipython",
    "version": 3
   },
   "file_extension": ".py",
   "mimetype": "text/x-python",
   "name": "python",
   "nbconvert_exporter": "python",
   "pygments_lexer": "ipython3",
   "version": "3.7.9"
  },
  "orig_nbformat": 4,
  "vscode": {
   "interpreter": {
    "hash": "2a1b41576af04dec4f9fef287f59473b141ad3a74461dd90681c3e2b0c36dad3"
   }
  }
 },
 "nbformat": 4,
 "nbformat_minor": 2
}
