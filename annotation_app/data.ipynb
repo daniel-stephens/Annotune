{
 "cells": [
  {
   "cell_type": "code",
   "execution_count": 179,
   "metadata": {},
   "outputs": [],
   "source": [
    "from Levenshtein import distance"
   ]
  },
  {
   "cell_type": "code",
   "execution_count": 28,
   "metadata": {},
   "outputs": [
    {
     "data": {
      "text/plain": [
       "40"
      ]
     },
     "execution_count": 28,
     "metadata": {},
     "output_type": "execute_result"
    }
   ],
   "source": [
    "distance(\"\"\"\n",
    "    Retrieve labeled documents based on a list of document labels.\n",
    "\n",
    "    Parameters:\n",
    "    - labels (str): A comma-separated string of document labels.\n",
    "    - all_texts (dict): A dictionary containing text data where keys are document labels and values are corresponding documents.\n",
    "\n",
    "    Returns:\n",
    "    - results (dict): A dictionary containing documents for the specified labels.\n",
    "\n",
    "    This function takes a comma-separated string of 'labels' (document labels), splits it into individual labels, and retrieves\n",
    "    documents from the 'all_texts' dictionary based on these labels.\n",
    "\n",
    "    The function returns a dictionary 'results' where each key is a document label, and the corresponding value is the document text.\n",
    "    If a label is not found in 'all_texts', it is skipped.\n",
    "    \"\"\", \"\"\"\n",
    "    Retrieve labeled documents based on a list of document labels.\n",
    "\n",
    "    Parameters:\n",
    "    - labels (str): A comma-separated string of document labels.\n",
    "    - all_texts (dict): A dictionary containing text data where keys are document labels and values are corresponding documents.\n",
    "\n",
    "    Returns:\n",
    "    - results (dict): A dictionary containing documents for the specified labels.\n",
    "\n",
    "    This function takes a comma-separated string of  'labels' fdrom a particular user (document labels), splits it into individual labels, and retrieves\n",
    "    documents from the 'all_texts' dictionary based on these labels.\n",
    "\n",
    "    The function returns a dictionary where each key is a document label, and the corresponding value is the document text.\n",
    "    If a label is not found in 'all_texts', it is skipped.\"\"\")"
   ]
  },
  {
   "cell_type": "code",
   "execution_count": 29,
   "metadata": {},
   "outputs": [
    {
     "data": {
      "text/plain": [
       "781"
      ]
     },
     "execution_count": 29,
     "metadata": {},
     "output_type": "execute_result"
    }
   ],
   "source": [
    "len(\"\"\"\n",
    "    Retrieve labeled documents based on a list of document labels.\n",
    "\n",
    "    Parameters:\n",
    "    - labels (str): A comma-separated string of document labels.\n",
    "    - all_texts (dict): A dictionary containing text data where keys are document labels and values are corresponding documents.\n",
    "\n",
    "    Returns:\n",
    "    - results (dict): A dictionary containing documents for the specified labels.\n",
    "\n",
    "    This function takes a comma-separated string of  'labels' fdrom a particular user (document labels), splits it into individual labels, and retrieves\n",
    "    documents from the 'all_texts' dictionary based on these labels.\n",
    "\n",
    "    The function returns a dictionary where each key is a document label, and the corresponding value is the document text.\n",
    "    If a label is not found in 'all_texts', it is skipped.\"\"\")"
   ]
  },
  {
   "cell_type": "code",
   "execution_count": 30,
   "metadata": {},
   "outputs": [
    {
     "ename": "TypeError",
     "evalue": "distance() missing 1 required positional argument: 's2'",
     "output_type": "error",
     "traceback": [
      "\u001b[0;31m---------------------------------------------------------------------------\u001b[0m",
      "\u001b[0;31mTypeError\u001b[0m                                 Traceback (most recent call last)",
      "Cell \u001b[0;32mIn[30], line 1\u001b[0m\n\u001b[0;32m----> 1\u001b[0m distance(\u001b[39m\"\"\"\u001b[39;49m\n\u001b[1;32m      2\u001b[0m \u001b[39m    Retrieve documents from a collection of texts based on specified topic indices.\u001b[39;49m\n\u001b[1;32m      3\u001b[0m \n\u001b[1;32m      4\u001b[0m \u001b[39m    Parameters:\u001b[39;49m\n\u001b[1;32m      5\u001b[0m \u001b[39m    - topics (list or set): A list or set of topic indices to retrieve documents for.\u001b[39;49m\n\u001b[1;32m      6\u001b[0m \u001b[39m    - all_texts (dict): A dictionary containing text data where keys are topic indices and values are corresponding documents.\u001b[39;49m\n\u001b[1;32m      7\u001b[0m \u001b[39m    - existing_documents (set): A list of topic indices representing documents that should be excluded from the results.\u001b[39;49m\n\u001b[1;32m      8\u001b[0m \n\u001b[1;32m      9\u001b[0m \u001b[39m    Returns:\u001b[39;49m\n\u001b[1;32m     10\u001b[0m \u001b[39m    - results (dict): A dictionary containing documents for the specified topics that are not in the existing documents set.\u001b[39;49m\n\u001b[1;32m     11\u001b[0m \u001b[39m    \u001b[39;49m\n\u001b[1;32m     12\u001b[0m \u001b[39m    This function takes a list  of \u001b[39;49m\u001b[39m'\u001b[39;49m\u001b[39mtopics\u001b[39;49m\u001b[39m'\u001b[39;49m\u001b[39m (topic indices), a \u001b[39;49m\u001b[39m'\u001b[39;49m\u001b[39mall_texts\u001b[39;49m\u001b[39m'\u001b[39;49m\u001b[39m dictionary containing text data, and a \u001b[39;49m\u001b[39m'\u001b[39;49m\u001b[39mexisting_documents\u001b[39;49m\u001b[39m'\u001b[39;49m\u001b[39m set.\u001b[39;49m\n\u001b[1;32m     13\u001b[0m \u001b[39m    It iterates through the specified \u001b[39;49m\u001b[39m'\u001b[39;49m\u001b[39mtopics\u001b[39;49m\u001b[39m'\u001b[39;49m\u001b[39m and retrieves documents from the \u001b[39;49m\u001b[39m'\u001b[39;49m\u001b[39mall_texts\u001b[39;49m\u001b[39m'\u001b[39;49m\u001b[39m dictionary for topics that are not already in the \u001b[39;49m\u001b[39m'\u001b[39;49m\u001b[39mdocs\u001b[39;49m\u001b[39m'\u001b[39;49m\u001b[39m set.\u001b[39;49m\n\u001b[1;32m     14\u001b[0m \n\u001b[1;32m     15\u001b[0m \u001b[39m    The function returns a dictionary where each key is a topic index, and the corresponding value is the document text.\u001b[39;49m\n\u001b[1;32m     16\u001b[0m \u001b[39m    \u001b[39;49m\u001b[39m\"\"\"\u001b[39;49m )\n",
      "\u001b[0;31mTypeError\u001b[0m: distance() missing 1 required positional argument: 's2'"
     ]
    }
   ],
   "source": [
    "distance(\"\"\"\n",
    "    Retrieve documents from a collection of texts based on specified topic indices.\n",
    "\n",
    "    Parameters:\n",
    "    - topics (list or set): A list or set of topic indices to retrieve documents for.\n",
    "    - all_texts (dict): A dictionary containing text data where keys are topic indices and values are corresponding documents.\n",
    "    - existing_documents (set): A list of topic indices representing documents that should be excluded from the results.\n",
    "\n",
    "    Returns:\n",
    "    - results (dict): A dictionary containing documents for the specified topics that are not in the existing documents set.\n",
    "    \n",
    "    This function takes a list  of 'topics' (topic indices), a 'all_texts' dictionary containing text data, and a 'existing_documents' set.\n",
    "    It iterates through the specified 'topics' and retrieves documents from the 'all_texts' dictionary for topics that are not already in the 'docs' set.\n",
    "\n",
    "    The function returns a dictionary where each key is a topic index, and the corresponding value is the document text.\n",
    "    \"\"\" )"
   ]
  },
  {
   "cell_type": "code",
   "execution_count": 31,
   "metadata": {},
   "outputs": [
    {
     "data": {
      "text/plain": [
       "684"
      ]
     },
     "execution_count": 31,
     "metadata": {},
     "output_type": "execute_result"
    }
   ],
   "source": [
    "distance(\"\"\"\n",
    "    Retrieve recommended topic and associated documents from a topic-clustered dataset.\n",
    "\n",
    "    Parameters:\n",
    "    - recommended (str): The recommended topic to retrieve.\n",
    "    - topics (dict): A dictionary containing clustered topics and associated document lists.\n",
    "    - all_texts (dict): A dictionary containing text data where keys are document IDs and values are corresponding documents.\n",
    "\n",
    "    Returns:\n",
    "    - recommended_topic (str): The recommended topic.\n",
    "    - results (dict): A dictionary containing text data for documents associated with the recommended topic.\n",
    "\n",
    "    This function takes a 'recommended' topic, a 'topics' dictionary that includes clustered topics and associated document lists,\n",
    "    and a 'all_texts' dictionary containing document text data. It retrieves text data for documents associated with the specified\n",
    "    recommended topic.\n",
    "\n",
    "    The function returns 'recommended_topic,' the name of the recommended topic, and 'results,' a dictionary where each key represents\n",
    "    a the document IDs of documents within the recommended topic, and the associated value is a sub-dictionary containing document IDs and their corresponding texts.\n",
    "    \"\"\", \"\"\"\n",
    "    Retrieve documents from a collection of texts based on specified topic indices.\n",
    "\n",
    "    Parameters:\n",
    "    - topics (list or set): A list or set of topic indices to retrieve documents for.\n",
    "    - all_texts (dict): A dictionary containing text data where keys are topic indices and values are corresponding documents.\n",
    "    - existing_documents (set): A list of topic indices representing documents that should be excluded from the results.\n",
    "\n",
    "    Returns:\n",
    "    - results (dict): A dictionary containing documents for the specified topics that are not in the existing documents set.\n",
    "    \n",
    "    This function takes a list  of 'topics' (topic indices), an 'all_texts' dictionary containing text data, and a 'existing_documents' set.\n",
    "    It iterates through the specified 'topics' and retrieves documents from the 'all_texts' dictionary for topics that are not already in the 'docs' set.\n",
    "\n",
    "    The function returns a dictionary where each key is a topic index, and the corresponding value is the document text.\n",
    "    \"\"\" )"
   ]
  },
  {
   "cell_type": "code",
   "execution_count": 32,
   "metadata": {},
   "outputs": [
    {
     "data": {
      "text/plain": [
       "1001"
      ]
     },
     "execution_count": 32,
     "metadata": {},
     "output_type": "execute_result"
    }
   ],
   "source": [
    "len(\"\"\"\n",
    "    Retrieve documents from a collection of texts based on specified topic indices.\n",
    "\n",
    "    Parameters:\n",
    "    - topics (list or set): A list or set of topic indices to retrieve documents for.\n",
    "    - all_texts (dict): A dictionary containing text data where keys are topic indices and values are corresponding documents.\n",
    "    - existing_documents (set): A list of topic indices representing documents that should be excluded from the results.\n",
    "\n",
    "    Returns:\n",
    "    - results (dict): A dictionary containing documents for the specified topics that are not in the existing documents set.\n",
    "    \n",
    "    This function takes a list  of 'topics' (topic indices), an 'all_texts' dictionary containing text data, and a 'existing_documents' set.\n",
    "    It iterates through the specified 'topics' and retrieves documents from the 'all_texts' dictionary for topics that are not already in the 'docs' set.\n",
    "\n",
    "    The function returns a dictionary where each key is a topic index, and the corresponding value is the document text.\n",
    "    \"\"\" )"
   ]
  },
  {
   "cell_type": "code",
   "execution_count": 33,
   "metadata": {},
   "outputs": [
    {
     "data": {
      "text/plain": [
       "118"
      ]
     },
     "execution_count": 33,
     "metadata": {},
     "output_type": "execute_result"
    }
   ],
   "source": [
    "distance(\"\"\"\n",
    "    Recursively change permissions (mode) for files and directories under the specified path.\n",
    "\n",
    "    Parameters:\n",
    "    - path (str): The root directory path from which to start recursively changing permissions.\n",
    "    - mode (int): The permission mode to apply (e.g., 0o755 for read, write, and execute for owner, and read and execute for others).\n",
    "\n",
    "    This function traverses the directory structure starting from the 'path' provided and applies the specified 'mode' to both\n",
    "    directories and files found within that directory and its subdirectories.\n",
    "    \"\"\",\n",
    "    \"\"\"\n",
    "    Recursively change permissions (mode) for files and directories under the specified path.\n",
    "\n",
    "    Parameters:\n",
    "    - path (str): The root directory path from which to start recursively changing permissions.\n",
    "    - mode (int): The permission mode to apply (e.g., 0o755 for read, write, and execute for owner, and read and execute for others).\n",
    "\n",
    "    This function traverses the directory structure starting from the 'path' provided and applies the specified 'mode' to both\n",
    "    directories and files found within that directory and its subdirectories.\n",
    "\n",
    "    Note: Be cautious when changing permissions recursively, as it can have a significant impact on system security.\n",
    "    \"\"\"\n",
    "\n",
    ")"
   ]
  },
  {
   "cell_type": "code",
   "execution_count": 180,
   "metadata": {},
   "outputs": [
    {
     "data": {
      "text/plain": [
       "63"
      ]
     },
     "execution_count": 180,
     "metadata": {},
     "output_type": "execute_result"
    }
   ],
   "source": [
    "distance(references_[0], predicted[0])"
   ]
  },
  {
   "cell_type": "code",
   "execution_count": 183,
   "metadata": {},
   "outputs": [
    {
     "name": "stdout",
     "output_type": "stream",
     "text": [
      "\n",
      "    Read JSON data from a file. The data respresents all the documents used to train the model\n",
      "\n",
      "    Args:\n",
      "        path (str): The path to the JSON file.\n",
      "\n",
      "    Returns:\n",
      "        pandas.DataFrame: A DataFrame containing the JSON data.\n",
      "    \n"
     ]
    }
   ],
   "source": [
    "print(references_[0])"
   ]
  },
  {
   "cell_type": "code",
   "execution_count": 188,
   "metadata": {},
   "outputs": [
    {
     "name": "stdout",
     "output_type": "stream",
     "text": [
      "\n",
      "    Save the timestamp when a user accesses a specific page to a CSV file.\n",
      "\n",
      "    Parameters:\n",
      "    - name (str): The name or identifier of the user.\n",
      "    - page (str): The name or identifier of the page the user accessed.\n",
      "\n",
      "    This function appends a new row to a CSV file located in the './static/responses/<name>/time.csv' directory.\n",
      "    The row contains two columns: 'page' (the accessed page) and 'timestamp' (the current date and time).\n",
      "\n",
      "    It is used to record when a user accesses different pages and stores the timestamp for future reference.\n",
      "    \n"
     ]
    }
   ],
   "source": [
    "print(predicted[13])"
   ]
  },
  {
   "cell_type": "code",
   "execution_count": 187,
   "metadata": {},
   "outputs": [
    {
     "data": {
      "text/plain": [
       "553"
      ]
     },
     "execution_count": 187,
     "metadata": {},
     "output_type": "execute_result"
    }
   ],
   "source": [
    "len(references_[13])"
   ]
  },
  {
   "cell_type": "code",
   "execution_count": 189,
   "metadata": {},
   "outputs": [
    {
     "data": {
      "text/plain": [
       "553"
      ]
     },
     "execution_count": 189,
     "metadata": {},
     "output_type": "execute_result"
    }
   ],
   "source": [
    "len(predicted[13])"
   ]
  },
  {
   "cell_type": "markdown",
   "metadata": {},
   "source": [
    "### Rouge Metric"
   ]
  },
  {
   "cell_type": "code",
   "execution_count": 34,
   "metadata": {},
   "outputs": [],
   "source": [
    "from rouge_metric import PerlRouge"
   ]
  },
  {
   "cell_type": "code",
   "execution_count": 35,
   "metadata": {},
   "outputs": [
    {
     "name": "stdout",
     "output_type": "stream",
     "text": [
      "\u001b[0;31mInit signature:\u001b[0m\n",
      "\u001b[0mPerlRouge\u001b[0m\u001b[0;34m(\u001b[0m\u001b[0;34m\u001b[0m\n",
      "\u001b[0;34m\u001b[0m    \u001b[0mrouge_n_max\u001b[0m\u001b[0;34m=\u001b[0m\u001b[0;36m2\u001b[0m\u001b[0;34m,\u001b[0m\u001b[0;34m\u001b[0m\n",
      "\u001b[0;34m\u001b[0m    \u001b[0mrouge_l\u001b[0m\u001b[0;34m=\u001b[0m\u001b[0;32mTrue\u001b[0m\u001b[0;34m,\u001b[0m\u001b[0;34m\u001b[0m\n",
      "\u001b[0;34m\u001b[0m    \u001b[0mrouge_w\u001b[0m\u001b[0;34m=\u001b[0m\u001b[0;32mFalse\u001b[0m\u001b[0;34m,\u001b[0m\u001b[0;34m\u001b[0m\n",
      "\u001b[0;34m\u001b[0m    \u001b[0mrouge_w_weight\u001b[0m\u001b[0;34m=\u001b[0m\u001b[0;36m1.2\u001b[0m\u001b[0;34m,\u001b[0m\u001b[0;34m\u001b[0m\n",
      "\u001b[0;34m\u001b[0m    \u001b[0mrouge_s\u001b[0m\u001b[0;34m=\u001b[0m\u001b[0;32mFalse\u001b[0m\u001b[0;34m,\u001b[0m\u001b[0;34m\u001b[0m\n",
      "\u001b[0;34m\u001b[0m    \u001b[0mrouge_su\u001b[0m\u001b[0;34m=\u001b[0m\u001b[0;32mFalse\u001b[0m\u001b[0;34m,\u001b[0m\u001b[0;34m\u001b[0m\n",
      "\u001b[0;34m\u001b[0m    \u001b[0mskip_gap\u001b[0m\u001b[0;34m=\u001b[0m\u001b[0;32mNone\u001b[0m\u001b[0;34m,\u001b[0m\u001b[0;34m\u001b[0m\n",
      "\u001b[0;34m\u001b[0m    \u001b[0mmulti_ref_mode\u001b[0m\u001b[0;34m=\u001b[0m\u001b[0;34m'average'\u001b[0m\u001b[0;34m,\u001b[0m\u001b[0;34m\u001b[0m\n",
      "\u001b[0;34m\u001b[0m    \u001b[0malpha\u001b[0m\u001b[0;34m=\u001b[0m\u001b[0;36m0.5\u001b[0m\u001b[0;34m,\u001b[0m\u001b[0;34m\u001b[0m\n",
      "\u001b[0;34m\u001b[0m    \u001b[0mstemming\u001b[0m\u001b[0;34m=\u001b[0m\u001b[0;32mFalse\u001b[0m\u001b[0;34m,\u001b[0m\u001b[0;34m\u001b[0m\n",
      "\u001b[0;34m\u001b[0m    \u001b[0mremove_stopwords\u001b[0m\u001b[0;34m=\u001b[0m\u001b[0;32mFalse\u001b[0m\u001b[0;34m,\u001b[0m\u001b[0;34m\u001b[0m\n",
      "\u001b[0;34m\u001b[0m    \u001b[0mword_limit\u001b[0m\u001b[0;34m=\u001b[0m\u001b[0;32mNone\u001b[0m\u001b[0;34m,\u001b[0m\u001b[0;34m\u001b[0m\n",
      "\u001b[0;34m\u001b[0m    \u001b[0mbyte_limit\u001b[0m\u001b[0;34m=\u001b[0m\u001b[0;32mNone\u001b[0m\u001b[0;34m,\u001b[0m\u001b[0;34m\u001b[0m\n",
      "\u001b[0;34m\u001b[0m    \u001b[0mconfidence\u001b[0m\u001b[0;34m=\u001b[0m\u001b[0;36m95\u001b[0m\u001b[0;34m,\u001b[0m\u001b[0;34m\u001b[0m\n",
      "\u001b[0;34m\u001b[0m    \u001b[0mresampling\u001b[0m\u001b[0;34m=\u001b[0m\u001b[0;36m1000\u001b[0m\u001b[0;34m,\u001b[0m\u001b[0;34m\u001b[0m\n",
      "\u001b[0;34m\u001b[0m    \u001b[0mtemp_dir\u001b[0m\u001b[0;34m=\u001b[0m\u001b[0;34m'./.rouge_metric/'\u001b[0m\u001b[0;34m,\u001b[0m\u001b[0;34m\u001b[0m\n",
      "\u001b[0;34m\u001b[0m    \u001b[0mclean_up\u001b[0m\u001b[0;34m=\u001b[0m\u001b[0;32mTrue\u001b[0m\u001b[0;34m,\u001b[0m\u001b[0;34m\u001b[0m\n",
      "\u001b[0;34m\u001b[0m\u001b[0;34m)\u001b[0m\u001b[0;34m\u001b[0m\u001b[0;34m\u001b[0m\u001b[0m\n",
      "\u001b[0;31mDocstring:\u001b[0m     \n",
      "A Python wrapper for the ROUGE-1.5.5.pl script.\n",
      "\n",
      ":param rouge_n_max: Compute ROUGE-N from N=1 to ``rouge_n_max``\n",
      ":param rouge_l: If true, compute longest common subsequence (LCS)\n",
      "    co-occurrence (ROUGE-L).\n",
      ":param rouge_w: If true, compute Weighted-LCS (WLCS) co-occurrence\n",
      "    (ROUGE-W).\n",
      ":param rouge_w_weight: The weight w of the weighting function\n",
      "    :math:`f(x) = x^w` to emphasize consecutive matches in ROUGE-W.\n",
      ":param rouge_s: If true, compute skip-bigram co-occurrence (ROUGE-S).\n",
      ":param rouge_su: If true, compute skip-bigram with unigram co-occurrence\n",
      "    (ROUGE-SU).\n",
      ":param skip_gap: The maximum gap between two words in skip-bigram.\n",
      ":param multi_ref_mode: The method to combine the scores between a\n",
      "    hypothesis and its multiple references. Choose from {average, best}.\n",
      ":param alpha: The balance factor between recall and precision. Favors\n",
      "    recall if close to 1, precision if close to 0.\n",
      ":param stemming: If true, stem summaries using Porter stemmer.\n",
      ":param remove_stopwords: Remove stopwords in summaries before evaluation.\n",
      ":param word_limit: Only use the first n words for evaluation.\n",
      ":param byte_limit: Only use the first n bytes for evaluation.\n",
      ":param confidence: The confidence level (%) for the confidence interval.\n",
      ":param resampling: Number of sampling points in bootstrap resampling.\n",
      ":param temp_dir: The directory to hold temporary files.\n",
      ":param clean_up: If true, clean up temporary files after evaluation.\n",
      "\n",
      "Example:\n",
      "::\n",
      "\n",
      "    >>> from rouge_metric import PerlRouge\n",
      "    >>> hypotheses = ['Police killed the gunman']\n",
      "    >>> references = [['The gunman killed the policeman']]\n",
      "    >>> PerlRouge().evaluate(hypotheses, references)\n",
      "    {\n",
      "        'rouge-1': {\n",
      "            'r': 0.6, 'r_conf_int': (0.6, 0.6),\n",
      "            'p': 0.75, 'p_conf_int': (0.75, 0.75),\n",
      "            'f': 0.66667, 'f_conf_int': (0.66667, 0.66667)\n",
      "        },\n",
      "        'rouge-2': {\n",
      "            'r': 0.5, 'r_conf_int': (0.5, 0.5),\n",
      "            'p': 0.66667, 'p_conf_int': (0.66667, 0.66667),\n",
      "            'f': 0.57143, 'f_conf_int': (0.57143, 0.57143)\n",
      "        },\n",
      "        'rouge-l': {\n",
      "            'r': 0.4, 'r_conf_int': (0.4, 0.4),\n",
      "            'p': 0.5, 'p_conf_int': (0.5, 0.5),\n",
      "            'f': 0.44444, 'f_conf_int': (0.44444, 0.44444)\n",
      "        }\n",
      "    }\n",
      "\n",
      ".. warning::\n",
      "\n",
      "    Only for summaries in English. For non-English summaries, use\n",
      "    :class:`rouge_metric.evaluate` instead, or convert the tokens to\n",
      "    integers separated by space before evaluation.\n",
      "\u001b[0;31mFile:\u001b[0m           ~/Desktop/community_resilience/venv/lib/python3.11/site-packages/rouge_metric/perl_rouge.py\n",
      "\u001b[0;31mType:\u001b[0m           type\n",
      "\u001b[0;31mSubclasses:\u001b[0m     "
     ]
    }
   ],
   "source": [
    "PerlRouge?"
   ]
  },
  {
   "cell_type": "code",
   "execution_count": 2,
   "metadata": {},
   "outputs": [],
   "source": [
    "references_ = [\"\"\"\n",
    "    Read JSON data from a file. The data respresents all the documents used to train the model\n",
    "\n",
    "    Args:\n",
    "        path (str): The path to the JSON file.\n",
    "\n",
    "    Returns:\n",
    "        pandas.DataFrame: A DataFrame containing the JSON data.\n",
    "    \"\"\", \"\"\"\n",
    "    Extract words from specified spans in a raw string.\n",
    "\n",
    "    This function takes a dictionary of spans and a raw string as input. It extracts\n",
    "    the words covered by the specified spans in the raw string.\n",
    "\n",
    "    Args:\n",
    "        dat (dict): A dictionary containing spans for different topics.\n",
    "            Each topic is a key in the dictionary, and the value is a dictionary\n",
    "            with 'spans' key containing a list of span tuples (start, end).\n",
    "        raw_string (str): The raw string from which words will be extracted.\n",
    "\n",
    "    Returns:\n",
    "        dict: A dictionary where keys represent topics, and values are\n",
    "            sets of words extracted from the specified spans in the raw string.\n",
    "    \n",
    "    Example:\n",
    "        dat = {\n",
    "            'category1': {'spans': [(0, 5), (10, 15)]},\n",
    "            'category2': {'spans': [(5, 10), (15, 20)]}\n",
    "        }\n",
    "        raw_string = \"This is a sample raw string.\"\n",
    "        result = get_words(dat, raw_string)\n",
    "\n",
    "        The result will be:\n",
    "        {\n",
    "            'category1': {'is', 'This'},\n",
    "            'category2': {'raw', 'sample'}\n",
    "        }\n",
    "    \"\"\", \"\"\"\n",
    "    Highlight specified words in a text with a yellow background.\n",
    "\n",
    "    This function takes a text and a list of words as input and adds HTML tags to\n",
    "    highlight the specified words in the set of word with a yellow background color.\n",
    "\n",
    "    Args:\n",
    "        text (str): The input text in which words will be highlighted.\n",
    "        words (list): A set of words to be highlighted in the text.\n",
    "\n",
    "    Returns:\n",
    "        str: The input text with specified words highlighted using HTML tags.\n",
    "\n",
    "    Example:\n",
    "        text = \"This is a sample text containing some keywords.\"\n",
    "        words = {'sample', 'keywords'}\n",
    "        result = highlight_words(text, words)\n",
    "\n",
    "        The result will be:\n",
    "        \"This is a <span style='background-color:yellow'>sample</span> text containing some <span style='background-color:yellow'>keywords</span>.\"\n",
    "    \"\"\", \"\"\"\n",
    "    Save annotation response to an XML file.\n",
    "\n",
    "    This function creates an XML document to store user responses including user name,\n",
    "    response time, document ID, document label, and user ID. It then saves the XML document\n",
    "    to a specified directory.\n",
    "\n",
    "    Args:\n",
    "        name (str): The user's name or identifier.\n",
    "        label (str): The document label\n",
    "        response_time (float): The time taken to complete the annotation.\n",
    "        document_id (int): The unique ID of the annotated document.\n",
    "        user_id (int): The unique ID of the user.\n",
    "\n",
    "    Returns:\n",
    "        str: The XML document as a string.\n",
    "\n",
    "    Example:\n",
    "        name = \"user123\"\n",
    "        label = \"important\"\n",
    "        response_time = 5.6\n",
    "        document_id = 12345\n",
    "        user_id = 9876\n",
    "        result = save_response(name, label, response_time, document_id, user_id)\n",
    "\n",
    "        This function will create an XML document with user details, save it to\n",
    "        \"./static/responses/user123/12345.xml\", and return the XML document as a string.\n",
    "    \"\"\", \"\"\"\n",
    "    Retrieve text data for specified topics and documents.\n",
    "\n",
    "    Parameters:\n",
    "    - topic_list (dict): A dictionary containing topics and associated document lists.\n",
    "    - all_texts (dict): A dictionary containing text data where keys are document IDs and values are corresponding documents.\n",
    "    - docs (set): A set of document IDs to exclude from the results.\n",
    "\n",
    "    Returns:\n",
    "    - results (dict): A dictionary containing text data for specified topics and documents.\n",
    "\n",
    "    This function takes a 'topic_list' dictionary, which includes topics and associated document lists, an 'all_texts' dictionary containing\n",
    "    document text data, and a 'docs' set representing documents to exclude. It retrieves text data for specified documents under each topic.\n",
    "    Docs contain a list of documents that have already been labelled.\n",
    "\n",
    "    The function returns 'results,' a dictionary where each key represents a topic, and the associated value is a sub-dictionary\n",
    "    containing document IDs and their corresponding texts for that topic. Documents listed in the 'docs' set are excluded.\n",
    "    \"\"\", \"\"\"\n",
    "    Retrieve a maximum number of 6 of text entries from each topic cluster while excluding the \n",
    "    documents im docs.\n",
    "    \n",
    "    Args:\n",
    "        topic_list (dict): A dictionary containing topic clusters.\n",
    "        all_texts (dict): A dictionary of all available text entries.\n",
    "        docs (list): A list of documents to exclude from extraction.\n",
    "\n",
    "    Returns:\n",
    "        dict: A dictionary where keys represent topic clusters, and values are sub-dictionaries\n",
    "            containing the extracted text entries.\n",
    "\n",
    "    Example:\n",
    "        topic_list = {\n",
    "            \"cluster1\": [1, 2, 3, 4, 5],\n",
    "            \"cluster2\": [6, 7, 8, 9, 10],\n",
    "            \"cluster3\": [11, 12, 13, 14, 15]\n",
    "        }\n",
    "        all_texts = {\n",
    "            \"text\": {\n",
    "                \"1\": \"Text 1 content\",\n",
    "                \"2\": \"Text 2 content\",\n",
    "                # ...\n",
    "                \"15\": \"Text 15 content\"\n",
    "            }\n",
    "        }\n",
    "        docs = [3, 8]\n",
    "\n",
    "        result = get_sliced_texts(topic_list, all_texts, docs)\n",
    "\n",
    "        The result will be a dictionary with limited text entries from each topic cluster:\n",
    "        {\n",
    "            \"cluster1\": {\"1\": \"Text 1 content\", \"2\": \"Text 2 content\",\"3\": \"Text 3 content\", \"5\": \"Text 5 content\"},\n",
    "            \"cluster2\": {\"6\": \"Text 6 content\", \"7\": \"Text 7 content\", \"9\": \"Text 9 content\", \"10\": \"Text 10 content\"},\n",
    "            \"cluster3\": {\"11\": \"Text 11 content\", \"12\": \"Text 12 content\", \"13\": \"Text 13 content\", \"14\": \"Text 14 content\", \"15\": \"Text 15 content\"}\n",
    "        }\n",
    "    \"\"\", \"\"\"\n",
    "    Retrieve documents from a collection of texts based on specified topic indices.\n",
    "\n",
    "    Parameters:\n",
    "    - topics (list or set): A list or set of topic indices to retrieve documents for.\n",
    "    - all_texts (dict): A dictionary containing text data where keys are topic indices and values are corresponding documents.\n",
    "    - existing_documents (set): A list of topic indices representing documents that should be excluded from the results.\n",
    "\n",
    "    Returns:\n",
    "    - results (dict): A dictionary containing documents for the specified topics that are not in the existing documents set.\n",
    "    \n",
    "    This function takes a list  of 'topics' (topic indices), an 'all_texts' dictionary containing text data, and a 'existing_documents' set.\n",
    "    It iterates through the specified 'topics' and retrieves documents from the 'all_texts' dictionary for topics that are not already in the 'docs' set.\n",
    "\n",
    "    The function returns a dictionary where each key is a topic index, and the corresponding value is the document text.\n",
    "    \"\"\", \"\"\"\n",
    "    Save user labels of documents to a JSON file.\n",
    "\n",
    "    Parameters:\n",
    "    - session (dict): A dictionary containing user session data, including labels and labeled documents.\n",
    "\n",
    "    This function reads an existing JSON file containing user data from './static/users/users.json', updates the user's labels\n",
    "    and labeled document information in the dictionary, and then writes the updated data back to the same JSON file.\n",
    "\n",
    "    The 'session' dictionary should include the following keys:\n",
    "    - \"name\": The user's name or identifier.\n",
    "    - \"labels\": A dictionary containing label information.\n",
    "    - \"labelled_document\": A dictionary containing information about labeled documents.\n",
    "\n",
    "    The function does not return any value but updates the JSON file with the modified user data.\n",
    "    \"\"\", \"\"\"\n",
    "    Retrieve labeled documents based on a list of document labels.\n",
    "\n",
    "    Parameters:\n",
    "    - labels (str): A comma-separated string of document labels.\n",
    "    - all_texts (dict): A dictionary containing text data where keys are document labels and values are corresponding documents.\n",
    "\n",
    "    Returns:\n",
    "    - results (dict): A dictionary containing documents for the specified labels.\n",
    "\n",
    "    This function takes a comma-separated string of  'labels' fdrom a particular user (document labels), splits it into individual labels, and retrieves\n",
    "    documents from the 'all_texts' dictionary based on these labels.\n",
    "\n",
    "    The function returns a dictionary where each key is a document label, and the corresponding value is the document text.\n",
    "    If a label is not found in 'all_texts', it is skipped.\n",
    "    \"\"\", \"\"\"\n",
    "    Extract a label attribute from an XML file.\n",
    "\n",
    "    Parameters:\n",
    "    - name (str): The name or identifier of the file's owner.\n",
    "    - number (str): The number or identifier of the XML file.\n",
    "\n",
    "    Returns:\n",
    "    - label (str or None): The value of the \"label\" attribute from the XML file, or None if not found.\n",
    "\n",
    "    This function constructs the path to an XML file based on the 'name' and 'number' provided, parses the XML file,\n",
    "    and retrieves the \"label\" attribute value from the XML's root element.\n",
    "\n",
    "    Returns the label of the document provided by a user\n",
    "    \"\"\", \"\"\"\n",
    "    Create a JSON representation of completed documents and document labels for a given user.\n",
    "\n",
    "    Parameters:\n",
    "    - name (str): The name of the user whose labeled documents are being processed.\n",
    "\n",
    "    Returns:\n",
    "    - completed_json (dict): A JSON-like dictionary representing labeled documents grouped by labels.\n",
    "\n",
    "    This function processes XML files in a specified directory based on the 'name' provided. It extracts document IDs and labels\n",
    "    from these XML files and organizes them into a dictionary where labels are keys and associated document IDs are stored in lists.\n",
    "\n",
    "    The function returns  a dictionary where each key represents a label, and the associated value is a list of\n",
    "    document IDs labeled with that label.\n",
    "    \"\"\", \"\"\"\n",
    "    Retrieve documents based on a  JSON representation.\n",
    "\n",
    "    Parameters:\n",
    "    - completed_json (dict): A JSON-like dictionary representing labeled documents grouped by labels.\n",
    "    - all_texts (dict): A dictionary containing text data where keys are document IDs and values are corresponding documents.\n",
    "\n",
    "    Returns:\n",
    "    - results (dict): A dictionary containing completed documents grouped by labels.\n",
    "\n",
    "    This function takes a 'completed_json' dictionary, which represents labeled documents grouped by labels, and a 'all_texts' dictionary\n",
    "    containing document text data. It retrieves the document texts for the specified document IDs in 'completed_json' and organizes them\n",
    "    into a dictionary where labels are keys, and the associated documents are stored in sub-dictionaries.\n",
    "\n",
    "    The function returns a dictionary where each key represents a label, and the associated value is a sub-dictionary\n",
    "    containing document IDs and their corresponding texts for that label.\n",
    "    \"\"\", \"\"\"\n",
    "    Retrieve recommended topic and associated documents from a topic-clustered dataset.\n",
    "\n",
    "    Parameters:\n",
    "    - recommended (str): The recommended topic to retrieve.\n",
    "    - topics (dict): A dictionary containing clustered topics and associated document lists.\n",
    "    - all_texts (dict): A dictionary containing text data where keys are document IDs and values are corresponding documents.\n",
    "\n",
    "    Returns:\n",
    "    - recommended_topic (str): The recommended topic.\n",
    "    - results (dict): A dictionary containing text data for documents associated with the recommended topic.\n",
    "\n",
    "    This function takes a 'recommended' topic, a 'topics' dictionary that includes clustered topics and associated document lists,\n",
    "    and a 'all_texts' dictionary containing document text data. It retrieves text data for documents associated with the specified\n",
    "    recommended topic.\n",
    "\n",
    "    The function returns 'recommended_topic,' the name of the recommended topic, and 'results,' a dictionary where each key represents\n",
    "    a the document IDs of documents within the recommended topic, and the associated value is a sub-dictionary containing document IDs and their corresponding texts.\n",
    "    \"\"\", \"\"\"\n",
    "    Save the timestamp when a user accesses a specific page to a CSV file.\n",
    "\n",
    "    Parameters:\n",
    "    - name (str): The name or identifier of the user.\n",
    "    - page (str): The name or identifier of the page the user accessed.\n",
    "\n",
    "    This function appends a new row to a CSV file located in the './static/responses/<name>/time.csv' directory.\n",
    "    The row contains two columns: 'page' (the accessed page) and 'timestamp' (the current date and time).\n",
    "\n",
    "    It is used to record when a user accesses different pages and stores the timestamp for future reference.\n",
    "    \"\"\", \"\"\"\n",
    "    Recursively change permissions (mode) for files and directories under the specified path.\n",
    "\n",
    "    Parameters:\n",
    "    - path (str): The root directory path from which to start recursively changing permissions.\n",
    "    - mode (int): The permission mode to apply (e.g., 0o755 for read, write, and execute for owner, and read and execute for others).\n",
    "\n",
    "    This function traverses the directory structure starting from the 'path' provided and applies the specified 'mode' to both\n",
    "    directories and files found within that directory and its subdirectories.\n",
    "    \"\"\", \"\"\"\n",
    "    Save to a CSV file with changed permissions the timestamp when a user first accesses socument page.\n",
    "\n",
    "    Parameters:\n",
    "    - name (str): The name or identifier of the user.\n",
    "    - page (str): The name or identifier of the page the user first accessed.\n",
    "\n",
    "    This function first recursively changes the permissions of the 'responses' directory and its contents to '0o777'\n",
    "    (read, write, and execute for everyone) and then appends a new row to a CSV file located in the './static/responses/<name>/time.csv' directory.\n",
    "    The row contains two columns: 'page' (the accessed page) and 'timestamp' (the current date and time).\n",
    "\n",
    "    It is used to record when a user first accesses different pages with changed directory permissions to ensure that the user can write to the CSV file.\n",
    "    \"\"\", \"\"\"\n",
    "    Create a new directory under './static/responses/' with the specified 'name'.\n",
    "\n",
    "    Parameters:\n",
    "    - name (str): The name or identifier of the directory to be created.\n",
    "\n",
    "    This function creates a new directory with the provided 'name' under the './static/responses/' directory.\n",
    "    The 'mode' parameter specifies the permission mode for the newly created directory.\n",
    "    \"\"\"]"
   ]
  },
  {
   "cell_type": "code",
   "execution_count": 3,
   "metadata": {},
   "outputs": [
    {
     "name": "stdout",
     "output_type": "stream",
     "text": [
      "\n",
      "    Save the timestamp when a user accesses a specific page to a CSV file.\n",
      "\n",
      "    Parameters:\n",
      "    - name (str): The name or identifier of the user.\n",
      "    - page (str): The name or identifier of the page the user accessed.\n",
      "\n",
      "    This function appends a new row to a CSV file located in the './static/responses/<name>/time.csv' directory.\n",
      "    The row contains two columns: 'page' (the accessed page) and 'timestamp' (the current date and time).\n",
      "\n",
      "    It is used to record when a user accesses different pages and stores the timestamp for future reference.\n",
      "    \n"
     ]
    }
   ],
   "source": [
    "print(references_[13])"
   ]
  },
  {
   "cell_type": "code",
   "execution_count": 171,
   "metadata": {},
   "outputs": [],
   "source": [
    "predicted = [\"\"\"\n",
    "    Read JSON data from a file.\n",
    "\n",
    "    Args:\n",
    "        path (str): The path to the JSON file.\n",
    "\n",
    "    Returns:\n",
    "        pandas.DataFrame: A DataFrame containing the JSON data.\n",
    "    \"\"\", \"\"\"\n",
    "    Extract words from specified spans in a raw string.\n",
    "\n",
    "    This function takes a dictionary of spans and a raw string as input. It extracts\n",
    "    the words covered by the specified spans in the raw string.\n",
    "\n",
    "    Args:\n",
    "        dat (dict): A dictionary containing spans for different categories or topics.\n",
    "            Each category is a key in the dictionary, and the value is a dictionary\n",
    "            with 'spans' key containing a list of span tuples (start, end).\n",
    "        raw_string (str): The raw string from which words will be extracted.\n",
    "\n",
    "    Returns:\n",
    "        dict: A dictionary where keys represent categories or topics, and values are\n",
    "            sets of words extracted from the specified spans in the raw string.\n",
    "    \n",
    "    Example:\n",
    "        dat = {\n",
    "            'category1': {'spans': [(0, 5), (10, 15)]},\n",
    "            'category2': {'spans': [(5, 10), (15, 20)]}\n",
    "        }\n",
    "        raw_string = \"This is a sample raw string.\"\n",
    "        result = get_words(dat, raw_string)\n",
    "\n",
    "        The result will be:\n",
    "        {\n",
    "            'category1': {'is', 'This'},\n",
    "            'category2': {'raw', 'sample'}\n",
    "        }\n",
    "    \"\"\", \"\"\"\n",
    "    Highlight specified words in a text with a yellow background.\n",
    "\n",
    "    This function takes a text and a set of words as input and adds HTML tags to\n",
    "    highlight the specified words with a yellow background color.\n",
    "\n",
    "    Args:\n",
    "        text (str): The input text in which words will be highlighted.\n",
    "        words (set): A set of words to be highlighted in the text.\n",
    "\n",
    "    Returns:\n",
    "        str: The input text with specified words highlighted using HTML tags.\n",
    "\n",
    "    Example:\n",
    "        text = \"This is a sample text containing some keywords.\"\n",
    "        words = {'sample', 'keywords'}\n",
    "        result = highlight_words(text, words)\n",
    "\n",
    "        The result will be:\n",
    "        \"This is a <span style='background-color:yellow'>sample</span> text containing some <span style='background-color:yellow'>keywords</span>.\"\n",
    "    \"\"\", \"\"\"\n",
    "    Save annotation response to an XML file.\n",
    "\n",
    "    This function creates an XML document to store annotation details including user name,\n",
    "    response time, document ID, annotation label, and user ID. It then saves the XML document\n",
    "    to a specified directory.\n",
    "\n",
    "    Args:\n",
    "        name (str): The user's name or identifier.\n",
    "        label (str): The annotation label or category.\n",
    "        response_time (float): The time taken to complete the annotation.\n",
    "        document_id (int): The unique ID of the annotated document.\n",
    "        user_id (int): The unique ID of the annotating user.\n",
    "\n",
    "    Returns:\n",
    "        str: The XML document as a string.\n",
    "\n",
    "    Example:\n",
    "        name = \"user123\"\n",
    "        label = \"important\"\n",
    "        response_time = 5.6\n",
    "        document_id = 12345\n",
    "        user_id = 9876\n",
    "        result = save_response(name, label, response_time, document_id, user_id)\n",
    "\n",
    "        This function will create an XML document with user details, save it to\n",
    "        \"./static/responses/user123/12345.xml\", and return the XML document as a string.\n",
    "    \"\"\", \"\"\"\n",
    "    Retrieve text data for specified topics and documents.\n",
    "\n",
    "    Parameters:\n",
    "    - topic_list (dict): A dictionary containing topics and associated document lists.\n",
    "    - all_texts (dict): A dictionary containing text data where keys are document IDs and values are corresponding documents.\n",
    "    - docs (set): A set of document IDs to exclude from the results.\n",
    "\n",
    "    Returns:\n",
    "    - results (dict): A dictionary containing text data for specified topics and documents.\n",
    "\n",
    "    This function takes a 'topic_list' dictionary, which includes topics and associated document lists, a 'all_texts' dictionary containing\n",
    "    document text data, and a 'docs' set representing documents to exclude. It retrieves text data for specified documents under each topic.\n",
    "\n",
    "    The function returns 'results,' a dictionary where each key represents a topic, and the associated value is a sub-dictionary\n",
    "    containing document IDs and their corresponding texts for that topic. Documents listed in the 'docs' set are excluded.\n",
    "    \"\"\", \"\"\"\n",
    "    Retrieve a limited number of text entries from each topic cluster.\n",
    "\n",
    "    This function extracts a limited number of text entries from each topic cluster\n",
    "    based on the specified count (up to 6 per cluster) while excluding documents in 'docs'.\n",
    "\n",
    "    Args:\n",
    "        topic_list (dict): A dictionary containing topic clusters.\n",
    "        all_texts (dict): A dictionary of all available text entries.\n",
    "        docs (list): A list of documents to exclude from extraction.\n",
    "\n",
    "    Returns:\n",
    "        dict: A dictionary where keys represent topic clusters, and values are sub-dictionaries\n",
    "            containing the extracted text entries.\n",
    "\n",
    "    Example:\n",
    "        topic_list = {\n",
    "            \"cluster1\": [1, 2, 3, 4, 5],\n",
    "            \"cluster2\": [6, 7, 8, 9, 10],\n",
    "            \"cluster3\": [11, 12, 13, 14, 15]\n",
    "        }\n",
    "        all_texts = {\n",
    "            \"text\": {\n",
    "                \"1\": \"Text 1 content\",\n",
    "                \"2\": \"Text 2 content\",\n",
    "                # ...\n",
    "                \"15\": \"Text 15 content\"\n",
    "            }\n",
    "        }\n",
    "        docs = [3, 8]\n",
    "\n",
    "        result = get_sliced_texts(topic_list, all_texts, docs)\n",
    "\n",
    "        The result will be a dictionary with limited text entries from each topic cluster:\n",
    "        {\n",
    "            \"cluster1\": {\"1\": \"Text 1 content\", \"2\": \"Text 2 content\"},\n",
    "            \"cluster2\": {\"6\": \"Text 6 content\", \"7\": \"Text 7 content\", \"9\": \"Text 9 content\", \"10\": \"Text 10 content\"},\n",
    "            \"cluster3\": {\"11\": \"Text 11 content\", \"12\": \"Text 12 content\", \"13\": \"Text 13 content\", \"14\": \"Text 14 content\", \"15\": \"Text 15 content\"}\n",
    "        }\n",
    "    \"\"\", \"\"\"\n",
    "    Retrieve single documents from a collection of texts based on specified topic indices.\n",
    "\n",
    "    Parameters:\n",
    "    - topics (list or set): A list or set of topic indices to retrieve documents for.\n",
    "    - all_texts (dict): A dictionary containing text data where keys are topic indices and values are corresponding documents.\n",
    "    - existing_documents (set): A set of topic indices representing documents that should be excluded from the results.\n",
    "\n",
    "    Returns:\n",
    "    - results (dict): A dictionary containing documents for the specified topics that are not in the existing documents set.\n",
    "    \n",
    "    This function takes a list or set of 'topics' (topic indices), a 'all_texts' dictionary containing text data, and a 'existing_documents' set.\n",
    "    It iterates through the specified 'topics' and retrieves documents from the 'all_texts' dictionary for topics that are not already in the 'existing_documents' set.\n",
    "\n",
    "    The function returns a dictionary 'results' where each key is a topic index, and the corresponding value is the document text.\n",
    "    \"\"\", \"\"\"\n",
    "    Save user labels and labeled documents to a JSON file.\n",
    "\n",
    "    Parameters:\n",
    "    - session (dict): A dictionary containing user session data, including labels and labeled documents.\n",
    "\n",
    "    This function reads an existing JSON file containing user data from './static/users/users.json', updates the user's labels\n",
    "    and labeled document information in the dictionary, and then writes the updated data back to the same JSON file.\n",
    "\n",
    "    The 'session' dictionary should include the following keys:\n",
    "    - \"name\": The user's name or identifier.\n",
    "    - \"labels\": A dictionary containing label information.\n",
    "    - \"labelled_document\": A dictionary containing information about labeled documents.\n",
    "\n",
    "    The function does not return any value but updates the JSON file with the modified user data.\n",
    "    \"\"\", \"\"\"\n",
    "    Retrieve labeled documents based on a list of document labels.\n",
    "\n",
    "    Parameters:\n",
    "    - labels (str): A comma-separated string of document labels.\n",
    "    - all_texts (dict): A dictionary containing text data where keys are document labels and values are corresponding documents.\n",
    "\n",
    "    Returns:\n",
    "    - results (dict): A dictionary containing documents for the specified labels.\n",
    "\n",
    "    This function takes a comma-separated string of 'labels' (document labels), splits it into individual labels, and retrieves\n",
    "    documents from the 'all_texts' dictionary based on these labels.\n",
    "\n",
    "    The function returns a dictionary 'results' where each key is a document label, and the corresponding value is the document text.\n",
    "    If a label is not found in 'all_texts', it is skipped.\n",
    "    \"\"\", \"\"\"\n",
    "    Extract a label attribute from an XML file.\n",
    "\n",
    "    Parameters:\n",
    "    - name (str): The name or identifier of the file's owner.\n",
    "    - number (str): The number or identifier of the XML file.\n",
    "\n",
    "    Returns:\n",
    "    - label (str or None): The value of the \"label\" attribute from the XML file, or None if not found.\n",
    "\n",
    "    This function constructs the path to an XML file based on the 'name' and 'number' provided, parses the XML file,\n",
    "    and retrieves the \"label\" attribute value from the XML's root element.\n",
    "\n",
    "    If the \"label\" attribute is found, its value is returned as a string. If the attribute is not found, the function\n",
    "    returns None.\n",
    "    \"\"\", \"\"\"\n",
    "    Create a completed JSON representation of document labels for a given user.\n",
    "\n",
    "    Parameters:\n",
    "    - name (str): The name or identifier of the user whose labeled documents are being processed.\n",
    "\n",
    "    Returns:\n",
    "    - completed_json (dict): A JSON-like dictionary representing labeled documents grouped by labels.\n",
    "\n",
    "    This function processes XML files in a specified directory based on the 'name' provided. It extracts document IDs and labels\n",
    "    from these XML files and organizes them into a dictionary where labels are keys and associated document IDs are stored in lists.\n",
    "\n",
    "    The function returns 'completed_json,' a dictionary where each key represents a label, and the associated value is a list of\n",
    "    document IDs labeled with that label.\n",
    "    \"\"\", \"\"\"\n",
    "    Retrieve completed documents based on a completed JSON representation.\n",
    "\n",
    "    Parameters:\n",
    "    - completed_json (dict): A JSON-like dictionary representing labeled documents grouped by labels.\n",
    "    - all_texts (dict): A dictionary containing text data where keys are document IDs and values are corresponding documents.\n",
    "\n",
    "    Returns:\n",
    "    - results (dict): A dictionary containing completed documents grouped by labels.\n",
    "\n",
    "    This function takes a 'completed_json' dictionary, which represents labeled documents grouped by labels, and a 'all_texts' dictionary\n",
    "    containing document text data. It retrieves the document texts for the specified document IDs in 'completed_json' and organizes them\n",
    "    into a dictionary where labels are keys, and the associated documents are stored in sub-dictionaries.\n",
    "\n",
    "    The function returns 'results,' a dictionary where each key represents a label, and the associated value is a sub-dictionary\n",
    "    containing document IDs and their corresponding texts for that label.\n",
    "    \"\"\", \"\"\"\n",
    "    Retrieve recommended topic and associated documents from a topic-clustered dataset.\n",
    "\n",
    "    Parameters:\n",
    "    - recommended (str): The recommended topic to retrieve.\n",
    "    - topics (dict): A dictionary containing clustered topics and associated document lists.\n",
    "    - all_texts (dict): A dictionary containing text data where keys are document IDs and values are corresponding documents.\n",
    "\n",
    "    Returns:\n",
    "    - recommended_topic (str): The recommended topic.\n",
    "    - results (dict): A dictionary containing text data for documents associated with the recommended topic.\n",
    "\n",
    "    This function takes a 'recommended' topic, a 'topics' dictionary that includes clustered topics and associated document lists,\n",
    "    and a 'all_texts' dictionary containing document text data. It retrieves text data for documents associated with the specified\n",
    "    recommended topic.\n",
    "\n",
    "    The function returns 'recommended_topic,' the name of the recommended topic, and 'results,' a dictionary where each key represents\n",
    "    a cluster within the recommended topic, and the associated value is a sub-dictionary containing document IDs and their corresponding texts.\n",
    "    \"\"\", \"\"\"\n",
    "    Save the timestamp when a user accesses a specific page to a CSV file.\n",
    "\n",
    "    Parameters:\n",
    "    - name (str): The name or identifier of the user.\n",
    "    - page (str): The name or identifier of the page the user accessed.\n",
    "\n",
    "    This function appends a new row to a CSV file located in the './static/responses/<name>/time.csv' directory.\n",
    "    The row contains two columns: 'page' (the accessed page) and 'timestamp' (the current date and time).\n",
    "\n",
    "    It is used to record when a user accesses different pages and stores the timestamp for future reference.\n",
    "    \"\"\", \"\"\"\n",
    "    Recursively change permissions (mode) for files and directories under the specified path.\n",
    "\n",
    "    Parameters:\n",
    "    - path (str): The root directory path from which to start recursively changing permissions.\n",
    "    - mode (int): The permission mode to apply (e.g., 0o755 for read, write, and execute for owner, and read and execute for others).\n",
    "\n",
    "    This function traverses the directory structure starting from the 'path' provided and applies the specified 'mode' to both\n",
    "    directories and files found within that directory and its subdirectories.\n",
    "\n",
    "    Note: Be cautious when changing permissions recursively, as it can have a significant impact on system security.\n",
    "    \"\"\", \"\"\"\n",
    "    Save the timestamp when a user first accesses a specific page to a CSV file with changed permissions.\n",
    "\n",
    "    Parameters:\n",
    "    - name (str): The name or identifier of the user.\n",
    "    - page (str): The name or identifier of the page the user first accessed.\n",
    "\n",
    "    This function first recursively changes the permissions of the 'responses' directory and its contents to '0o777'\n",
    "    (read, write, and execute for everyone) and then appends a new row to a CSV file located in the './static/responses/<name>/time.csv' directory.\n",
    "    The row contains two columns: 'page' (the accessed page) and 'timestamp' (the current date and time).\n",
    "\n",
    "    It is used to record when a user first accesses different pages with changed directory permissions to ensure that the user can write to the CSV file.\n",
    "    \"\"\", \"\"\"\n",
    "    Create a new directory under './static/responses/' with the specified 'name'.\n",
    "\n",
    "    Parameters:\n",
    "    - name (str): The name of the directory to be created.\n",
    "\n",
    "    This function creates a new directory with the provided 'name' under the './static/responses/' directory.\n",
    "    The 'mode' parameter specifies the permission mode for the newly created directory.\n",
    "    \"\"\"]"
   ]
  },
  {
   "cell_type": "code",
   "execution_count": 17,
   "metadata": {},
   "outputs": [],
   "source": [
    "\n",
    "from rouge_metric import PerlRouge\n",
    "rouge = PerlRouge()"
   ]
  },
  {
   "cell_type": "code",
   "execution_count": 26,
   "metadata": {},
   "outputs": [],
   "source": [
    "scores = rouge.evaluate([references_[0]], [predicted[0]])"
   ]
  },
  {
   "cell_type": "code",
   "execution_count": 9,
   "metadata": {},
   "outputs": [
    {
     "data": {
      "text/plain": [
       "{'rouge-1': {'r': 0.18095,\n",
       "  'r_conf_int': (0.18095, 0.18095),\n",
       "  'p': 0.00314,\n",
       "  'p_conf_int': (0.00314, 0.00314),\n",
       "  'f': 0.00617,\n",
       "  'f_conf_int': (0.00617, 0.00617)},\n",
       " 'rouge-2': {'r': 0.0,\n",
       "  'r_conf_int': (0.0, 0.0),\n",
       "  'p': 0.0,\n",
       "  'p_conf_int': (0.0, 0.0),\n",
       "  'f': 0.0,\n",
       "  'f_conf_int': (0.0, 0.0)},\n",
       " 'rouge-l': {'r': 0.18095,\n",
       "  'r_conf_int': (0.18095, 0.18095),\n",
       "  'p': 0.00314,\n",
       "  'p_conf_int': (0.00314, 0.00314),\n",
       "  'f': 0.00617,\n",
       "  'f_conf_int': (0.00617, 0.00617)}}"
      ]
     },
     "execution_count": 9,
     "metadata": {},
     "output_type": "execute_result"
    }
   ],
   "source": [
    "scores"
   ]
  },
  {
   "cell_type": "code",
   "execution_count": 36,
   "metadata": {},
   "outputs": [],
   "source": [
    "final_score = []\n",
    "\n",
    "for a in range(len(predicted)):\n",
    "    scores = rouge.evaluate([references_[a]], [predicted[a]])\n",
    "    final_score.append(scores)\n",
    "    "
   ]
  },
  {
   "cell_type": "code",
   "execution_count": 37,
   "metadata": {},
   "outputs": [
    {
     "data": {
      "text/plain": [
       "{'rouge-1': {'r': 0.18095,\n",
       "  'r_conf_int': (0.18095, 0.18095),\n",
       "  'p': 0.00314,\n",
       "  'p_conf_int': (0.00314, 0.00314),\n",
       "  'f': 0.00617,\n",
       "  'f_conf_int': (0.00617, 0.00617)},\n",
       " 'rouge-2': {'r': 0.0,\n",
       "  'r_conf_int': (0.0, 0.0),\n",
       "  'p': 0.0,\n",
       "  'p_conf_int': (0.0, 0.0),\n",
       "  'f': 0.0,\n",
       "  'f_conf_int': (0.0, 0.0)},\n",
       " 'rouge-l': {'r': 0.18095,\n",
       "  'r_conf_int': (0.18095, 0.18095),\n",
       "  'p': 0.00314,\n",
       "  'p_conf_int': (0.00314, 0.00314),\n",
       "  'f': 0.00617,\n",
       "  'f_conf_int': (0.00617, 0.00617)}}"
      ]
     },
     "execution_count": 37,
     "metadata": {},
     "output_type": "execute_result"
    }
   ],
   "source": [
    "final_score[0]"
   ]
  },
  {
   "cell_type": "code",
   "execution_count": 23,
   "metadata": {},
   "outputs": [],
   "source": [
    "from rouge_score import rouge_scorer"
   ]
  },
  {
   "cell_type": "code",
   "execution_count": 42,
   "metadata": {},
   "outputs": [],
   "source": [
    "scorer = rouge_scorer.RougeScorer(['rouge1', 'rouge2', 'rougeL'], use_stemmer=True)"
   ]
  },
  {
   "cell_type": "code",
   "execution_count": 172,
   "metadata": {},
   "outputs": [],
   "source": [
    "precision =[]\n",
    "recall = []\n",
    "f1_score = []\n",
    "for a in range(len(predicted)):\n",
    "    candidate_summary = predicted[a]\n",
    "    reference_summary = references_[a]\n",
    "    scores = scorer.score(reference_summary, candidate_summary)\n",
    "  \n",
    "    # for key in scores:\n",
    "    #     # print(f'{key}: {scores[key]}')\n",
    "    precision.append((scores['rougeL'].precision))\n",
    "    recall.append((scores['rougeL'].recall))\n",
    "    f1_score.append((scores['rougeL'].fmeasure))"
   ]
  },
  {
   "cell_type": "code",
   "execution_count": 215,
   "metadata": {},
   "outputs": [
    {
     "data": {
      "text/plain": [
       "0.6857142857142857"
      ]
     },
     "execution_count": 215,
     "metadata": {},
     "output_type": "execute_result"
    }
   ],
   "source": [
    "min(recall)"
   ]
  },
  {
   "cell_type": "code",
   "execution_count": 173,
   "metadata": {},
   "outputs": [],
   "source": [
    "function_number = []\n",
    "for i in range(17):\n",
    "    function_number.append(str(i))"
   ]
  },
  {
   "cell_type": "code",
   "execution_count": 150,
   "metadata": {},
   "outputs": [
    {
     "data": {
      "text/plain": [
       "'16'"
      ]
     },
     "execution_count": 150,
     "metadata": {},
     "output_type": "execute_result"
    }
   ],
   "source": [
    "function_number[16]"
   ]
  },
  {
   "cell_type": "code",
   "execution_count": 151,
   "metadata": {},
   "outputs": [],
   "source": [
    "import matplotlib.pyplot as plt"
   ]
  },
  {
   "cell_type": "code",
   "execution_count": 170,
   "metadata": {},
   "outputs": [
    {
     "data": {
      "text/plain": [
       "1.0"
      ]
     },
     "execution_count": 170,
     "metadata": {},
     "output_type": "execute_result"
    }
   ],
   "source": [
    "precision[16]"
   ]
  },
  {
   "cell_type": "code",
   "execution_count": 178,
   "metadata": {},
   "outputs": [
    {
     "data": {
      "text/plain": [
       "<matplotlib.legend.Legend at 0x166407350>"
      ]
     },
     "execution_count": 178,
     "metadata": {},
     "output_type": "execute_result"
    },
    {
     "data": {
      "image/png": "[encoded data removed]",
      "text/plain": [
       "<Figure size 800x800 with 3 Axes>"
      ]
     },
     "metadata": {},
     "output_type": "display_data"
    }
   ],
   "source": [
    "fig, ax1 = plt.subplots(figsize=(8, 8))\n",
    "ax2 = ax1.twinx()\n",
    "ax3 = ax1.twinx()\n",
    "ax1.set_ylim(0, 1.2)\n",
    "ax2.set_ylim(0, 1.2)\n",
    "ax3.set_ylim(0, 1.2)\n",
    "\n",
    "\n",
    "\n",
    "ax1.plot(function_number, precision, 'r-', label=\"precision\")\n",
    "ax2.plot(function_number, recall, 'g-', label=\"recall\")\n",
    "ax3.plot(function_number, f1_score, 'b-', label=\"F1 score\")\n"
   ]
  },
  {
   "cell_type": "code",
   "execution_count": 159,
   "metadata": {},
   "outputs": [
    {
     "data": {
      "text/plain": [
       "[<matplotlib.lines.Line2D at 0x165c6ec50>]"
      ]
     },
     "execution_count": 159,
     "metadata": {},
     "output_type": "execute_result"
    },
    {
     "data": {
      "image/png": "[encoded data removed]",
      "text/plain": [
       "<Figure size 640x480 with 1 Axes>"
      ]
     },
     "metadata": {},
     "output_type": "display_data"
    }
   ],
   "source": [
    "plt.plot(function_number, precision)"
   ]
  },
  {
   "cell_type": "code",
   "execution_count": 49,
   "metadata": {},
   "outputs": [],
   "source": [
    "from sacrerouge.metrics import Rouge"
   ]
  },
  {
   "cell_type": "code",
   "execution_count": 56,
   "metadata": {},
   "outputs": [
    {
     "ename": "Exception",
     "evalue": "Path \"/Users/danielstephens/.sacrerouge/metrics/ROUGE-1.5.5\" does not exist. Have you setup ROUGE?",
     "output_type": "error",
     "traceback": [
      "\u001b[0;31m---------------------------------------------------------------------------\u001b[0m",
      "\u001b[0;31mException\u001b[0m                                 Traceback (most recent call last)",
      "Cell \u001b[0;32mIn[56], line 5\u001b[0m\n\u001b[1;32m      2\u001b[0m reference \u001b[39m=\u001b[39m \u001b[39m'\u001b[39m\u001b[39mDan went to buy scones earlier this morning.\u001b[39m\u001b[39m'\u001b[39m\n\u001b[1;32m      4\u001b[0m \u001b[39mfrom\u001b[39;00m \u001b[39msacrerouge\u001b[39;00m\u001b[39m.\u001b[39;00m\u001b[39mmetrics\u001b[39;00m \u001b[39mimport\u001b[39;00m Rouge\n\u001b[0;32m----> 5\u001b[0m rouge \u001b[39m=\u001b[39m Rouge(max_ngram\u001b[39m=\u001b[39;49m\u001b[39m2\u001b[39;49m)\n\u001b[1;32m      6\u001b[0m rouge\u001b[39m.\u001b[39mscore(summary, [reference])\n",
      "File \u001b[0;32m~/Desktop/community_resilience/venv/lib/python3.11/site-packages/sacrerouge/metrics/rouge.py:48\u001b[0m, in \u001b[0;36mRouge.__init__\u001b[0;34m(self, max_ngram, use_porter_stemmer, remove_stopwords, max_bytes, max_words, compute_rouge_l, skip_bigram_gap_length, wlcs_weight, rouge_root, scoring_function)\u001b[0m\n\u001b[1;32m     45\u001b[0m \u001b[39mself\u001b[39m\u001b[39m.\u001b[39mscoring_function \u001b[39m=\u001b[39m scoring_function\n\u001b[1;32m     47\u001b[0m \u001b[39mif\u001b[39;00m \u001b[39mnot\u001b[39;00m os\u001b[39m.\u001b[39mpath\u001b[39m.\u001b[39mexists(rouge_root):\n\u001b[0;32m---> 48\u001b[0m     \u001b[39mraise\u001b[39;00m \u001b[39mException\u001b[39;00m(\u001b[39mf\u001b[39m\u001b[39m'\u001b[39m\u001b[39mPath \u001b[39m\u001b[39m\"\u001b[39m\u001b[39m{\u001b[39;00mrouge_root\u001b[39m}\u001b[39;00m\u001b[39m\"\u001b[39m\u001b[39m does not exist. Have you setup ROUGE?\u001b[39m\u001b[39m'\u001b[39m)\n",
      "\u001b[0;31mException\u001b[0m: Path \"/Users/danielstephens/.sacrerouge/metrics/ROUGE-1.5.5\" does not exist. Have you setup ROUGE?"
     ]
    }
   ],
   "source": [
    "summary = 'Dan walked to the bakery this morning.'\n",
    "reference = 'Dan went to buy scones earlier this morning.'\n",
    "\n",
    "from sacrerouge.metrics import Rouge\n",
    "rouge = Rouge(max_ngram=2)\n",
    "rouge.score(summary, [reference])"
   ]
  },
  {
   "cell_type": "code",
   "execution_count": 135,
   "metadata": {},
   "outputs": [
    {
     "name": "stdout",
     "output_type": "stream",
     "text": [
      "rouge1: Score(precision=0.0, recall=0.0, fmeasure=0.0)\n",
      "rouge2: Score(precision=0.0, recall=0.0, fmeasure=0.0)\n",
      "rougeL: Score(precision=0.0, recall=0.0, fmeasure=0.0)\n",
      "rouge1: Score(precision=0.006802721088435374, recall=1.0, fmeasure=0.013513513513513513)\n",
      "rouge2: Score(precision=0.0, recall=0.0, fmeasure=0.0)\n",
      "rougeL: Score(precision=0.006802721088435374, recall=1.0, fmeasure=0.013513513513513513)\n",
      "rouge1: Score(precision=0.0, recall=0.0, fmeasure=0.0)\n",
      "rouge2: Score(precision=0.0, recall=0.0, fmeasure=0.0)\n",
      "rougeL: Score(precision=0.0, recall=0.0, fmeasure=0.0)\n",
      "rouge1: Score(precision=0.0, recall=0.0, fmeasure=0.0)\n",
      "rouge2: Score(precision=0.0, recall=0.0, fmeasure=0.0)\n",
      "rougeL: Score(precision=0, recall=0, fmeasure=0)\n",
      "rouge1: Score(precision=0.0, recall=0.0, fmeasure=0.0)\n",
      "rouge2: Score(precision=0.0, recall=0.0, fmeasure=0.0)\n",
      "rougeL: Score(precision=0.0, recall=0.0, fmeasure=0.0)\n",
      "rouge1: Score(precision=0.0, recall=0.0, fmeasure=0.0)\n",
      "rouge2: Score(precision=0.0, recall=0.0, fmeasure=0.0)\n",
      "rougeL: Score(precision=0.0, recall=0.0, fmeasure=0.0)\n",
      "rouge1: Score(precision=0.0, recall=0.0, fmeasure=0.0)\n",
      "rouge2: Score(precision=0.0, recall=0.0, fmeasure=0.0)\n",
      "rougeL: Score(precision=0.0, recall=0.0, fmeasure=0.0)\n",
      "rouge1: Score(precision=0.0, recall=0.0, fmeasure=0.0)\n",
      "rouge2: Score(precision=0.0, recall=0.0, fmeasure=0.0)\n",
      "rougeL: Score(precision=0.0, recall=0.0, fmeasure=0.0)\n",
      "rouge1: Score(precision=0.0, recall=0.0, fmeasure=0.0)\n",
      "rouge2: Score(precision=0.0, recall=0.0, fmeasure=0.0)\n",
      "rougeL: Score(precision=0, recall=0, fmeasure=0)\n",
      "rouge1: Score(precision=0.0, recall=0.0, fmeasure=0.0)\n",
      "rouge2: Score(precision=0.0, recall=0.0, fmeasure=0.0)\n",
      "rougeL: Score(precision=0.0, recall=0.0, fmeasure=0.0)\n",
      "rouge1: Score(precision=0.0, recall=0.0, fmeasure=0.0)\n",
      "rouge2: Score(precision=0.0, recall=0.0, fmeasure=0.0)\n",
      "rougeL: Score(precision=0.0, recall=0.0, fmeasure=0.0)\n",
      "rouge1: Score(precision=0.0, recall=0.0, fmeasure=0.0)\n",
      "rouge2: Score(precision=0.0, recall=0.0, fmeasure=0.0)\n",
      "rougeL: Score(precision=0, recall=0, fmeasure=0)\n",
      "rouge1: Score(precision=0.0, recall=0.0, fmeasure=0.0)\n",
      "rouge2: Score(precision=0.0, recall=0.0, fmeasure=0.0)\n",
      "rougeL: Score(precision=0.0, recall=0.0, fmeasure=0.0)\n",
      "rouge1: Score(precision=0.0, recall=0.0, fmeasure=0.0)\n",
      "rouge2: Score(precision=0.0, recall=0.0, fmeasure=0.0)\n",
      "rougeL: Score(precision=0.0, recall=0.0, fmeasure=0.0)\n",
      "rouge1: Score(precision=0.0, recall=0.0, fmeasure=0.0)\n",
      "rouge2: Score(precision=0.0, recall=0.0, fmeasure=0.0)\n",
      "rougeL: Score(precision=0.0, recall=0.0, fmeasure=0.0)\n",
      "rouge1: Score(precision=0.0, recall=0.0, fmeasure=0.0)\n",
      "rouge2: Score(precision=0.0, recall=0.0, fmeasure=0.0)\n",
      "rougeL: Score(precision=0, recall=0, fmeasure=0)\n",
      "rouge1: Score(precision=0.0, recall=0.0, fmeasure=0.0)\n",
      "rouge2: Score(precision=0.0, recall=0.0, fmeasure=0.0)\n",
      "rougeL: Score(precision=0.0, recall=0.0, fmeasure=0.0)\n"
     ]
    }
   ],
   "source": [
    "results = []\n",
    "for a in range(len(predicted)):\n",
    "    res = []\n",
    "    scores = scorer.score(reference[a], predicted[a])\n",
    "    for key in scores:\n",
    "        print(f'{key}: {scores[key]}')\n",
    "    #     res.append([key, scores[key]])\n",
    "    # results.append(res)\n"
   ]
  },
  {
   "cell_type": "code",
   "execution_count": 134,
   "metadata": {},
   "outputs": [
    {
     "data": {
      "text/plain": [
       "[[['rouge1', Score(precision=0.0, recall=0.0, fmeasure=0.0)],\n",
       "  ['rouge2', Score(precision=0.0, recall=0.0, fmeasure=0.0)],\n",
       "  ['rougeL', Score(precision=0.0, recall=0.0, fmeasure=0.0)]],\n",
       " [['rouge1',\n",
       "   Score(precision=0.006802721088435374, recall=1.0, fmeasure=0.013513513513513513)],\n",
       "  ['rouge2', Score(precision=0.0, recall=0.0, fmeasure=0.0)],\n",
       "  ['rougeL',\n",
       "   Score(precision=0.006802721088435374, recall=1.0, fmeasure=0.013513513513513513)]],\n",
       " [['rouge1', Score(precision=0.0, recall=0.0, fmeasure=0.0)],\n",
       "  ['rouge2', Score(precision=0.0, recall=0.0, fmeasure=0.0)],\n",
       "  ['rougeL', Score(precision=0.0, recall=0.0, fmeasure=0.0)]],\n",
       " [['rouge1', Score(precision=0.0, recall=0.0, fmeasure=0.0)],\n",
       "  ['rouge2', Score(precision=0.0, recall=0.0, fmeasure=0.0)],\n",
       "  ['rougeL', Score(precision=0, recall=0, fmeasure=0)]],\n",
       " [['rouge1', Score(precision=0.0, recall=0.0, fmeasure=0.0)],\n",
       "  ['rouge2', Score(precision=0.0, recall=0.0, fmeasure=0.0)],\n",
       "  ['rougeL', Score(precision=0.0, recall=0.0, fmeasure=0.0)]],\n",
       " [['rouge1', Score(precision=0.0, recall=0.0, fmeasure=0.0)],\n",
       "  ['rouge2', Score(precision=0.0, recall=0.0, fmeasure=0.0)],\n",
       "  ['rougeL', Score(precision=0.0, recall=0.0, fmeasure=0.0)]],\n",
       " [['rouge1', Score(precision=0.0, recall=0.0, fmeasure=0.0)],\n",
       "  ['rouge2', Score(precision=0.0, recall=0.0, fmeasure=0.0)],\n",
       "  ['rougeL', Score(precision=0.0, recall=0.0, fmeasure=0.0)]],\n",
       " [['rouge1', Score(precision=0.0, recall=0.0, fmeasure=0.0)],\n",
       "  ['rouge2', Score(precision=0.0, recall=0.0, fmeasure=0.0)],\n",
       "  ['rougeL', Score(precision=0.0, recall=0.0, fmeasure=0.0)]],\n",
       " [['rouge1', Score(precision=0.0, recall=0.0, fmeasure=0.0)],\n",
       "  ['rouge2', Score(precision=0.0, recall=0.0, fmeasure=0.0)],\n",
       "  ['rougeL', Score(precision=0, recall=0, fmeasure=0)]],\n",
       " [['rouge1', Score(precision=0.0, recall=0.0, fmeasure=0.0)],\n",
       "  ['rouge2', Score(precision=0.0, recall=0.0, fmeasure=0.0)],\n",
       "  ['rougeL', Score(precision=0.0, recall=0.0, fmeasure=0.0)]],\n",
       " [['rouge1', Score(precision=0.0, recall=0.0, fmeasure=0.0)],\n",
       "  ['rouge2', Score(precision=0.0, recall=0.0, fmeasure=0.0)],\n",
       "  ['rougeL', Score(precision=0.0, recall=0.0, fmeasure=0.0)]],\n",
       " [['rouge1', Score(precision=0.0, recall=0.0, fmeasure=0.0)],\n",
       "  ['rouge2', Score(precision=0.0, recall=0.0, fmeasure=0.0)],\n",
       "  ['rougeL', Score(precision=0, recall=0, fmeasure=0)]],\n",
       " [['rouge1', Score(precision=0.0, recall=0.0, fmeasure=0.0)],\n",
       "  ['rouge2', Score(precision=0.0, recall=0.0, fmeasure=0.0)],\n",
       "  ['rougeL', Score(precision=0.0, recall=0.0, fmeasure=0.0)]],\n",
       " [['rouge1', Score(precision=0.0, recall=0.0, fmeasure=0.0)],\n",
       "  ['rouge2', Score(precision=0.0, recall=0.0, fmeasure=0.0)],\n",
       "  ['rougeL', Score(precision=0.0, recall=0.0, fmeasure=0.0)]],\n",
       " [['rouge1', Score(precision=0.0, recall=0.0, fmeasure=0.0)],\n",
       "  ['rouge2', Score(precision=0.0, recall=0.0, fmeasure=0.0)],\n",
       "  ['rougeL', Score(precision=0.0, recall=0.0, fmeasure=0.0)]],\n",
       " [['rouge1', Score(precision=0.0, recall=0.0, fmeasure=0.0)],\n",
       "  ['rouge2', Score(precision=0.0, recall=0.0, fmeasure=0.0)],\n",
       "  ['rougeL', Score(precision=0, recall=0, fmeasure=0)]],\n",
       " [['rouge1', Score(precision=0.0, recall=0.0, fmeasure=0.0)],\n",
       "  ['rouge2', Score(precision=0.0, recall=0.0, fmeasure=0.0)],\n",
       "  ['rougeL', Score(precision=0.0, recall=0.0, fmeasure=0.0)]]]"
      ]
     },
     "execution_count": 134,
     "metadata": {},
     "output_type": "execute_result"
    }
   ],
   "source": [
    "results"
   ]
  },
  {
   "cell_type": "code",
   "execution_count": 190,
   "metadata": {},
   "outputs": [],
   "source": [
    "original_len = [236, 1109, 801, 1040, 1004, 1554, 1036, 787, 781, 641, 751, 1010, 1132, 553, 1036, 670, 787, 376]\n",
    "leveshtein_distance = [63, 35, 25, 57, 71, 198, 16, 11, 40, 102, 65, 30, 26, 0, 65, 118, 76, 0 ]"
   ]
  },
  {
   "cell_type": "code",
   "execution_count": 199,
   "metadata": {},
   "outputs": [],
   "source": [
    "Avg = []\n",
    "for a in zip(original_len, leveshtein_distance):\n",
    "    Avg.append(a[1]/a[0])"
   ]
  },
  {
   "cell_type": "code",
   "execution_count": 200,
   "metadata": {},
   "outputs": [
    {
     "data": {
      "text/plain": [
       "0.07205968617864018"
      ]
     },
     "execution_count": 200,
     "metadata": {},
     "output_type": "execute_result"
    }
   ],
   "source": [
    "sum(Avg)/len(Avg)"
   ]
  },
  {
   "cell_type": "code",
   "execution_count": 202,
   "metadata": {},
   "outputs": [
    {
     "data": {
      "text/plain": [
       "0.2669491525423729"
      ]
     },
     "execution_count": 202,
     "metadata": {},
     "output_type": "execute_result"
    }
   ],
   "source": [
    "max(Avg)"
   ]
  },
  {
   "cell_type": "code",
   "execution_count": 203,
   "metadata": {},
   "outputs": [
    {
     "data": {
      "text/plain": [
       "[0.2669491525423729,\n",
       " 0.031559963931469794,\n",
       " 0.031210986267166042,\n",
       " 0.05480769230769231,\n",
       " 0.07071713147410359,\n",
       " 0.1274131274131274,\n",
       " 0.015444015444015444,\n",
       " 0.01397712833545108,\n",
       " 0.05121638924455826,\n",
       " 0.15912636505460218,\n",
       " 0.08655126498002663,\n",
       " 0.0297029702970297,\n",
       " 0.022968197879858657,\n",
       " 0.0,\n",
       " 0.06274131274131274,\n",
       " 0.1761194029850746,\n",
       " 0.096569250317662,\n",
       " 0.0]"
      ]
     },
     "execution_count": 203,
     "metadata": {},
     "output_type": "execute_result"
    }
   ],
   "source": [
    "Avg"
   ]
  },
  {
   "cell_type": "code",
   "execution_count": null,
   "metadata": {},
   "outputs": [],
   "source": []
  }
 ],
 "metadata": {
  "kernelspec": {
   "display_name": "venv",
   "language": "python",
   "name": "python3"
  },
  "language_info": {
   "codemirror_mode": {
    "name": "ipython",
    "version": 3
   },
   "file_extension": ".py",
   "mimetype": "text/x-python",
   "name": "python",
   "nbconvert_exporter": "python",
   "pygments_lexer": "ipython3",
   "version": "3.11.5"
  },
  "orig_nbformat": 4
 },
 "nbformat": 4,
 "nbformat_minor": 2
}
